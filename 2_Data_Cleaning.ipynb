{
 "cells": [
  {
   "cell_type": "markdown",
   "id": "fdcf754c",
   "metadata": {},
   "source": [
    "# Import the dataset"
   ]
  },
  {
   "cell_type": "code",
   "execution_count": 2,
   "id": "0b1310d6",
   "metadata": {},
   "outputs": [],
   "source": [
    "import pandas as pd\n",
    "import numpy as np\n",
    "pd.options.display.max_columns = 30"
   ]
  },
  {
   "cell_type": "code",
   "execution_count": 3,
   "id": "f252002f",
   "metadata": {},
   "outputs": [],
   "source": [
    "df = pd.read_csv(\"movies_metadata.csv\",low_memory=False)"
   ]
  },
  {
   "cell_type": "code",
   "execution_count": 4,
   "id": "6cdde2eb",
   "metadata": {},
   "outputs": [
    {
     "data": {
      "text/html": [
       "<div>\n",
       "<style scoped>\n",
       "    .dataframe tbody tr th:only-of-type {\n",
       "        vertical-align: middle;\n",
       "    }\n",
       "\n",
       "    .dataframe tbody tr th {\n",
       "        vertical-align: top;\n",
       "    }\n",
       "\n",
       "    .dataframe thead th {\n",
       "        text-align: right;\n",
       "    }\n",
       "</style>\n",
       "<table border=\"1\" class=\"dataframe\">\n",
       "  <thead>\n",
       "    <tr style=\"text-align: right;\">\n",
       "      <th></th>\n",
       "      <th>adult</th>\n",
       "      <th>belongs_to_collection</th>\n",
       "      <th>budget</th>\n",
       "      <th>genres</th>\n",
       "      <th>homepage</th>\n",
       "      <th>id</th>\n",
       "      <th>imdb_id</th>\n",
       "      <th>original_language</th>\n",
       "      <th>original_title</th>\n",
       "      <th>overview</th>\n",
       "      <th>popularity</th>\n",
       "      <th>poster_path</th>\n",
       "      <th>production_companies</th>\n",
       "      <th>production_countries</th>\n",
       "      <th>release_date</th>\n",
       "      <th>revenue</th>\n",
       "      <th>runtime</th>\n",
       "      <th>spoken_languages</th>\n",
       "      <th>status</th>\n",
       "      <th>tagline</th>\n",
       "      <th>title</th>\n",
       "      <th>video</th>\n",
       "      <th>vote_average</th>\n",
       "      <th>vote_count</th>\n",
       "    </tr>\n",
       "  </thead>\n",
       "  <tbody>\n",
       "    <tr>\n",
       "      <th>0</th>\n",
       "      <td>False</td>\n",
       "      <td>{'id': 10194, 'name': 'Toy Story Collection', ...</td>\n",
       "      <td>30000000</td>\n",
       "      <td>[{'id': 16, 'name': 'Animation'}, {'id': 35, '...</td>\n",
       "      <td>http://toystory.disney.com/toy-story</td>\n",
       "      <td>862</td>\n",
       "      <td>tt0114709</td>\n",
       "      <td>en</td>\n",
       "      <td>Toy Story</td>\n",
       "      <td>Led by Woody, Andy's toys live happily in his ...</td>\n",
       "      <td>21.946943</td>\n",
       "      <td>/rhIRbceoE9lR4veEXuwCC2wARtG.jpg</td>\n",
       "      <td>[{'name': 'Pixar Animation Studios', 'id': 3}]</td>\n",
       "      <td>[{'iso_3166_1': 'US', 'name': 'United States o...</td>\n",
       "      <td>1995-10-30</td>\n",
       "      <td>373554033.0</td>\n",
       "      <td>81.0</td>\n",
       "      <td>[{'iso_639_1': 'en', 'name': 'English'}]</td>\n",
       "      <td>Released</td>\n",
       "      <td>NaN</td>\n",
       "      <td>Toy Story</td>\n",
       "      <td>False</td>\n",
       "      <td>7.7</td>\n",
       "      <td>5415.0</td>\n",
       "    </tr>\n",
       "    <tr>\n",
       "      <th>1</th>\n",
       "      <td>False</td>\n",
       "      <td>NaN</td>\n",
       "      <td>65000000</td>\n",
       "      <td>[{'id': 12, 'name': 'Adventure'}, {'id': 14, '...</td>\n",
       "      <td>NaN</td>\n",
       "      <td>8844</td>\n",
       "      <td>tt0113497</td>\n",
       "      <td>en</td>\n",
       "      <td>Jumanji</td>\n",
       "      <td>When siblings Judy and Peter discover an encha...</td>\n",
       "      <td>17.015539</td>\n",
       "      <td>/vzmL6fP7aPKNKPRTFnZmiUfciyV.jpg</td>\n",
       "      <td>[{'name': 'TriStar Pictures', 'id': 559}, {'na...</td>\n",
       "      <td>[{'iso_3166_1': 'US', 'name': 'United States o...</td>\n",
       "      <td>1995-12-15</td>\n",
       "      <td>262797249.0</td>\n",
       "      <td>104.0</td>\n",
       "      <td>[{'iso_639_1': 'en', 'name': 'English'}, {'iso...</td>\n",
       "      <td>Released</td>\n",
       "      <td>Roll the dice and unleash the excitement!</td>\n",
       "      <td>Jumanji</td>\n",
       "      <td>False</td>\n",
       "      <td>6.9</td>\n",
       "      <td>2413.0</td>\n",
       "    </tr>\n",
       "    <tr>\n",
       "      <th>2</th>\n",
       "      <td>False</td>\n",
       "      <td>{'id': 119050, 'name': 'Grumpy Old Men Collect...</td>\n",
       "      <td>0</td>\n",
       "      <td>[{'id': 10749, 'name': 'Romance'}, {'id': 35, ...</td>\n",
       "      <td>NaN</td>\n",
       "      <td>15602</td>\n",
       "      <td>tt0113228</td>\n",
       "      <td>en</td>\n",
       "      <td>Grumpier Old Men</td>\n",
       "      <td>A family wedding reignites the ancient feud be...</td>\n",
       "      <td>11.7129</td>\n",
       "      <td>/6ksm1sjKMFLbO7UY2i6G1ju9SML.jpg</td>\n",
       "      <td>[{'name': 'Warner Bros.', 'id': 6194}, {'name'...</td>\n",
       "      <td>[{'iso_3166_1': 'US', 'name': 'United States o...</td>\n",
       "      <td>1995-12-22</td>\n",
       "      <td>0.0</td>\n",
       "      <td>101.0</td>\n",
       "      <td>[{'iso_639_1': 'en', 'name': 'English'}]</td>\n",
       "      <td>Released</td>\n",
       "      <td>Still Yelling. Still Fighting. Still Ready for...</td>\n",
       "      <td>Grumpier Old Men</td>\n",
       "      <td>False</td>\n",
       "      <td>6.5</td>\n",
       "      <td>92.0</td>\n",
       "    </tr>\n",
       "    <tr>\n",
       "      <th>3</th>\n",
       "      <td>False</td>\n",
       "      <td>NaN</td>\n",
       "      <td>16000000</td>\n",
       "      <td>[{'id': 35, 'name': 'Comedy'}, {'id': 18, 'nam...</td>\n",
       "      <td>NaN</td>\n",
       "      <td>31357</td>\n",
       "      <td>tt0114885</td>\n",
       "      <td>en</td>\n",
       "      <td>Waiting to Exhale</td>\n",
       "      <td>Cheated on, mistreated and stepped on, the wom...</td>\n",
       "      <td>3.859495</td>\n",
       "      <td>/16XOMpEaLWkrcPqSQqhTmeJuqQl.jpg</td>\n",
       "      <td>[{'name': 'Twentieth Century Fox Film Corporat...</td>\n",
       "      <td>[{'iso_3166_1': 'US', 'name': 'United States o...</td>\n",
       "      <td>1995-12-22</td>\n",
       "      <td>81452156.0</td>\n",
       "      <td>127.0</td>\n",
       "      <td>[{'iso_639_1': 'en', 'name': 'English'}]</td>\n",
       "      <td>Released</td>\n",
       "      <td>Friends are the people who let you be yourself...</td>\n",
       "      <td>Waiting to Exhale</td>\n",
       "      <td>False</td>\n",
       "      <td>6.1</td>\n",
       "      <td>34.0</td>\n",
       "    </tr>\n",
       "    <tr>\n",
       "      <th>4</th>\n",
       "      <td>False</td>\n",
       "      <td>{'id': 96871, 'name': 'Father of the Bride Col...</td>\n",
       "      <td>0</td>\n",
       "      <td>[{'id': 35, 'name': 'Comedy'}]</td>\n",
       "      <td>NaN</td>\n",
       "      <td>11862</td>\n",
       "      <td>tt0113041</td>\n",
       "      <td>en</td>\n",
       "      <td>Father of the Bride Part II</td>\n",
       "      <td>Just when George Banks has recovered from his ...</td>\n",
       "      <td>8.387519</td>\n",
       "      <td>/e64sOI48hQXyru7naBFyssKFxVd.jpg</td>\n",
       "      <td>[{'name': 'Sandollar Productions', 'id': 5842}...</td>\n",
       "      <td>[{'iso_3166_1': 'US', 'name': 'United States o...</td>\n",
       "      <td>1995-02-10</td>\n",
       "      <td>76578911.0</td>\n",
       "      <td>106.0</td>\n",
       "      <td>[{'iso_639_1': 'en', 'name': 'English'}]</td>\n",
       "      <td>Released</td>\n",
       "      <td>Just When His World Is Back To Normal... He's ...</td>\n",
       "      <td>Father of the Bride Part II</td>\n",
       "      <td>False</td>\n",
       "      <td>5.7</td>\n",
       "      <td>173.0</td>\n",
       "    </tr>\n",
       "    <tr>\n",
       "      <th>...</th>\n",
       "      <td>...</td>\n",
       "      <td>...</td>\n",
       "      <td>...</td>\n",
       "      <td>...</td>\n",
       "      <td>...</td>\n",
       "      <td>...</td>\n",
       "      <td>...</td>\n",
       "      <td>...</td>\n",
       "      <td>...</td>\n",
       "      <td>...</td>\n",
       "      <td>...</td>\n",
       "      <td>...</td>\n",
       "      <td>...</td>\n",
       "      <td>...</td>\n",
       "      <td>...</td>\n",
       "      <td>...</td>\n",
       "      <td>...</td>\n",
       "      <td>...</td>\n",
       "      <td>...</td>\n",
       "      <td>...</td>\n",
       "      <td>...</td>\n",
       "      <td>...</td>\n",
       "      <td>...</td>\n",
       "      <td>...</td>\n",
       "    </tr>\n",
       "    <tr>\n",
       "      <th>45461</th>\n",
       "      <td>False</td>\n",
       "      <td>NaN</td>\n",
       "      <td>0</td>\n",
       "      <td>[{'id': 18, 'name': 'Drama'}, {'id': 10751, 'n...</td>\n",
       "      <td>http://www.imdb.com/title/tt6209470/</td>\n",
       "      <td>439050</td>\n",
       "      <td>tt6209470</td>\n",
       "      <td>fa</td>\n",
       "      <td>رگ خواب</td>\n",
       "      <td>Rising and falling between a man and woman.</td>\n",
       "      <td>0.072051</td>\n",
       "      <td>/jldsYflnId4tTWPx8es3uzsB1I8.jpg</td>\n",
       "      <td>[]</td>\n",
       "      <td>[{'iso_3166_1': 'IR', 'name': 'Iran'}]</td>\n",
       "      <td>NaN</td>\n",
       "      <td>0.0</td>\n",
       "      <td>90.0</td>\n",
       "      <td>[{'iso_639_1': 'fa', 'name': 'فارسی'}]</td>\n",
       "      <td>Released</td>\n",
       "      <td>Rising and falling between a man and woman</td>\n",
       "      <td>Subdue</td>\n",
       "      <td>False</td>\n",
       "      <td>4.0</td>\n",
       "      <td>1.0</td>\n",
       "    </tr>\n",
       "    <tr>\n",
       "      <th>45462</th>\n",
       "      <td>False</td>\n",
       "      <td>NaN</td>\n",
       "      <td>0</td>\n",
       "      <td>[{'id': 18, 'name': 'Drama'}]</td>\n",
       "      <td>NaN</td>\n",
       "      <td>111109</td>\n",
       "      <td>tt2028550</td>\n",
       "      <td>tl</td>\n",
       "      <td>Siglo ng Pagluluwal</td>\n",
       "      <td>An artist struggles to finish his work while a...</td>\n",
       "      <td>0.178241</td>\n",
       "      <td>/xZkmxsNmYXJbKVsTRLLx3pqGHx7.jpg</td>\n",
       "      <td>[{'name': 'Sine Olivia', 'id': 19653}]</td>\n",
       "      <td>[{'iso_3166_1': 'PH', 'name': 'Philippines'}]</td>\n",
       "      <td>2011-11-17</td>\n",
       "      <td>0.0</td>\n",
       "      <td>360.0</td>\n",
       "      <td>[{'iso_639_1': 'tl', 'name': ''}]</td>\n",
       "      <td>Released</td>\n",
       "      <td>NaN</td>\n",
       "      <td>Century of Birthing</td>\n",
       "      <td>False</td>\n",
       "      <td>9.0</td>\n",
       "      <td>3.0</td>\n",
       "    </tr>\n",
       "    <tr>\n",
       "      <th>45463</th>\n",
       "      <td>False</td>\n",
       "      <td>NaN</td>\n",
       "      <td>0</td>\n",
       "      <td>[{'id': 28, 'name': 'Action'}, {'id': 18, 'nam...</td>\n",
       "      <td>NaN</td>\n",
       "      <td>67758</td>\n",
       "      <td>tt0303758</td>\n",
       "      <td>en</td>\n",
       "      <td>Betrayal</td>\n",
       "      <td>When one of her hits goes wrong, a professiona...</td>\n",
       "      <td>0.903007</td>\n",
       "      <td>/d5bX92nDsISNhu3ZT69uHwmfCGw.jpg</td>\n",
       "      <td>[{'name': 'American World Pictures', 'id': 6165}]</td>\n",
       "      <td>[{'iso_3166_1': 'US', 'name': 'United States o...</td>\n",
       "      <td>2003-08-01</td>\n",
       "      <td>0.0</td>\n",
       "      <td>90.0</td>\n",
       "      <td>[{'iso_639_1': 'en', 'name': 'English'}]</td>\n",
       "      <td>Released</td>\n",
       "      <td>A deadly game of wits.</td>\n",
       "      <td>Betrayal</td>\n",
       "      <td>False</td>\n",
       "      <td>3.8</td>\n",
       "      <td>6.0</td>\n",
       "    </tr>\n",
       "    <tr>\n",
       "      <th>45464</th>\n",
       "      <td>False</td>\n",
       "      <td>NaN</td>\n",
       "      <td>0</td>\n",
       "      <td>[]</td>\n",
       "      <td>NaN</td>\n",
       "      <td>227506</td>\n",
       "      <td>tt0008536</td>\n",
       "      <td>en</td>\n",
       "      <td>Satana likuyushchiy</td>\n",
       "      <td>In a small town live two brothers, one a minis...</td>\n",
       "      <td>0.003503</td>\n",
       "      <td>/aorBPO7ak8e8iJKT5OcqYxU3jlK.jpg</td>\n",
       "      <td>[{'name': 'Yermoliev', 'id': 88753}]</td>\n",
       "      <td>[{'iso_3166_1': 'RU', 'name': 'Russia'}]</td>\n",
       "      <td>1917-10-21</td>\n",
       "      <td>0.0</td>\n",
       "      <td>87.0</td>\n",
       "      <td>[]</td>\n",
       "      <td>Released</td>\n",
       "      <td>NaN</td>\n",
       "      <td>Satan Triumphant</td>\n",
       "      <td>False</td>\n",
       "      <td>0.0</td>\n",
       "      <td>0.0</td>\n",
       "    </tr>\n",
       "    <tr>\n",
       "      <th>45465</th>\n",
       "      <td>False</td>\n",
       "      <td>NaN</td>\n",
       "      <td>0</td>\n",
       "      <td>[]</td>\n",
       "      <td>NaN</td>\n",
       "      <td>461257</td>\n",
       "      <td>tt6980792</td>\n",
       "      <td>en</td>\n",
       "      <td>Queerama</td>\n",
       "      <td>50 years after decriminalisation of homosexual...</td>\n",
       "      <td>0.163015</td>\n",
       "      <td>/s5UkZt6NTsrS7ZF0Rh8nzupRlIU.jpg</td>\n",
       "      <td>[]</td>\n",
       "      <td>[{'iso_3166_1': 'GB', 'name': 'United Kingdom'}]</td>\n",
       "      <td>2017-06-09</td>\n",
       "      <td>0.0</td>\n",
       "      <td>75.0</td>\n",
       "      <td>[{'iso_639_1': 'en', 'name': 'English'}]</td>\n",
       "      <td>Released</td>\n",
       "      <td>NaN</td>\n",
       "      <td>Queerama</td>\n",
       "      <td>False</td>\n",
       "      <td>0.0</td>\n",
       "      <td>0.0</td>\n",
       "    </tr>\n",
       "  </tbody>\n",
       "</table>\n",
       "<p>45466 rows × 24 columns</p>\n",
       "</div>"
      ],
      "text/plain": [
       "       adult                              belongs_to_collection    budget  \\\n",
       "0      False  {'id': 10194, 'name': 'Toy Story Collection', ...  30000000   \n",
       "1      False                                                NaN  65000000   \n",
       "2      False  {'id': 119050, 'name': 'Grumpy Old Men Collect...         0   \n",
       "3      False                                                NaN  16000000   \n",
       "4      False  {'id': 96871, 'name': 'Father of the Bride Col...         0   \n",
       "...      ...                                                ...       ...   \n",
       "45461  False                                                NaN         0   \n",
       "45462  False                                                NaN         0   \n",
       "45463  False                                                NaN         0   \n",
       "45464  False                                                NaN         0   \n",
       "45465  False                                                NaN         0   \n",
       "\n",
       "                                                  genres  \\\n",
       "0      [{'id': 16, 'name': 'Animation'}, {'id': 35, '...   \n",
       "1      [{'id': 12, 'name': 'Adventure'}, {'id': 14, '...   \n",
       "2      [{'id': 10749, 'name': 'Romance'}, {'id': 35, ...   \n",
       "3      [{'id': 35, 'name': 'Comedy'}, {'id': 18, 'nam...   \n",
       "4                         [{'id': 35, 'name': 'Comedy'}]   \n",
       "...                                                  ...   \n",
       "45461  [{'id': 18, 'name': 'Drama'}, {'id': 10751, 'n...   \n",
       "45462                      [{'id': 18, 'name': 'Drama'}]   \n",
       "45463  [{'id': 28, 'name': 'Action'}, {'id': 18, 'nam...   \n",
       "45464                                                 []   \n",
       "45465                                                 []   \n",
       "\n",
       "                                   homepage      id    imdb_id  \\\n",
       "0      http://toystory.disney.com/toy-story     862  tt0114709   \n",
       "1                                       NaN    8844  tt0113497   \n",
       "2                                       NaN   15602  tt0113228   \n",
       "3                                       NaN   31357  tt0114885   \n",
       "4                                       NaN   11862  tt0113041   \n",
       "...                                     ...     ...        ...   \n",
       "45461  http://www.imdb.com/title/tt6209470/  439050  tt6209470   \n",
       "45462                                   NaN  111109  tt2028550   \n",
       "45463                                   NaN   67758  tt0303758   \n",
       "45464                                   NaN  227506  tt0008536   \n",
       "45465                                   NaN  461257  tt6980792   \n",
       "\n",
       "      original_language               original_title  \\\n",
       "0                    en                    Toy Story   \n",
       "1                    en                      Jumanji   \n",
       "2                    en             Grumpier Old Men   \n",
       "3                    en            Waiting to Exhale   \n",
       "4                    en  Father of the Bride Part II   \n",
       "...                 ...                          ...   \n",
       "45461                fa                      رگ خواب   \n",
       "45462                tl          Siglo ng Pagluluwal   \n",
       "45463                en                     Betrayal   \n",
       "45464                en          Satana likuyushchiy   \n",
       "45465                en                     Queerama   \n",
       "\n",
       "                                                overview popularity  \\\n",
       "0      Led by Woody, Andy's toys live happily in his ...  21.946943   \n",
       "1      When siblings Judy and Peter discover an encha...  17.015539   \n",
       "2      A family wedding reignites the ancient feud be...    11.7129   \n",
       "3      Cheated on, mistreated and stepped on, the wom...   3.859495   \n",
       "4      Just when George Banks has recovered from his ...   8.387519   \n",
       "...                                                  ...        ...   \n",
       "45461        Rising and falling between a man and woman.   0.072051   \n",
       "45462  An artist struggles to finish his work while a...   0.178241   \n",
       "45463  When one of her hits goes wrong, a professiona...   0.903007   \n",
       "45464  In a small town live two brothers, one a minis...   0.003503   \n",
       "45465  50 years after decriminalisation of homosexual...   0.163015   \n",
       "\n",
       "                            poster_path  \\\n",
       "0      /rhIRbceoE9lR4veEXuwCC2wARtG.jpg   \n",
       "1      /vzmL6fP7aPKNKPRTFnZmiUfciyV.jpg   \n",
       "2      /6ksm1sjKMFLbO7UY2i6G1ju9SML.jpg   \n",
       "3      /16XOMpEaLWkrcPqSQqhTmeJuqQl.jpg   \n",
       "4      /e64sOI48hQXyru7naBFyssKFxVd.jpg   \n",
       "...                                 ...   \n",
       "45461  /jldsYflnId4tTWPx8es3uzsB1I8.jpg   \n",
       "45462  /xZkmxsNmYXJbKVsTRLLx3pqGHx7.jpg   \n",
       "45463  /d5bX92nDsISNhu3ZT69uHwmfCGw.jpg   \n",
       "45464  /aorBPO7ak8e8iJKT5OcqYxU3jlK.jpg   \n",
       "45465  /s5UkZt6NTsrS7ZF0Rh8nzupRlIU.jpg   \n",
       "\n",
       "                                    production_companies  \\\n",
       "0         [{'name': 'Pixar Animation Studios', 'id': 3}]   \n",
       "1      [{'name': 'TriStar Pictures', 'id': 559}, {'na...   \n",
       "2      [{'name': 'Warner Bros.', 'id': 6194}, {'name'...   \n",
       "3      [{'name': 'Twentieth Century Fox Film Corporat...   \n",
       "4      [{'name': 'Sandollar Productions', 'id': 5842}...   \n",
       "...                                                  ...   \n",
       "45461                                                 []   \n",
       "45462             [{'name': 'Sine Olivia', 'id': 19653}]   \n",
       "45463  [{'name': 'American World Pictures', 'id': 6165}]   \n",
       "45464               [{'name': 'Yermoliev', 'id': 88753}]   \n",
       "45465                                                 []   \n",
       "\n",
       "                                    production_countries release_date  \\\n",
       "0      [{'iso_3166_1': 'US', 'name': 'United States o...   1995-10-30   \n",
       "1      [{'iso_3166_1': 'US', 'name': 'United States o...   1995-12-15   \n",
       "2      [{'iso_3166_1': 'US', 'name': 'United States o...   1995-12-22   \n",
       "3      [{'iso_3166_1': 'US', 'name': 'United States o...   1995-12-22   \n",
       "4      [{'iso_3166_1': 'US', 'name': 'United States o...   1995-02-10   \n",
       "...                                                  ...          ...   \n",
       "45461             [{'iso_3166_1': 'IR', 'name': 'Iran'}]          NaN   \n",
       "45462      [{'iso_3166_1': 'PH', 'name': 'Philippines'}]   2011-11-17   \n",
       "45463  [{'iso_3166_1': 'US', 'name': 'United States o...   2003-08-01   \n",
       "45464           [{'iso_3166_1': 'RU', 'name': 'Russia'}]   1917-10-21   \n",
       "45465   [{'iso_3166_1': 'GB', 'name': 'United Kingdom'}]   2017-06-09   \n",
       "\n",
       "           revenue  runtime  \\\n",
       "0      373554033.0     81.0   \n",
       "1      262797249.0    104.0   \n",
       "2              0.0    101.0   \n",
       "3       81452156.0    127.0   \n",
       "4       76578911.0    106.0   \n",
       "...            ...      ...   \n",
       "45461          0.0     90.0   \n",
       "45462          0.0    360.0   \n",
       "45463          0.0     90.0   \n",
       "45464          0.0     87.0   \n",
       "45465          0.0     75.0   \n",
       "\n",
       "                                        spoken_languages    status  \\\n",
       "0               [{'iso_639_1': 'en', 'name': 'English'}]  Released   \n",
       "1      [{'iso_639_1': 'en', 'name': 'English'}, {'iso...  Released   \n",
       "2               [{'iso_639_1': 'en', 'name': 'English'}]  Released   \n",
       "3               [{'iso_639_1': 'en', 'name': 'English'}]  Released   \n",
       "4               [{'iso_639_1': 'en', 'name': 'English'}]  Released   \n",
       "...                                                  ...       ...   \n",
       "45461             [{'iso_639_1': 'fa', 'name': 'فارسی'}]  Released   \n",
       "45462                  [{'iso_639_1': 'tl', 'name': ''}]  Released   \n",
       "45463           [{'iso_639_1': 'en', 'name': 'English'}]  Released   \n",
       "45464                                                 []  Released   \n",
       "45465           [{'iso_639_1': 'en', 'name': 'English'}]  Released   \n",
       "\n",
       "                                                 tagline  \\\n",
       "0                                                    NaN   \n",
       "1              Roll the dice and unleash the excitement!   \n",
       "2      Still Yelling. Still Fighting. Still Ready for...   \n",
       "3      Friends are the people who let you be yourself...   \n",
       "4      Just When His World Is Back To Normal... He's ...   \n",
       "...                                                  ...   \n",
       "45461         Rising and falling between a man and woman   \n",
       "45462                                                NaN   \n",
       "45463                             A deadly game of wits.   \n",
       "45464                                                NaN   \n",
       "45465                                                NaN   \n",
       "\n",
       "                             title  video  vote_average  vote_count  \n",
       "0                        Toy Story  False           7.7      5415.0  \n",
       "1                          Jumanji  False           6.9      2413.0  \n",
       "2                 Grumpier Old Men  False           6.5        92.0  \n",
       "3                Waiting to Exhale  False           6.1        34.0  \n",
       "4      Father of the Bride Part II  False           5.7       173.0  \n",
       "...                            ...    ...           ...         ...  \n",
       "45461                       Subdue  False           4.0         1.0  \n",
       "45462          Century of Birthing  False           9.0         3.0  \n",
       "45463                     Betrayal  False           3.8         6.0  \n",
       "45464             Satan Triumphant  False           0.0         0.0  \n",
       "45465                     Queerama  False           0.0         0.0  \n",
       "\n",
       "[45466 rows x 24 columns]"
      ]
     },
     "execution_count": 4,
     "metadata": {},
     "output_type": "execute_result"
    }
   ],
   "source": [
    "# we have over 45K columns\n",
    "df"
   ]
  },
  {
   "cell_type": "code",
   "execution_count": 5,
   "id": "53dd533b",
   "metadata": {},
   "outputs": [
    {
     "name": "stdout",
     "output_type": "stream",
     "text": [
      "<class 'pandas.core.frame.DataFrame'>\n",
      "RangeIndex: 45466 entries, 0 to 45465\n",
      "Data columns (total 24 columns):\n",
      " #   Column                 Non-Null Count  Dtype  \n",
      "---  ------                 --------------  -----  \n",
      " 0   adult                  45466 non-null  object \n",
      " 1   belongs_to_collection  4494 non-null   object \n",
      " 2   budget                 45466 non-null  object \n",
      " 3   genres                 45466 non-null  object \n",
      " 4   homepage               7782 non-null   object \n",
      " 5   id                     45466 non-null  object \n",
      " 6   imdb_id                45449 non-null  object \n",
      " 7   original_language      45455 non-null  object \n",
      " 8   original_title         45466 non-null  object \n",
      " 9   overview               44512 non-null  object \n",
      " 10  popularity             45461 non-null  object \n",
      " 11  poster_path            45080 non-null  object \n",
      " 12  production_companies   45463 non-null  object \n",
      " 13  production_countries   45463 non-null  object \n",
      " 14  release_date           45379 non-null  object \n",
      " 15  revenue                45460 non-null  float64\n",
      " 16  runtime                45203 non-null  float64\n",
      " 17  spoken_languages       45460 non-null  object \n",
      " 18  status                 45379 non-null  object \n",
      " 19  tagline                20412 non-null  object \n",
      " 20  title                  45460 non-null  object \n",
      " 21  video                  45460 non-null  object \n",
      " 22  vote_average           45460 non-null  float64\n",
      " 23  vote_count             45460 non-null  float64\n",
      "dtypes: float64(4), object(20)\n",
      "memory usage: 8.3+ MB\n"
     ]
    }
   ],
   "source": [
    "# let's have a look at some meta inforamtion about the data :\n",
    "# data type \"object\" means \"mixed\" data types\n",
    "df.info()"
   ]
  },
  {
   "cell_type": "code",
   "execution_count": 6,
   "id": "8ffb7541",
   "metadata": {},
   "outputs": [
    {
     "data": {
      "text/plain": [
       "\"[{'id': 16, 'name': 'Animation'}, {'id': 35, 'name': 'Comedy'}, {'id': 10751, 'name': 'Family'}]\""
      ]
     },
     "execution_count": 6,
     "metadata": {},
     "output_type": "execute_result"
    }
   ],
   "source": [
    "df.genres[0]"
   ]
  },
  {
   "cell_type": "code",
   "execution_count": 7,
   "id": "7458c466",
   "metadata": {},
   "outputs": [
    {
     "data": {
      "text/plain": [
       "\"{'id': 10194, 'name': 'Toy Story Collection', 'poster_path': '/7G9915LfUQ2lVfwMEEhDsn3kT4B.jpg', 'backdrop_path': '/9FBwqcd9IRruEDUrTdcaafOMKUq.jpg'}\""
      ]
     },
     "execution_count": 7,
     "metadata": {},
     "output_type": "execute_result"
    }
   ],
   "source": [
    "df.belongs_to_collection[0]"
   ]
  },
  {
   "cell_type": "markdown",
   "id": "a3738515",
   "metadata": {},
   "source": [
    "# Dropping irrelevant columns"
   ]
  },
  {
   "cell_type": "code",
   "execution_count": 8,
   "id": "44bf4772",
   "metadata": {},
   "outputs": [
    {
     "name": "stdout",
     "output_type": "stream",
     "text": [
      "<class 'pandas.core.frame.DataFrame'>\n",
      "RangeIndex: 45466 entries, 0 to 45465\n",
      "Data columns (total 24 columns):\n",
      " #   Column                 Non-Null Count  Dtype  \n",
      "---  ------                 --------------  -----  \n",
      " 0   adult                  45466 non-null  object \n",
      " 1   belongs_to_collection  4494 non-null   object \n",
      " 2   budget                 45466 non-null  object \n",
      " 3   genres                 45466 non-null  object \n",
      " 4   homepage               7782 non-null   object \n",
      " 5   id                     45466 non-null  object \n",
      " 6   imdb_id                45449 non-null  object \n",
      " 7   original_language      45455 non-null  object \n",
      " 8   original_title         45466 non-null  object \n",
      " 9   overview               44512 non-null  object \n",
      " 10  popularity             45461 non-null  object \n",
      " 11  poster_path            45080 non-null  object \n",
      " 12  production_companies   45463 non-null  object \n",
      " 13  production_countries   45463 non-null  object \n",
      " 14  release_date           45379 non-null  object \n",
      " 15  revenue                45460 non-null  float64\n",
      " 16  runtime                45203 non-null  float64\n",
      " 17  spoken_languages       45460 non-null  object \n",
      " 18  status                 45379 non-null  object \n",
      " 19  tagline                20412 non-null  object \n",
      " 20  title                  45460 non-null  object \n",
      " 21  video                  45460 non-null  object \n",
      " 22  vote_average           45460 non-null  float64\n",
      " 23  vote_count             45460 non-null  float64\n",
      "dtypes: float64(4), object(20)\n",
      "memory usage: 8.3+ MB\n"
     ]
    }
   ],
   "source": [
    "df.info()"
   ]
  },
  {
   "cell_type": "markdown",
   "id": "2a1294b2",
   "metadata": {},
   "source": [
    "### adult column"
   ]
  },
  {
   "cell_type": "code",
   "execution_count": 9,
   "id": "b6a9983e",
   "metadata": {},
   "outputs": [
    {
     "data": {
      "text/plain": [
       "False                                                                                                                             45454\n",
       "True                                                                                                                                  9\n",
       " - Written by Ørnås                                                                                                                   1\n",
       " Rune Balot goes to a casino connected to the October corporation to try to wrap up her case once and for all.                        1\n",
       " Avalanche Sharks tells the story of a bikini contest that turns into a horrifying affair when it is hit by a shark avalanche.        1\n",
       "Name: adult, dtype: int64"
      ]
     },
     "execution_count": 9,
     "metadata": {},
     "output_type": "execute_result"
    }
   ],
   "source": [
    "# let's have a look at the \"adult\" column :\n",
    "# we can see that 99% of the values are False \n",
    "# the other values are not important for our analysis \n",
    "# basically explaining about if the movie script was re-edited\n",
    "df.adult.value_counts()"
   ]
  },
  {
   "cell_type": "code",
   "execution_count": 10,
   "id": "5754b510",
   "metadata": {},
   "outputs": [],
   "source": [
    "# so we drop the column and all the other irrelevant columns:\n",
    "df.drop(columns = ['adult'], inplace = True)"
   ]
  },
  {
   "cell_type": "markdown",
   "id": "85cbce09",
   "metadata": {},
   "source": [
    "### imdb_id column"
   ]
  },
  {
   "cell_type": "code",
   "execution_count": 11,
   "id": "2f30476b",
   "metadata": {},
   "outputs": [],
   "source": [
    "df.drop(columns = ['imdb_id'], inplace = True)"
   ]
  },
  {
   "cell_type": "markdown",
   "id": "993ba4ce",
   "metadata": {},
   "source": [
    "### video column"
   ]
  },
  {
   "cell_type": "code",
   "execution_count": 12,
   "id": "7582ba5a",
   "metadata": {},
   "outputs": [],
   "source": [
    "df.drop(columns = ['original_title'], inplace = True)"
   ]
  },
  {
   "cell_type": "markdown",
   "id": "aa9006db",
   "metadata": {},
   "source": [
    "### adult column"
   ]
  },
  {
   "cell_type": "code",
   "execution_count": 13,
   "id": "bec7c170",
   "metadata": {},
   "outputs": [],
   "source": [
    "df.drop(columns = ['video'], inplace = True)"
   ]
  },
  {
   "cell_type": "markdown",
   "id": "322d8121",
   "metadata": {},
   "source": [
    "### homepage column"
   ]
  },
  {
   "cell_type": "code",
   "execution_count": 14,
   "id": "ff78a6db",
   "metadata": {},
   "outputs": [],
   "source": [
    "df.drop(columns = ['homepage'], inplace = True)"
   ]
  },
  {
   "cell_type": "markdown",
   "id": "1ad6ee60",
   "metadata": {},
   "source": [
    "# Handling stringified JSON columns (P1)"
   ]
  },
  {
   "cell_type": "code",
   "execution_count": 15,
   "id": "3ca1f9e5",
   "metadata": {},
   "outputs": [],
   "source": [
    "import json\n",
    "import ast"
   ]
  },
  {
   "cell_type": "code",
   "execution_count": 16,
   "id": "a54ec015",
   "metadata": {},
   "outputs": [],
   "source": [
    "# specify the columns that has JSON type data :\n",
    "json_col = [\"belongs_to_collection\", \"genres\", \"production_companies\",\n",
    "           \"production_countries\", \"spoken_languages\"]"
   ]
  },
  {
   "cell_type": "markdown",
   "id": "f7069830",
   "metadata": {},
   "source": [
    "### belongs_to_collection column"
   ]
  },
  {
   "cell_type": "code",
   "execution_count": 17,
   "id": "4f1f4d68",
   "metadata": {},
   "outputs": [
    {
     "data": {
      "text/plain": [
       "\"{'id': 10194, 'name': 'Toy Story Collection', 'poster_path': '/7G9915LfUQ2lVfwMEEhDsn3kT4B.jpg', 'backdrop_path': '/9FBwqcd9IRruEDUrTdcaafOMKUq.jpg'}\""
      ]
     },
     "execution_count": 17,
     "metadata": {},
     "output_type": "execute_result"
    }
   ],
   "source": [
    "# take a look on the first json column :\n",
    "df.belongs_to_collection[0]"
   ]
  },
  {
   "cell_type": "code",
   "execution_count": 18,
   "id": "999e4bbe",
   "metadata": {},
   "outputs": [],
   "source": [
    "# we can see that the json os a string itslef with \" \" on the outside\n",
    "# and ' ' on the inside"
   ]
  },
  {
   "cell_type": "code",
   "execution_count": 19,
   "id": "78d4f1e4",
   "metadata": {},
   "outputs": [],
   "source": [
    "# let's check if it's a valid form of json :\n",
    "# we create a json that looks like it : \n",
    "json1 = \"{'dog':1 , 'cat':2}\""
   ]
  },
  {
   "cell_type": "code",
   "execution_count": 22,
   "id": "37ad1e4c",
   "metadata": {},
   "outputs": [],
   "source": [
    "# we use the functio \"loads\" to check that :\n",
    "#and we can see that it didnt work\n",
    "\n",
    "#json.loads(json1)"
   ]
  },
  {
   "cell_type": "code",
   "execution_count": 23,
   "id": "552ff6c2",
   "metadata": {},
   "outputs": [],
   "source": [
    "# now let's create a json that is in the proper shape with \" \" inside, ' ' outside\n",
    "json2 = '{\"dog\":1, \"cat\":2}'"
   ]
  },
  {
   "cell_type": "code",
   "execution_count": 24,
   "id": "bd6f4bce",
   "metadata": {},
   "outputs": [
    {
     "data": {
      "text/plain": [
       "{'dog': 1, 'cat': 2}"
      ]
     },
     "execution_count": 24,
     "metadata": {},
     "output_type": "execute_result"
    }
   ],
   "source": [
    "# convert this string to json :\n",
    "json.loads(json2)"
   ]
  },
  {
   "cell_type": "code",
   "execution_count": 25,
   "id": "288c96e7",
   "metadata": {},
   "outputs": [
    {
     "data": {
      "text/plain": [
       "'{\"dog\":1 , \"cat\":2}'"
      ]
     },
     "execution_count": 25,
     "metadata": {},
     "output_type": "execute_result"
    }
   ],
   "source": [
    "# so in order to work with json 1 we need to replace \"\" with '' and vise versa :\n",
    "json1.replace(\"'\", '\"')"
   ]
  },
  {
   "cell_type": "code",
   "execution_count": 26,
   "id": "7b863ebd",
   "metadata": {},
   "outputs": [
    {
     "data": {
      "text/plain": [
       "\"{'dog':1 , 'cat':2}\""
      ]
     },
     "execution_count": 26,
     "metadata": {},
     "output_type": "execute_result"
    }
   ],
   "source": [
    "json1"
   ]
  },
  {
   "cell_type": "code",
   "execution_count": 27,
   "id": "c3dc5bff",
   "metadata": {},
   "outputs": [
    {
     "data": {
      "text/plain": [
       "{'dog': 1, 'cat': 2}"
      ]
     },
     "execution_count": 27,
     "metadata": {},
     "output_type": "execute_result"
    }
   ],
   "source": [
    "# and now it will work :\n",
    "json.loads(json1.replace(\"'\", '\"'))"
   ]
  },
  {
   "cell_type": "markdown",
   "id": "babca016",
   "metadata": {},
   "source": [
    "### genres column"
   ]
  },
  {
   "cell_type": "code",
   "execution_count": 28,
   "id": "6db8870a",
   "metadata": {},
   "outputs": [
    {
     "data": {
      "text/plain": [
       "0        [{'id': 16, 'name': 'Animation'}, {'id': 35, '...\n",
       "1        [{'id': 12, 'name': 'Adventure'}, {'id': 14, '...\n",
       "2        [{'id': 10749, 'name': 'Romance'}, {'id': 35, ...\n",
       "3        [{'id': 35, 'name': 'Comedy'}, {'id': 18, 'nam...\n",
       "4                           [{'id': 35, 'name': 'Comedy'}]\n",
       "                               ...                        \n",
       "45461    [{'id': 18, 'name': 'Drama'}, {'id': 10751, 'n...\n",
       "45462                        [{'id': 18, 'name': 'Drama'}]\n",
       "45463    [{'id': 28, 'name': 'Action'}, {'id': 18, 'nam...\n",
       "45464                                                   []\n",
       "45465                                                   []\n",
       "Name: genres, Length: 45466, dtype: object"
      ]
     },
     "execution_count": 28,
     "metadata": {},
     "output_type": "execute_result"
    }
   ],
   "source": [
    "# when we want to apply the functionality at all elements of one column we must use apply + lambda :\n",
    "df.genres.apply(lambda x: json.loads(x.replace(\"'\", '\"')))"
   ]
  },
  {
   "cell_type": "code",
   "execution_count": 29,
   "id": "c7f126ff",
   "metadata": {},
   "outputs": [
    {
     "data": {
      "text/plain": [
       "{'dog': 1, 'cat': 2}"
      ]
     },
     "execution_count": 29,
     "metadata": {},
     "output_type": "execute_result"
    }
   ],
   "source": [
    "# but there are easier way to do so, the following function is a python function\n",
    "# that we pass for it a python string, and it finds the most appropriate data structure of the string\n",
    "ast.literal_eval(json1)"
   ]
  },
  {
   "cell_type": "code",
   "execution_count": 30,
   "id": "6b7de416",
   "metadata": {},
   "outputs": [
    {
     "data": {
      "text/plain": [
       "{'dog': 1, 'cat': 2}"
      ]
     },
     "execution_count": 30,
     "metadata": {},
     "output_type": "execute_result"
    }
   ],
   "source": [
    "ast.literal_eval(json2)"
   ]
  },
  {
   "cell_type": "code",
   "execution_count": 31,
   "id": "2190b073",
   "metadata": {},
   "outputs": [
    {
     "data": {
      "text/plain": [
       "[{'id': 16, 'name': 'Animation'},\n",
       " {'id': 35, 'name': 'Comedy'},\n",
       " {'id': 10751, 'name': 'Family'}]"
      ]
     },
     "execution_count": 31,
     "metadata": {},
     "output_type": "execute_result"
    }
   ],
   "source": [
    "# so we look what happens when we apply it on the genres column :\n",
    "# and we can see it worked :\n",
    "df.genres.apply(ast.literal_eval)[0]"
   ]
  },
  {
   "cell_type": "code",
   "execution_count": 32,
   "id": "1be9786e",
   "metadata": {},
   "outputs": [],
   "source": [
    "# so let's apply it on the genres column :\n",
    "df.genres = df.genres.apply(ast.literal_eval)"
   ]
  },
  {
   "cell_type": "code",
   "execution_count": 34,
   "id": "2a3ce299",
   "metadata": {
    "scrolled": true
   },
   "outputs": [],
   "source": [
    "# if we try to apply the same method on all json columns :\n",
    "# this way loc[0, json_col] we can apply a function on all json columns :\n",
    "\n",
    "#df.loc[:, json_col].apply(ast.literal_eval)"
   ]
  },
  {
   "cell_type": "code",
   "execution_count": 35,
   "id": "f746881c",
   "metadata": {},
   "outputs": [],
   "source": [
    "# any way, if we try to apply it we will get a error message \n",
    "# that we have the value 0 somewhere wich is NOT a string"
   ]
  },
  {
   "cell_type": "markdown",
   "id": "49963228",
   "metadata": {},
   "source": [
    "# Handling stringified JSON columns (P2)"
   ]
  },
  {
   "cell_type": "code",
   "execution_count": 36,
   "id": "68f9aa2b",
   "metadata": {},
   "outputs": [],
   "source": [
    "# so how we deal with this problem (mixed data types) like this :"
   ]
  },
  {
   "cell_type": "markdown",
   "id": "e7a7d6f2",
   "metadata": {},
   "source": [
    "### belongs_to_collection column"
   ]
  },
  {
   "cell_type": "code",
   "execution_count": 37,
   "id": "76b146ff",
   "metadata": {},
   "outputs": [
    {
     "data": {
      "text/plain": [
       "0        {'id': 10194, 'name': 'Toy Story Collection', ...\n",
       "1                                                      NaN\n",
       "2        {'id': 119050, 'name': 'Grumpy Old Men Collect...\n",
       "3                                                      NaN\n",
       "4        {'id': 96871, 'name': 'Father of the Bride Col...\n",
       "                               ...                        \n",
       "45461                                                  NaN\n",
       "45462                                                  NaN\n",
       "45463                                                  NaN\n",
       "45464                                                  NaN\n",
       "45465                                                  NaN\n",
       "Name: belongs_to_collection, Length: 45466, dtype: object"
      ]
     },
     "execution_count": 37,
     "metadata": {},
     "output_type": "execute_result"
    }
   ],
   "source": [
    "df.belongs_to_collection"
   ]
  },
  {
   "cell_type": "code",
   "execution_count": 38,
   "id": "4c575b99",
   "metadata": {},
   "outputs": [
    {
     "data": {
      "text/plain": [
       "0         True\n",
       "1        False\n",
       "2         True\n",
       "3        False\n",
       "4         True\n",
       "         ...  \n",
       "45461    False\n",
       "45462    False\n",
       "45463    False\n",
       "45464    False\n",
       "45465    False\n",
       "Name: belongs_to_collection, Length: 45466, dtype: bool"
      ]
     },
     "execution_count": 38,
     "metadata": {},
     "output_type": "execute_result"
    }
   ],
   "source": [
    "# we want to apply \"ast.literal_eval\" only on string fields \n",
    "# so we use the isinstance function to discover if values are from a certain type :\n",
    "df.belongs_to_collection.apply(lambda x: isinstance(x, str))"
   ]
  },
  {
   "cell_type": "code",
   "execution_count": 39,
   "id": "3322209d",
   "metadata": {},
   "outputs": [],
   "source": [
    "# and then we apply only on the values that are strings :\n",
    "# if the value is a string we apply the function \"ast.literal_eval\"\n",
    "# else we convert it to NaN (not a value - null)\n",
    "df.belongs_to_collection = df.belongs_to_collection.apply( lambda x: ast.literal_eval(x) if isinstance(x,str) else np.nan)"
   ]
  },
  {
   "cell_type": "code",
   "execution_count": 40,
   "id": "585bc053",
   "metadata": {},
   "outputs": [
    {
     "data": {
      "text/plain": [
       "0        {'id': 10194, 'name': 'Toy Story Collection', ...\n",
       "1                                                      NaN\n",
       "2        {'id': 119050, 'name': 'Grumpy Old Men Collect...\n",
       "3                                                      NaN\n",
       "4        {'id': 96871, 'name': 'Father of the Bride Col...\n",
       "                               ...                        \n",
       "45461                                                  NaN\n",
       "45462                                                  NaN\n",
       "45463                                                  NaN\n",
       "45464                                                  NaN\n",
       "45465                                                  NaN\n",
       "Name: belongs_to_collection, Length: 45466, dtype: object"
      ]
     },
     "execution_count": 40,
     "metadata": {},
     "output_type": "execute_result"
    }
   ],
   "source": [
    "df.belongs_to_collection"
   ]
  },
  {
   "cell_type": "code",
   "execution_count": 41,
   "id": "94ea5774",
   "metadata": {},
   "outputs": [
    {
     "data": {
      "text/plain": [
       "{'id': 10194,\n",
       " 'name': 'Toy Story Collection',\n",
       " 'poster_path': '/7G9915LfUQ2lVfwMEEhDsn3kT4B.jpg',\n",
       " 'backdrop_path': '/9FBwqcd9IRruEDUrTdcaafOMKUq.jpg'}"
      ]
     },
     "execution_count": 41,
     "metadata": {},
     "output_type": "execute_result"
    }
   ],
   "source": [
    "# and we can see that we converted them succesfuly to dictionaries (JSONs)\n",
    "df.belongs_to_collection[0]"
   ]
  },
  {
   "cell_type": "markdown",
   "id": "6fa4c006",
   "metadata": {},
   "source": [
    "### spoken_languages, production_companies, production_countries columns"
   ]
  },
  {
   "cell_type": "code",
   "execution_count": 42,
   "id": "433ad4b8",
   "metadata": {},
   "outputs": [],
   "source": [
    "# now let's apply the very same thing on spoken_languages, production countries and companies:\n",
    "df.spoken_languages = df.spoken_languages.apply(lambda x: ast.literal_eval(x) if isinstance(x, str) else np.nan)"
   ]
  },
  {
   "cell_type": "code",
   "execution_count": 43,
   "id": "818f620e",
   "metadata": {},
   "outputs": [],
   "source": [
    "df.production_companies = df.production_companies.apply(lambda x: ast.literal_eval(x) if isinstance(x, str) else np.nan)"
   ]
  },
  {
   "cell_type": "code",
   "execution_count": 44,
   "id": "5482e106",
   "metadata": {},
   "outputs": [],
   "source": [
    "df.production_countries = df.production_countries.apply(lambda x: ast.literal_eval(x) if isinstance(x, str) else np.nan)"
   ]
  },
  {
   "cell_type": "code",
   "execution_count": 45,
   "id": "8fc1bffb",
   "metadata": {},
   "outputs": [
    {
     "data": {
      "text/html": [
       "<div>\n",
       "<style scoped>\n",
       "    .dataframe tbody tr th:only-of-type {\n",
       "        vertical-align: middle;\n",
       "    }\n",
       "\n",
       "    .dataframe tbody tr th {\n",
       "        vertical-align: top;\n",
       "    }\n",
       "\n",
       "    .dataframe thead th {\n",
       "        text-align: right;\n",
       "    }\n",
       "</style>\n",
       "<table border=\"1\" class=\"dataframe\">\n",
       "  <thead>\n",
       "    <tr style=\"text-align: right;\">\n",
       "      <th></th>\n",
       "      <th>belongs_to_collection</th>\n",
       "      <th>budget</th>\n",
       "      <th>genres</th>\n",
       "      <th>id</th>\n",
       "      <th>original_language</th>\n",
       "      <th>overview</th>\n",
       "      <th>popularity</th>\n",
       "      <th>poster_path</th>\n",
       "      <th>production_companies</th>\n",
       "      <th>production_countries</th>\n",
       "      <th>release_date</th>\n",
       "      <th>revenue</th>\n",
       "      <th>runtime</th>\n",
       "      <th>spoken_languages</th>\n",
       "      <th>status</th>\n",
       "      <th>tagline</th>\n",
       "      <th>title</th>\n",
       "      <th>vote_average</th>\n",
       "      <th>vote_count</th>\n",
       "    </tr>\n",
       "  </thead>\n",
       "  <tbody>\n",
       "    <tr>\n",
       "      <th>0</th>\n",
       "      <td>{'id': 10194, 'name': 'Toy Story Collection', ...</td>\n",
       "      <td>30000000</td>\n",
       "      <td>[{'id': 16, 'name': 'Animation'}, {'id': 35, '...</td>\n",
       "      <td>862</td>\n",
       "      <td>en</td>\n",
       "      <td>Led by Woody, Andy's toys live happily in his ...</td>\n",
       "      <td>21.946943</td>\n",
       "      <td>/rhIRbceoE9lR4veEXuwCC2wARtG.jpg</td>\n",
       "      <td>[{'name': 'Pixar Animation Studios', 'id': 3}]</td>\n",
       "      <td>[{'iso_3166_1': 'US', 'name': 'United States o...</td>\n",
       "      <td>1995-10-30</td>\n",
       "      <td>373554033.0</td>\n",
       "      <td>81.0</td>\n",
       "      <td>[{'iso_639_1': 'en', 'name': 'English'}]</td>\n",
       "      <td>Released</td>\n",
       "      <td>NaN</td>\n",
       "      <td>Toy Story</td>\n",
       "      <td>7.7</td>\n",
       "      <td>5415.0</td>\n",
       "    </tr>\n",
       "    <tr>\n",
       "      <th>1</th>\n",
       "      <td>NaN</td>\n",
       "      <td>65000000</td>\n",
       "      <td>[{'id': 12, 'name': 'Adventure'}, {'id': 14, '...</td>\n",
       "      <td>8844</td>\n",
       "      <td>en</td>\n",
       "      <td>When siblings Judy and Peter discover an encha...</td>\n",
       "      <td>17.015539</td>\n",
       "      <td>/vzmL6fP7aPKNKPRTFnZmiUfciyV.jpg</td>\n",
       "      <td>[{'name': 'TriStar Pictures', 'id': 559}, {'na...</td>\n",
       "      <td>[{'iso_3166_1': 'US', 'name': 'United States o...</td>\n",
       "      <td>1995-12-15</td>\n",
       "      <td>262797249.0</td>\n",
       "      <td>104.0</td>\n",
       "      <td>[{'iso_639_1': 'en', 'name': 'English'}, {'iso...</td>\n",
       "      <td>Released</td>\n",
       "      <td>Roll the dice and unleash the excitement!</td>\n",
       "      <td>Jumanji</td>\n",
       "      <td>6.9</td>\n",
       "      <td>2413.0</td>\n",
       "    </tr>\n",
       "    <tr>\n",
       "      <th>2</th>\n",
       "      <td>{'id': 119050, 'name': 'Grumpy Old Men Collect...</td>\n",
       "      <td>0</td>\n",
       "      <td>[{'id': 10749, 'name': 'Romance'}, {'id': 35, ...</td>\n",
       "      <td>15602</td>\n",
       "      <td>en</td>\n",
       "      <td>A family wedding reignites the ancient feud be...</td>\n",
       "      <td>11.7129</td>\n",
       "      <td>/6ksm1sjKMFLbO7UY2i6G1ju9SML.jpg</td>\n",
       "      <td>[{'name': 'Warner Bros.', 'id': 6194}, {'name'...</td>\n",
       "      <td>[{'iso_3166_1': 'US', 'name': 'United States o...</td>\n",
       "      <td>1995-12-22</td>\n",
       "      <td>0.0</td>\n",
       "      <td>101.0</td>\n",
       "      <td>[{'iso_639_1': 'en', 'name': 'English'}]</td>\n",
       "      <td>Released</td>\n",
       "      <td>Still Yelling. Still Fighting. Still Ready for...</td>\n",
       "      <td>Grumpier Old Men</td>\n",
       "      <td>6.5</td>\n",
       "      <td>92.0</td>\n",
       "    </tr>\n",
       "    <tr>\n",
       "      <th>3</th>\n",
       "      <td>NaN</td>\n",
       "      <td>16000000</td>\n",
       "      <td>[{'id': 35, 'name': 'Comedy'}, {'id': 18, 'nam...</td>\n",
       "      <td>31357</td>\n",
       "      <td>en</td>\n",
       "      <td>Cheated on, mistreated and stepped on, the wom...</td>\n",
       "      <td>3.859495</td>\n",
       "      <td>/16XOMpEaLWkrcPqSQqhTmeJuqQl.jpg</td>\n",
       "      <td>[{'name': 'Twentieth Century Fox Film Corporat...</td>\n",
       "      <td>[{'iso_3166_1': 'US', 'name': 'United States o...</td>\n",
       "      <td>1995-12-22</td>\n",
       "      <td>81452156.0</td>\n",
       "      <td>127.0</td>\n",
       "      <td>[{'iso_639_1': 'en', 'name': 'English'}]</td>\n",
       "      <td>Released</td>\n",
       "      <td>Friends are the people who let you be yourself...</td>\n",
       "      <td>Waiting to Exhale</td>\n",
       "      <td>6.1</td>\n",
       "      <td>34.0</td>\n",
       "    </tr>\n",
       "    <tr>\n",
       "      <th>4</th>\n",
       "      <td>{'id': 96871, 'name': 'Father of the Bride Col...</td>\n",
       "      <td>0</td>\n",
       "      <td>[{'id': 35, 'name': 'Comedy'}]</td>\n",
       "      <td>11862</td>\n",
       "      <td>en</td>\n",
       "      <td>Just when George Banks has recovered from his ...</td>\n",
       "      <td>8.387519</td>\n",
       "      <td>/e64sOI48hQXyru7naBFyssKFxVd.jpg</td>\n",
       "      <td>[{'name': 'Sandollar Productions', 'id': 5842}...</td>\n",
       "      <td>[{'iso_3166_1': 'US', 'name': 'United States o...</td>\n",
       "      <td>1995-02-10</td>\n",
       "      <td>76578911.0</td>\n",
       "      <td>106.0</td>\n",
       "      <td>[{'iso_639_1': 'en', 'name': 'English'}]</td>\n",
       "      <td>Released</td>\n",
       "      <td>Just When His World Is Back To Normal... He's ...</td>\n",
       "      <td>Father of the Bride Part II</td>\n",
       "      <td>5.7</td>\n",
       "      <td>173.0</td>\n",
       "    </tr>\n",
       "  </tbody>\n",
       "</table>\n",
       "</div>"
      ],
      "text/plain": [
       "                               belongs_to_collection    budget  \\\n",
       "0  {'id': 10194, 'name': 'Toy Story Collection', ...  30000000   \n",
       "1                                                NaN  65000000   \n",
       "2  {'id': 119050, 'name': 'Grumpy Old Men Collect...         0   \n",
       "3                                                NaN  16000000   \n",
       "4  {'id': 96871, 'name': 'Father of the Bride Col...         0   \n",
       "\n",
       "                                              genres     id original_language  \\\n",
       "0  [{'id': 16, 'name': 'Animation'}, {'id': 35, '...    862                en   \n",
       "1  [{'id': 12, 'name': 'Adventure'}, {'id': 14, '...   8844                en   \n",
       "2  [{'id': 10749, 'name': 'Romance'}, {'id': 35, ...  15602                en   \n",
       "3  [{'id': 35, 'name': 'Comedy'}, {'id': 18, 'nam...  31357                en   \n",
       "4                     [{'id': 35, 'name': 'Comedy'}]  11862                en   \n",
       "\n",
       "                                            overview popularity  \\\n",
       "0  Led by Woody, Andy's toys live happily in his ...  21.946943   \n",
       "1  When siblings Judy and Peter discover an encha...  17.015539   \n",
       "2  A family wedding reignites the ancient feud be...    11.7129   \n",
       "3  Cheated on, mistreated and stepped on, the wom...   3.859495   \n",
       "4  Just when George Banks has recovered from his ...   8.387519   \n",
       "\n",
       "                        poster_path  \\\n",
       "0  /rhIRbceoE9lR4veEXuwCC2wARtG.jpg   \n",
       "1  /vzmL6fP7aPKNKPRTFnZmiUfciyV.jpg   \n",
       "2  /6ksm1sjKMFLbO7UY2i6G1ju9SML.jpg   \n",
       "3  /16XOMpEaLWkrcPqSQqhTmeJuqQl.jpg   \n",
       "4  /e64sOI48hQXyru7naBFyssKFxVd.jpg   \n",
       "\n",
       "                                production_companies  \\\n",
       "0     [{'name': 'Pixar Animation Studios', 'id': 3}]   \n",
       "1  [{'name': 'TriStar Pictures', 'id': 559}, {'na...   \n",
       "2  [{'name': 'Warner Bros.', 'id': 6194}, {'name'...   \n",
       "3  [{'name': 'Twentieth Century Fox Film Corporat...   \n",
       "4  [{'name': 'Sandollar Productions', 'id': 5842}...   \n",
       "\n",
       "                                production_countries release_date  \\\n",
       "0  [{'iso_3166_1': 'US', 'name': 'United States o...   1995-10-30   \n",
       "1  [{'iso_3166_1': 'US', 'name': 'United States o...   1995-12-15   \n",
       "2  [{'iso_3166_1': 'US', 'name': 'United States o...   1995-12-22   \n",
       "3  [{'iso_3166_1': 'US', 'name': 'United States o...   1995-12-22   \n",
       "4  [{'iso_3166_1': 'US', 'name': 'United States o...   1995-02-10   \n",
       "\n",
       "       revenue  runtime                                   spoken_languages  \\\n",
       "0  373554033.0     81.0           [{'iso_639_1': 'en', 'name': 'English'}]   \n",
       "1  262797249.0    104.0  [{'iso_639_1': 'en', 'name': 'English'}, {'iso...   \n",
       "2          0.0    101.0           [{'iso_639_1': 'en', 'name': 'English'}]   \n",
       "3   81452156.0    127.0           [{'iso_639_1': 'en', 'name': 'English'}]   \n",
       "4   76578911.0    106.0           [{'iso_639_1': 'en', 'name': 'English'}]   \n",
       "\n",
       "     status                                            tagline  \\\n",
       "0  Released                                                NaN   \n",
       "1  Released          Roll the dice and unleash the excitement!   \n",
       "2  Released  Still Yelling. Still Fighting. Still Ready for...   \n",
       "3  Released  Friends are the people who let you be yourself...   \n",
       "4  Released  Just When His World Is Back To Normal... He's ...   \n",
       "\n",
       "                         title  vote_average  vote_count  \n",
       "0                    Toy Story           7.7      5415.0  \n",
       "1                      Jumanji           6.9      2413.0  \n",
       "2             Grumpier Old Men           6.5        92.0  \n",
       "3            Waiting to Exhale           6.1        34.0  \n",
       "4  Father of the Bride Part II           5.7       173.0  "
      ]
     },
     "execution_count": 45,
     "metadata": {},
     "output_type": "execute_result"
    }
   ],
   "source": [
    "df.head()"
   ]
  },
  {
   "cell_type": "markdown",
   "id": "05987b16",
   "metadata": {},
   "source": [
    "# Flatten nested columns:"
   ]
  },
  {
   "cell_type": "markdown",
   "id": "831d4b75",
   "metadata": {},
   "source": [
    "### belongs_to_collection column"
   ]
  },
  {
   "cell_type": "code",
   "execution_count": 46,
   "id": "4beb45c4",
   "metadata": {},
   "outputs": [
    {
     "data": {
      "text/plain": [
       "{'id': 10194,\n",
       " 'name': 'Toy Story Collection',\n",
       " 'poster_path': '/7G9915LfUQ2lVfwMEEhDsn3kT4B.jpg',\n",
       " 'backdrop_path': '/9FBwqcd9IRruEDUrTdcaafOMKUq.jpg'}"
      ]
     },
     "execution_count": 46,
     "metadata": {},
     "output_type": "execute_result"
    }
   ],
   "source": [
    "# so when we have JSON columns that have many fields on it like this :\n",
    "df.belongs_to_collection[0]"
   ]
  },
  {
   "cell_type": "code",
   "execution_count": 47,
   "id": "b15c40ee",
   "metadata": {},
   "outputs": [],
   "source": [
    "# let's say that we are interested only on the \"name\" field so we want to isolate it :\n",
    "# if it's not a dict then propbaly the movies doenst belong to a collection\n",
    "# if the values is a dict we take the name, anything else we convert to nan:\n",
    "df.belongs_to_collection = df.belongs_to_collection.apply(lambda x: x['name'] if isinstance(x, dict) else np.nan)"
   ]
  },
  {
   "cell_type": "code",
   "execution_count": 48,
   "id": "fe44d997",
   "metadata": {},
   "outputs": [
    {
     "data": {
      "text/plain": [
       "0                  Toy Story Collection\n",
       "1                                   NaN\n",
       "2             Grumpy Old Men Collection\n",
       "3                                   NaN\n",
       "4        Father of the Bride Collection\n",
       "                      ...              \n",
       "45461                               NaN\n",
       "45462                               NaN\n",
       "45463                               NaN\n",
       "45464                               NaN\n",
       "45465                               NaN\n",
       "Name: belongs_to_collection, Length: 45466, dtype: object"
      ]
     },
     "execution_count": 48,
     "metadata": {},
     "output_type": "execute_result"
    }
   ],
   "source": [
    "# let's take a look on the column : \n",
    "df.belongs_to_collection"
   ]
  },
  {
   "cell_type": "code",
   "execution_count": 49,
   "id": "9e57b827",
   "metadata": {},
   "outputs": [
    {
     "data": {
      "text/plain": [
       "NaN                                       40975\n",
       "The Bowery Boys                              29\n",
       "Totò Collection                              27\n",
       "James Bond Collection                        26\n",
       "Zatôichi: The Blind Swordsman                26\n",
       "The Carry On Collection                      25\n",
       "Pokémon Collection                           22\n",
       "Charlie Chan (Sidney Toler) Collection       21\n",
       "Godzilla (Showa) Collection                  16\n",
       "Charlie Chan (Warner Oland) Collection       15\n",
       "Name: belongs_to_collection, dtype: int64"
      ]
     },
     "execution_count": 49,
     "metadata": {},
     "output_type": "execute_result"
    }
   ],
   "source": [
    "# and now let's look at the values to see if the look reasonable :\n",
    "df.belongs_to_collection.value_counts(dropna = False).head(10)"
   ]
  },
  {
   "cell_type": "markdown",
   "id": "38276b6d",
   "metadata": {},
   "source": [
    "### genres column"
   ]
  },
  {
   "cell_type": "code",
   "execution_count": 50,
   "id": "8366dea3",
   "metadata": {},
   "outputs": [
    {
     "data": {
      "text/plain": [
       "0        [{'id': 16, 'name': 'Animation'}, {'id': 35, '...\n",
       "1        [{'id': 12, 'name': 'Adventure'}, {'id': 14, '...\n",
       "2        [{'id': 10749, 'name': 'Romance'}, {'id': 35, ...\n",
       "3        [{'id': 35, 'name': 'Comedy'}, {'id': 18, 'nam...\n",
       "4                           [{'id': 35, 'name': 'Comedy'}]\n",
       "                               ...                        \n",
       "45461    [{'id': 18, 'name': 'Drama'}, {'id': 10751, 'n...\n",
       "45462                        [{'id': 18, 'name': 'Drama'}]\n",
       "45463    [{'id': 28, 'name': 'Action'}, {'id': 18, 'nam...\n",
       "45464                                                   []\n",
       "45465                                                   []\n",
       "Name: genres, Length: 45466, dtype: object"
      ]
     },
     "execution_count": 50,
     "metadata": {},
     "output_type": "execute_result"
    }
   ],
   "source": [
    "df.genres"
   ]
  },
  {
   "cell_type": "code",
   "execution_count": 51,
   "id": "c9d0d732",
   "metadata": {},
   "outputs": [
    {
     "data": {
      "text/plain": [
       "[{'id': 16, 'name': 'Animation'},\n",
       " {'id': 35, 'name': 'Comedy'},\n",
       " {'id': 10751, 'name': 'Family'}]"
      ]
     },
     "execution_count": 51,
     "metadata": {},
     "output_type": "execute_result"
    }
   ],
   "source": [
    "# we can see that here we might have many dicts inside one field\n",
    "# not like belongs_to_collections where we have only one field- one collection\n",
    "df.genres[0]"
   ]
  },
  {
   "cell_type": "code",
   "execution_count": 52,
   "id": "f528c450",
   "metadata": {},
   "outputs": [
    {
     "name": "stdout",
     "output_type": "stream",
     "text": [
      "John|Peter|Vicky\n"
     ]
    }
   ],
   "source": [
    "# we want only the names, so we want to make list of genres names for each movie\n",
    "# first of all, the join() function works like this :\n",
    "myTuple = (\"John\", \"Peter\", \"Vicky\")\n",
    "z = \"|\".join(myTuple)\n",
    "print(z)"
   ]
  },
  {
   "cell_type": "code",
   "execution_count": 53,
   "id": "24aa9391",
   "metadata": {},
   "outputs": [],
   "source": [
    "# every 'x' is one big dict ((id,name), (id,name), ...)\n",
    "# every 'i' is one dict (id,name)\n",
    "# the join function we apply on each 'i' in the 'x'\n",
    "# so we take the first i['name'] = Animation and we \n",
    "df.genres = df.genres.apply(lambda x: \"|\".join(i['name'] for i in x))"
   ]
  },
  {
   "cell_type": "code",
   "execution_count": 54,
   "id": "5c206282",
   "metadata": {},
   "outputs": [
    {
     "data": {
      "text/plain": [
       "'Animation|Comedy|Family'"
      ]
     },
     "execution_count": 54,
     "metadata": {},
     "output_type": "execute_result"
    }
   ],
   "source": [
    "df.genres[0]"
   ]
  },
  {
   "cell_type": "code",
   "execution_count": 55,
   "id": "45bc81d6",
   "metadata": {},
   "outputs": [
    {
     "data": {
      "text/plain": [
       "Drama                   5000\n",
       "Comedy                  3621\n",
       "Documentary             2723\n",
       "                        2442\n",
       "Drama|Romance           1301\n",
       "Comedy|Drama            1135\n",
       "Horror                   974\n",
       "Comedy|Romance           930\n",
       "Comedy|Drama|Romance     593\n",
       "Drama|Comedy             532\n",
       "Name: genres, dtype: int64"
      ]
     },
     "execution_count": 55,
     "metadata": {},
     "output_type": "execute_result"
    }
   ],
   "source": [
    "# have a look at the genres column:\n",
    "# we can see that we have 2442 empty values\n",
    "df.genres.value_counts(dropna = False).head(10)"
   ]
  },
  {
   "cell_type": "code",
   "execution_count": 56,
   "id": "f39c29c1",
   "metadata": {},
   "outputs": [],
   "source": [
    "# we must replace it with NaN:\n",
    "df.genres.replace(\"\", np.nan, inplace = True)"
   ]
  },
  {
   "cell_type": "code",
   "execution_count": 57,
   "id": "aec2aa67",
   "metadata": {},
   "outputs": [
    {
     "data": {
      "text/plain": [
       "Drama                   5000\n",
       "Comedy                  3621\n",
       "Documentary             2723\n",
       "NaN                     2442\n",
       "Drama|Romance           1301\n",
       "Comedy|Drama            1135\n",
       "Horror                   974\n",
       "Comedy|Romance           930\n",
       "Comedy|Drama|Romance     593\n",
       "Drama|Comedy             532\n",
       "Name: genres, dtype: int64"
      ]
     },
     "execution_count": 57,
     "metadata": {},
     "output_type": "execute_result"
    }
   ],
   "source": [
    "df.genres.value_counts(dropna = False).head(10)"
   ]
  },
  {
   "cell_type": "markdown",
   "id": "762b387e",
   "metadata": {},
   "source": [
    "### spoken_languages column"
   ]
  },
  {
   "cell_type": "code",
   "execution_count": 58,
   "id": "044007e2",
   "metadata": {},
   "outputs": [
    {
     "data": {
      "text/plain": [
       "0                 [{'iso_639_1': 'en', 'name': 'English'}]\n",
       "1        [{'iso_639_1': 'en', 'name': 'English'}, {'iso...\n",
       "2                 [{'iso_639_1': 'en', 'name': 'English'}]\n",
       "3                 [{'iso_639_1': 'en', 'name': 'English'}]\n",
       "4                 [{'iso_639_1': 'en', 'name': 'English'}]\n",
       "                               ...                        \n",
       "45461               [{'iso_639_1': 'fa', 'name': 'فارسی'}]\n",
       "45462                    [{'iso_639_1': 'tl', 'name': ''}]\n",
       "45463             [{'iso_639_1': 'en', 'name': 'English'}]\n",
       "45464                                                   []\n",
       "45465             [{'iso_639_1': 'en', 'name': 'English'}]\n",
       "Name: spoken_languages, Length: 45466, dtype: object"
      ]
     },
     "execution_count": 58,
     "metadata": {},
     "output_type": "execute_result"
    }
   ],
   "source": [
    "# have a looke at the spokena languages :\n",
    "df.spoken_languages"
   ]
  },
  {
   "cell_type": "code",
   "execution_count": 59,
   "id": "d366d0f9",
   "metadata": {},
   "outputs": [],
   "source": [
    "# we also want only the name :\n",
    "df.spoken_languages = df.spoken_languages.apply(lambda x: \"|\".join(i['name'] for i in x) if isinstance(x, list) else np.nan)"
   ]
  },
  {
   "cell_type": "code",
   "execution_count": 60,
   "id": "91a51150",
   "metadata": {},
   "outputs": [
    {
     "data": {
      "text/plain": [
       "'English'"
      ]
     },
     "execution_count": 60,
     "metadata": {},
     "output_type": "execute_result"
    }
   ],
   "source": [
    "df.spoken_languages[0]"
   ]
  },
  {
   "cell_type": "code",
   "execution_count": 61,
   "id": "99727f0d",
   "metadata": {},
   "outputs": [
    {
     "data": {
      "text/plain": [
       "English             22395\n",
       "                     3952\n",
       "Français             1853\n",
       "日本語                  1289\n",
       "Italiano             1218\n",
       "Español               902\n",
       "Pусский               807\n",
       "Deutsch               762\n",
       "English|Français      681\n",
       "English|Español       572\n",
       "Name: spoken_languages, dtype: int64"
      ]
     },
     "execution_count": 61,
     "metadata": {},
     "output_type": "execute_result"
    }
   ],
   "source": [
    "# we can see that we have 3952 empty values\n",
    "df.spoken_languages.value_counts(dropna = False).head(10)"
   ]
  },
  {
   "cell_type": "code",
   "execution_count": 62,
   "id": "c69085a3",
   "metadata": {},
   "outputs": [],
   "source": [
    "# replace with NaN:\n",
    "df.spoken_languages.replace(\"\", np.nan, inplace = True)"
   ]
  },
  {
   "cell_type": "code",
   "execution_count": 63,
   "id": "ee272fc9",
   "metadata": {},
   "outputs": [
    {
     "data": {
      "text/plain": [
       "English             22395\n",
       "NaN                  3958\n",
       "Français             1853\n",
       "日本語                  1289\n",
       "Italiano             1218\n",
       "Español               902\n",
       "Pусский               807\n",
       "Deutsch               762\n",
       "English|Français      681\n",
       "English|Español       572\n",
       "Name: spoken_languages, dtype: int64"
      ]
     },
     "execution_count": 63,
     "metadata": {},
     "output_type": "execute_result"
    }
   ],
   "source": [
    "df.spoken_languages.value_counts(dropna = False).head(10)"
   ]
  },
  {
   "cell_type": "markdown",
   "id": "f478929b",
   "metadata": {},
   "source": [
    "### production_companie , countries columns"
   ]
  },
  {
   "cell_type": "code",
   "execution_count": 64,
   "id": "ae9aa4a0",
   "metadata": {},
   "outputs": [
    {
     "data": {
      "text/plain": [
       "0        [{'iso_3166_1': 'US', 'name': 'United States o...\n",
       "1        [{'iso_3166_1': 'US', 'name': 'United States o...\n",
       "2        [{'iso_3166_1': 'US', 'name': 'United States o...\n",
       "3        [{'iso_3166_1': 'US', 'name': 'United States o...\n",
       "4        [{'iso_3166_1': 'US', 'name': 'United States o...\n",
       "                               ...                        \n",
       "45461               [{'iso_3166_1': 'IR', 'name': 'Iran'}]\n",
       "45462        [{'iso_3166_1': 'PH', 'name': 'Philippines'}]\n",
       "45463    [{'iso_3166_1': 'US', 'name': 'United States o...\n",
       "45464             [{'iso_3166_1': 'RU', 'name': 'Russia'}]\n",
       "45465     [{'iso_3166_1': 'GB', 'name': 'United Kingdom'}]\n",
       "Name: production_countries, Length: 45466, dtype: object"
      ]
     },
     "execution_count": 64,
     "metadata": {},
     "output_type": "execute_result"
    }
   ],
   "source": [
    "# the same as the previous column:\n",
    "df.production_countries"
   ]
  },
  {
   "cell_type": "code",
   "execution_count": 65,
   "id": "fadc5150",
   "metadata": {},
   "outputs": [],
   "source": [
    "df.production_countries = df.production_countries.apply(lambda x: \"|\".join(i['name'] for i in x) if isinstance(x, list) else np.nan)"
   ]
  },
  {
   "cell_type": "code",
   "execution_count": 66,
   "id": "12dc3571",
   "metadata": {},
   "outputs": [
    {
     "data": {
      "text/plain": [
       "0           [{'name': 'Pixar Animation Studios', 'id': 3}]\n",
       "1        [{'name': 'TriStar Pictures', 'id': 559}, {'na...\n",
       "2        [{'name': 'Warner Bros.', 'id': 6194}, {'name'...\n",
       "3        [{'name': 'Twentieth Century Fox Film Corporat...\n",
       "4        [{'name': 'Sandollar Productions', 'id': 5842}...\n",
       "                               ...                        \n",
       "45461                                                   []\n",
       "45462               [{'name': 'Sine Olivia', 'id': 19653}]\n",
       "45463    [{'name': 'American World Pictures', 'id': 6165}]\n",
       "45464                 [{'name': 'Yermoliev', 'id': 88753}]\n",
       "45465                                                   []\n",
       "Name: production_companies, Length: 45466, dtype: object"
      ]
     },
     "execution_count": 66,
     "metadata": {},
     "output_type": "execute_result"
    }
   ],
   "source": [
    "# here we have also missing values:\n",
    "df.production_companies"
   ]
  },
  {
   "cell_type": "code",
   "execution_count": 67,
   "id": "73fa764f",
   "metadata": {},
   "outputs": [],
   "source": [
    "df.production_companies = df.production_companies.apply(lambda x: \"|\".join(i['name'] for i in x) if isinstance(x, list) else np.nan)"
   ]
  },
  {
   "cell_type": "code",
   "execution_count": 68,
   "id": "63aa8eba",
   "metadata": {},
   "outputs": [
    {
     "data": {
      "text/plain": [
       "                                          11875\n",
       "Metro-Goldwyn-Mayer (MGM)                   742\n",
       "Warner Bros.                                540\n",
       "Paramount Pictures                          505\n",
       "Twentieth Century Fox Film Corporation      439\n",
       "Universal Pictures                          320\n",
       "RKO Radio Pictures                          247\n",
       "Columbia Pictures Corporation               207\n",
       "Columbia Pictures                           146\n",
       "Mosfilm                                     145\n",
       "Name: production_companies, dtype: int64"
      ]
     },
     "execution_count": 68,
     "metadata": {},
     "output_type": "execute_result"
    }
   ],
   "source": [
    "# here we have also missing values:\n",
    "df.production_companies.value_counts(dropna = False).head(10)"
   ]
  },
  {
   "cell_type": "code",
   "execution_count": 69,
   "id": "79382715",
   "metadata": {},
   "outputs": [],
   "source": [
    "df.production_companies.replace(\"\", np.nan, inplace = True)"
   ]
  },
  {
   "cell_type": "markdown",
   "id": "b9ff46a9",
   "metadata": {},
   "source": [
    "### compare missing values after, before cleaning :"
   ]
  },
  {
   "cell_type": "code",
   "execution_count": 70,
   "id": "0ecd3dd4",
   "metadata": {},
   "outputs": [
    {
     "data": {
      "text/plain": [
       "adult                        0\n",
       "belongs_to_collection    40972\n",
       "budget                       0\n",
       "genres                       0\n",
       "homepage                 37684\n",
       "id                           0\n",
       "imdb_id                     17\n",
       "original_language           11\n",
       "original_title               0\n",
       "overview                   954\n",
       "popularity                   5\n",
       "poster_path                386\n",
       "production_companies         3\n",
       "production_countries         3\n",
       "release_date                87\n",
       "revenue                      6\n",
       "runtime                    263\n",
       "spoken_languages             6\n",
       "status                      87\n",
       "tagline                  25054\n",
       "title                        6\n",
       "video                        6\n",
       "vote_average                 6\n",
       "vote_count                   6\n",
       "dtype: int64"
      ]
     },
     "execution_count": 70,
     "metadata": {},
     "output_type": "execute_result"
    }
   ],
   "source": [
    "# before cleaning :\n",
    "pd.read_csv(\"movies_metadata.csv\", low_memory=False).isna().sum()"
   ]
  },
  {
   "cell_type": "code",
   "execution_count": 71,
   "id": "a39fa500",
   "metadata": {},
   "outputs": [
    {
     "data": {
      "text/plain": [
       "belongs_to_collection    40975\n",
       "budget                       0\n",
       "genres                    2442\n",
       "id                           0\n",
       "original_language           11\n",
       "overview                   954\n",
       "popularity                   5\n",
       "poster_path                386\n",
       "production_companies     11881\n",
       "production_countries         6\n",
       "release_date                87\n",
       "revenue                      6\n",
       "runtime                    263\n",
       "spoken_languages          3958\n",
       "status                      87\n",
       "tagline                  25054\n",
       "title                        6\n",
       "vote_average                 6\n",
       "vote_count                   6\n",
       "dtype: int64"
      ]
     },
     "execution_count": 71,
     "metadata": {},
     "output_type": "execute_result"
    }
   ],
   "source": [
    "# after cleaning :\n",
    "df.isna().sum()"
   ]
  },
  {
   "cell_type": "code",
   "execution_count": 72,
   "id": "e96d1134",
   "metadata": {},
   "outputs": [],
   "source": [
    "# we can see that we identified missing valeus in many columns like production_companies "
   ]
  },
  {
   "cell_type": "code",
   "execution_count": 73,
   "id": "3f7fde21",
   "metadata": {},
   "outputs": [
    {
     "data": {
      "text/html": [
       "<div>\n",
       "<style scoped>\n",
       "    .dataframe tbody tr th:only-of-type {\n",
       "        vertical-align: middle;\n",
       "    }\n",
       "\n",
       "    .dataframe tbody tr th {\n",
       "        vertical-align: top;\n",
       "    }\n",
       "\n",
       "    .dataframe thead th {\n",
       "        text-align: right;\n",
       "    }\n",
       "</style>\n",
       "<table border=\"1\" class=\"dataframe\">\n",
       "  <thead>\n",
       "    <tr style=\"text-align: right;\">\n",
       "      <th></th>\n",
       "      <th>belongs_to_collection</th>\n",
       "      <th>budget</th>\n",
       "      <th>genres</th>\n",
       "      <th>id</th>\n",
       "      <th>original_language</th>\n",
       "      <th>overview</th>\n",
       "      <th>popularity</th>\n",
       "      <th>poster_path</th>\n",
       "      <th>production_companies</th>\n",
       "      <th>production_countries</th>\n",
       "      <th>release_date</th>\n",
       "      <th>revenue</th>\n",
       "      <th>runtime</th>\n",
       "      <th>spoken_languages</th>\n",
       "      <th>status</th>\n",
       "      <th>tagline</th>\n",
       "      <th>title</th>\n",
       "      <th>vote_average</th>\n",
       "      <th>vote_count</th>\n",
       "    </tr>\n",
       "  </thead>\n",
       "  <tbody>\n",
       "    <tr>\n",
       "      <th>0</th>\n",
       "      <td>Toy Story Collection</td>\n",
       "      <td>30000000</td>\n",
       "      <td>Animation|Comedy|Family</td>\n",
       "      <td>862</td>\n",
       "      <td>en</td>\n",
       "      <td>Led by Woody, Andy's toys live happily in his ...</td>\n",
       "      <td>21.946943</td>\n",
       "      <td>/rhIRbceoE9lR4veEXuwCC2wARtG.jpg</td>\n",
       "      <td>Pixar Animation Studios</td>\n",
       "      <td>United States of America</td>\n",
       "      <td>1995-10-30</td>\n",
       "      <td>373554033.0</td>\n",
       "      <td>81.0</td>\n",
       "      <td>English</td>\n",
       "      <td>Released</td>\n",
       "      <td>NaN</td>\n",
       "      <td>Toy Story</td>\n",
       "      <td>7.7</td>\n",
       "      <td>5415.0</td>\n",
       "    </tr>\n",
       "    <tr>\n",
       "      <th>1</th>\n",
       "      <td>NaN</td>\n",
       "      <td>65000000</td>\n",
       "      <td>Adventure|Fantasy|Family</td>\n",
       "      <td>8844</td>\n",
       "      <td>en</td>\n",
       "      <td>When siblings Judy and Peter discover an encha...</td>\n",
       "      <td>17.015539</td>\n",
       "      <td>/vzmL6fP7aPKNKPRTFnZmiUfciyV.jpg</td>\n",
       "      <td>TriStar Pictures|Teitler Film|Interscope Commu...</td>\n",
       "      <td>United States of America</td>\n",
       "      <td>1995-12-15</td>\n",
       "      <td>262797249.0</td>\n",
       "      <td>104.0</td>\n",
       "      <td>English|Français</td>\n",
       "      <td>Released</td>\n",
       "      <td>Roll the dice and unleash the excitement!</td>\n",
       "      <td>Jumanji</td>\n",
       "      <td>6.9</td>\n",
       "      <td>2413.0</td>\n",
       "    </tr>\n",
       "    <tr>\n",
       "      <th>2</th>\n",
       "      <td>Grumpy Old Men Collection</td>\n",
       "      <td>0</td>\n",
       "      <td>Romance|Comedy</td>\n",
       "      <td>15602</td>\n",
       "      <td>en</td>\n",
       "      <td>A family wedding reignites the ancient feud be...</td>\n",
       "      <td>11.7129</td>\n",
       "      <td>/6ksm1sjKMFLbO7UY2i6G1ju9SML.jpg</td>\n",
       "      <td>Warner Bros.|Lancaster Gate</td>\n",
       "      <td>United States of America</td>\n",
       "      <td>1995-12-22</td>\n",
       "      <td>0.0</td>\n",
       "      <td>101.0</td>\n",
       "      <td>English</td>\n",
       "      <td>Released</td>\n",
       "      <td>Still Yelling. Still Fighting. Still Ready for...</td>\n",
       "      <td>Grumpier Old Men</td>\n",
       "      <td>6.5</td>\n",
       "      <td>92.0</td>\n",
       "    </tr>\n",
       "    <tr>\n",
       "      <th>3</th>\n",
       "      <td>NaN</td>\n",
       "      <td>16000000</td>\n",
       "      <td>Comedy|Drama|Romance</td>\n",
       "      <td>31357</td>\n",
       "      <td>en</td>\n",
       "      <td>Cheated on, mistreated and stepped on, the wom...</td>\n",
       "      <td>3.859495</td>\n",
       "      <td>/16XOMpEaLWkrcPqSQqhTmeJuqQl.jpg</td>\n",
       "      <td>Twentieth Century Fox Film Corporation</td>\n",
       "      <td>United States of America</td>\n",
       "      <td>1995-12-22</td>\n",
       "      <td>81452156.0</td>\n",
       "      <td>127.0</td>\n",
       "      <td>English</td>\n",
       "      <td>Released</td>\n",
       "      <td>Friends are the people who let you be yourself...</td>\n",
       "      <td>Waiting to Exhale</td>\n",
       "      <td>6.1</td>\n",
       "      <td>34.0</td>\n",
       "    </tr>\n",
       "    <tr>\n",
       "      <th>4</th>\n",
       "      <td>Father of the Bride Collection</td>\n",
       "      <td>0</td>\n",
       "      <td>Comedy</td>\n",
       "      <td>11862</td>\n",
       "      <td>en</td>\n",
       "      <td>Just when George Banks has recovered from his ...</td>\n",
       "      <td>8.387519</td>\n",
       "      <td>/e64sOI48hQXyru7naBFyssKFxVd.jpg</td>\n",
       "      <td>Sandollar Productions|Touchstone Pictures</td>\n",
       "      <td>United States of America</td>\n",
       "      <td>1995-02-10</td>\n",
       "      <td>76578911.0</td>\n",
       "      <td>106.0</td>\n",
       "      <td>English</td>\n",
       "      <td>Released</td>\n",
       "      <td>Just When His World Is Back To Normal... He's ...</td>\n",
       "      <td>Father of the Bride Part II</td>\n",
       "      <td>5.7</td>\n",
       "      <td>173.0</td>\n",
       "    </tr>\n",
       "  </tbody>\n",
       "</table>\n",
       "</div>"
      ],
      "text/plain": [
       "            belongs_to_collection    budget                    genres     id  \\\n",
       "0            Toy Story Collection  30000000   Animation|Comedy|Family    862   \n",
       "1                             NaN  65000000  Adventure|Fantasy|Family   8844   \n",
       "2       Grumpy Old Men Collection         0            Romance|Comedy  15602   \n",
       "3                             NaN  16000000      Comedy|Drama|Romance  31357   \n",
       "4  Father of the Bride Collection         0                    Comedy  11862   \n",
       "\n",
       "  original_language                                           overview  \\\n",
       "0                en  Led by Woody, Andy's toys live happily in his ...   \n",
       "1                en  When siblings Judy and Peter discover an encha...   \n",
       "2                en  A family wedding reignites the ancient feud be...   \n",
       "3                en  Cheated on, mistreated and stepped on, the wom...   \n",
       "4                en  Just when George Banks has recovered from his ...   \n",
       "\n",
       "  popularity                       poster_path  \\\n",
       "0  21.946943  /rhIRbceoE9lR4veEXuwCC2wARtG.jpg   \n",
       "1  17.015539  /vzmL6fP7aPKNKPRTFnZmiUfciyV.jpg   \n",
       "2    11.7129  /6ksm1sjKMFLbO7UY2i6G1ju9SML.jpg   \n",
       "3   3.859495  /16XOMpEaLWkrcPqSQqhTmeJuqQl.jpg   \n",
       "4   8.387519  /e64sOI48hQXyru7naBFyssKFxVd.jpg   \n",
       "\n",
       "                                production_companies  \\\n",
       "0                            Pixar Animation Studios   \n",
       "1  TriStar Pictures|Teitler Film|Interscope Commu...   \n",
       "2                        Warner Bros.|Lancaster Gate   \n",
       "3             Twentieth Century Fox Film Corporation   \n",
       "4          Sandollar Productions|Touchstone Pictures   \n",
       "\n",
       "       production_countries release_date      revenue  runtime  \\\n",
       "0  United States of America   1995-10-30  373554033.0     81.0   \n",
       "1  United States of America   1995-12-15  262797249.0    104.0   \n",
       "2  United States of America   1995-12-22          0.0    101.0   \n",
       "3  United States of America   1995-12-22   81452156.0    127.0   \n",
       "4  United States of America   1995-02-10   76578911.0    106.0   \n",
       "\n",
       "   spoken_languages    status  \\\n",
       "0           English  Released   \n",
       "1  English|Français  Released   \n",
       "2           English  Released   \n",
       "3           English  Released   \n",
       "4           English  Released   \n",
       "\n",
       "                                             tagline  \\\n",
       "0                                                NaN   \n",
       "1          Roll the dice and unleash the excitement!   \n",
       "2  Still Yelling. Still Fighting. Still Ready for...   \n",
       "3  Friends are the people who let you be yourself...   \n",
       "4  Just When His World Is Back To Normal... He's ...   \n",
       "\n",
       "                         title  vote_average  vote_count  \n",
       "0                    Toy Story           7.7      5415.0  \n",
       "1                      Jumanji           6.9      2413.0  \n",
       "2             Grumpier Old Men           6.5        92.0  \n",
       "3            Waiting to Exhale           6.1        34.0  \n",
       "4  Father of the Bride Part II           5.7       173.0  "
      ]
     },
     "execution_count": 73,
     "metadata": {},
     "output_type": "execute_result"
    }
   ],
   "source": [
    "# a look at the df for what we have cleaned so far :\\\n",
    "df.head()"
   ]
  },
  {
   "cell_type": "markdown",
   "id": "31197183",
   "metadata": {},
   "source": [
    "# Cleaning Numerical columns (P1)"
   ]
  },
  {
   "cell_type": "code",
   "execution_count": 74,
   "id": "207ce051",
   "metadata": {},
   "outputs": [
    {
     "name": "stdout",
     "output_type": "stream",
     "text": [
      "<class 'pandas.core.frame.DataFrame'>\n",
      "RangeIndex: 45466 entries, 0 to 45465\n",
      "Data columns (total 19 columns):\n",
      " #   Column                 Non-Null Count  Dtype  \n",
      "---  ------                 --------------  -----  \n",
      " 0   belongs_to_collection  4491 non-null   object \n",
      " 1   budget                 45466 non-null  object \n",
      " 2   genres                 43024 non-null  object \n",
      " 3   id                     45466 non-null  object \n",
      " 4   original_language      45455 non-null  object \n",
      " 5   overview               44512 non-null  object \n",
      " 6   popularity             45461 non-null  object \n",
      " 7   poster_path            45080 non-null  object \n",
      " 8   production_companies   33585 non-null  object \n",
      " 9   production_countries   45460 non-null  object \n",
      " 10  release_date           45379 non-null  object \n",
      " 11  revenue                45460 non-null  float64\n",
      " 12  runtime                45203 non-null  float64\n",
      " 13  spoken_languages       41508 non-null  object \n",
      " 14  status                 45379 non-null  object \n",
      " 15  tagline                20412 non-null  object \n",
      " 16  title                  45460 non-null  object \n",
      " 17  vote_average           45460 non-null  float64\n",
      " 18  vote_count             45460 non-null  float64\n",
      "dtypes: float64(4), object(15)\n",
      "memory usage: 6.6+ MB\n"
     ]
    }
   ],
   "source": [
    "df.info()"
   ]
  },
  {
   "cell_type": "code",
   "execution_count": 75,
   "id": "f2ab1fd5",
   "metadata": {},
   "outputs": [],
   "source": [
    "# we can see that we have a problem with data types, \"object\" data type\n",
    "# is not good for us, we want to calrify each column's type"
   ]
  },
  {
   "cell_type": "markdown",
   "id": "1f782792",
   "metadata": {},
   "source": [
    "### budget column"
   ]
  },
  {
   "cell_type": "code",
   "execution_count": 76,
   "id": "b3eeea37",
   "metadata": {},
   "outputs": [
    {
     "data": {
      "text/plain": [
       "'30000000'"
      ]
     },
     "execution_count": 76,
     "metadata": {},
     "output_type": "execute_result"
    }
   ],
   "source": [
    "df.budget[0]"
   ]
  },
  {
   "cell_type": "code",
   "execution_count": 77,
   "id": "847d4cc7",
   "metadata": {},
   "outputs": [],
   "source": [
    "# we can see that there are NO null values here, so we try to convert to float\n",
    "\n",
    "# df.budget.astype(\"float\")\n",
    "\n",
    "# and we will get this error : \n",
    "# could not convert string to float: '/ff9qCepilowshEtG2GYWwzt2bs4.jpg'\n",
    "# so we can see that we have UNCLEAN data."
   ]
  },
  {
   "cell_type": "code",
   "execution_count": 78,
   "id": "ed72a527",
   "metadata": {},
   "outputs": [],
   "source": [
    "# even if we try to_numeric methos we will get the same error:\n",
    "\n",
    "#df.budget = pd.to_numeric(df.budget)"
   ]
  },
  {
   "cell_type": "code",
   "execution_count": 79,
   "id": "fa5ff66c",
   "metadata": {},
   "outputs": [],
   "source": [
    "# so we will use errors = \"coerce\" additional parameter\n",
    "# that does this : converts invalid elements to NaN\n",
    "df.budget = pd.to_numeric(df.budget, errors = \"coerce\")"
   ]
  },
  {
   "cell_type": "code",
   "execution_count": 80,
   "id": "6a593ef6",
   "metadata": {},
   "outputs": [
    {
     "data": {
      "text/plain": [
       "0.0           36573\n",
       "5000000.0       286\n",
       "10000000.0      259\n",
       "20000000.0      243\n",
       "2000000.0       242\n",
       "              ...  \n",
       "2115000.0         1\n",
       "1590000.0         1\n",
       "1978000.0         1\n",
       "1182273.0         1\n",
       "2135161.0         1\n",
       "Name: budget, Length: 1224, dtype: int64"
      ]
     },
     "execution_count": 80,
     "metadata": {},
     "output_type": "execute_result"
    }
   ],
   "source": [
    "# we can see now that we have alot of movies(36K) with 0 budget \n",
    "# that is not realistic, they mostly gave 0 budget for movies that they \n",
    "# didnt know theor budget \n",
    "df.budget.value_counts(dropna = False)"
   ]
  },
  {
   "cell_type": "code",
   "execution_count": 81,
   "id": "458e5803",
   "metadata": {},
   "outputs": [],
   "source": [
    "# so we must convert 0 budgets with NaN :\n",
    "df.budget = df.budget.replace(0, np.nan)"
   ]
  },
  {
   "cell_type": "code",
   "execution_count": 82,
   "id": "fb3cbbc2",
   "metadata": {},
   "outputs": [
    {
     "data": {
      "text/plain": [
       "NaN           36576\n",
       "5000000.0       286\n",
       "10000000.0      259\n",
       "20000000.0      243\n",
       "2000000.0       242\n",
       "              ...  \n",
       "2115000.0         1\n",
       "1590000.0         1\n",
       "1978000.0         1\n",
       "1182273.0         1\n",
       "2135161.0         1\n",
       "Name: budget, Length: 1223, dtype: int64"
      ]
     },
     "execution_count": 82,
     "metadata": {},
     "output_type": "execute_result"
    }
   ],
   "source": [
    "df.budget.value_counts(dropna = False)"
   ]
  },
  {
   "cell_type": "code",
   "execution_count": 83,
   "id": "c7deab85",
   "metadata": {},
   "outputs": [],
   "source": [
    "# we can see also, that the min budget is 5M$, so we devide all the \n",
    "# values with 1M so it looks better :\n",
    "df.budget = df.budget.div(1000000)"
   ]
  },
  {
   "cell_type": "code",
   "execution_count": 84,
   "id": "816963e6",
   "metadata": {},
   "outputs": [
    {
     "name": "stdout",
     "output_type": "stream",
     "text": [
      "<class 'pandas.core.frame.DataFrame'>\n",
      "RangeIndex: 45466 entries, 0 to 45465\n",
      "Data columns (total 19 columns):\n",
      " #   Column                 Non-Null Count  Dtype  \n",
      "---  ------                 --------------  -----  \n",
      " 0   belongs_to_collection  4491 non-null   object \n",
      " 1   budget                 8890 non-null   float64\n",
      " 2   genres                 43024 non-null  object \n",
      " 3   id                     45466 non-null  object \n",
      " 4   original_language      45455 non-null  object \n",
      " 5   overview               44512 non-null  object \n",
      " 6   popularity             45461 non-null  object \n",
      " 7   poster_path            45080 non-null  object \n",
      " 8   production_companies   33585 non-null  object \n",
      " 9   production_countries   45460 non-null  object \n",
      " 10  release_date           45379 non-null  object \n",
      " 11  revenue                45460 non-null  float64\n",
      " 12  runtime                45203 non-null  float64\n",
      " 13  spoken_languages       41508 non-null  object \n",
      " 14  status                 45379 non-null  object \n",
      " 15  tagline                20412 non-null  object \n",
      " 16  title                  45460 non-null  object \n",
      " 17  vote_average           45460 non-null  float64\n",
      " 18  vote_count             45460 non-null  float64\n",
      "dtypes: float64(5), object(14)\n",
      "memory usage: 6.6+ MB\n"
     ]
    }
   ],
   "source": [
    "# we can see that we have appropriate data type, and also alot of NaN\n",
    "df.info()"
   ]
  },
  {
   "cell_type": "markdown",
   "id": "f817c09d",
   "metadata": {},
   "source": [
    "### revenue column"
   ]
  },
  {
   "cell_type": "code",
   "execution_count": 85,
   "id": "059f2340",
   "metadata": {},
   "outputs": [
    {
     "data": {
      "text/plain": [
       "0.0           38052\n",
       "12000000.0       20\n",
       "11000000.0       19\n",
       "10000000.0       19\n",
       "2000000.0        18\n",
       "              ...  \n",
       "31554855.0        1\n",
       "9627492.0         1\n",
       "30822861.0        1\n",
       "13960203.0        1\n",
       "38702310.0        1\n",
       "Name: revenue, Length: 6864, dtype: int64"
      ]
     },
     "execution_count": 85,
     "metadata": {},
     "output_type": "execute_result"
    }
   ],
   "source": [
    "# same problems, so we perform same solutions:\n",
    "df.revenue.value_counts(dropna = False)"
   ]
  },
  {
   "cell_type": "code",
   "execution_count": 86,
   "id": "b5ed76d2",
   "metadata": {},
   "outputs": [],
   "source": [
    "df.revenue = df.revenue.replace(0, np.nan)\n",
    "df.revenue = df.revenue.div(1000000)"
   ]
  },
  {
   "cell_type": "code",
   "execution_count": 87,
   "id": "18480496",
   "metadata": {},
   "outputs": [],
   "source": [
    "# then after the changes we made, let's change the names aswell :\n",
    "df.rename(columns ={\"revenue\":\"revenue_musd\",\n",
    "                   \"budget\":\"budget_musd\"}, inplace = True)"
   ]
  },
  {
   "cell_type": "code",
   "execution_count": 88,
   "id": "4baefbbc",
   "metadata": {},
   "outputs": [
    {
     "name": "stdout",
     "output_type": "stream",
     "text": [
      "<class 'pandas.core.frame.DataFrame'>\n",
      "RangeIndex: 45466 entries, 0 to 45465\n",
      "Data columns (total 19 columns):\n",
      " #   Column                 Non-Null Count  Dtype  \n",
      "---  ------                 --------------  -----  \n",
      " 0   belongs_to_collection  4491 non-null   object \n",
      " 1   budget_musd            8890 non-null   float64\n",
      " 2   genres                 43024 non-null  object \n",
      " 3   id                     45466 non-null  object \n",
      " 4   original_language      45455 non-null  object \n",
      " 5   overview               44512 non-null  object \n",
      " 6   popularity             45461 non-null  object \n",
      " 7   poster_path            45080 non-null  object \n",
      " 8   production_companies   33585 non-null  object \n",
      " 9   production_countries   45460 non-null  object \n",
      " 10  release_date           45379 non-null  object \n",
      " 11  revenue_musd           7408 non-null   float64\n",
      " 12  runtime                45203 non-null  float64\n",
      " 13  spoken_languages       41508 non-null  object \n",
      " 14  status                 45379 non-null  object \n",
      " 15  tagline                20412 non-null  object \n",
      " 16  title                  45460 non-null  object \n",
      " 17  vote_average           45460 non-null  float64\n",
      " 18  vote_count             45460 non-null  float64\n",
      "dtypes: float64(5), object(14)\n",
      "memory usage: 6.6+ MB\n"
     ]
    }
   ],
   "source": [
    "df.info()"
   ]
  },
  {
   "cell_type": "markdown",
   "id": "b9d23526",
   "metadata": {},
   "source": [
    "# Cleaning Numerical columns (P2)"
   ]
  },
  {
   "cell_type": "markdown",
   "id": "7f939f97",
   "metadata": {},
   "source": [
    "### runtime column :"
   ]
  },
  {
   "cell_type": "code",
   "execution_count": 89,
   "id": "fd8b7dac",
   "metadata": {},
   "outputs": [
    {
     "data": {
      "text/plain": [
       "90.0     2556\n",
       "0.0      1558\n",
       "100.0    1470\n",
       "95.0     1412\n",
       "93.0     1214\n",
       "         ... \n",
       "383.0       1\n",
       "583.0       1\n",
       "313.0       1\n",
       "289.0       1\n",
       "501.0       1\n",
       "Name: runtime, Length: 354, dtype: int64"
      ]
     },
     "execution_count": 89,
     "metadata": {},
     "output_type": "execute_result"
    }
   ],
   "source": [
    "df.runtime.value_counts(dropna=False)"
   ]
  },
  {
   "cell_type": "code",
   "execution_count": 90,
   "id": "dea87598",
   "metadata": {},
   "outputs": [],
   "source": [
    "# it's not realistic that runtime is 0 minutes, so it's probably missing:\n",
    "# convert it :\n",
    "df.runtime = df.runtime.replace(0, np.nan)"
   ]
  },
  {
   "cell_type": "code",
   "execution_count": 91,
   "id": "621aaf37",
   "metadata": {},
   "outputs": [
    {
     "name": "stdout",
     "output_type": "stream",
     "text": [
      "<class 'pandas.core.frame.DataFrame'>\n",
      "RangeIndex: 45466 entries, 0 to 45465\n",
      "Data columns (total 19 columns):\n",
      " #   Column                 Non-Null Count  Dtype  \n",
      "---  ------                 --------------  -----  \n",
      " 0   belongs_to_collection  4491 non-null   object \n",
      " 1   budget_musd            8890 non-null   float64\n",
      " 2   genres                 43024 non-null  object \n",
      " 3   id                     45466 non-null  object \n",
      " 4   original_language      45455 non-null  object \n",
      " 5   overview               44512 non-null  object \n",
      " 6   popularity             45461 non-null  object \n",
      " 7   poster_path            45080 non-null  object \n",
      " 8   production_companies   33585 non-null  object \n",
      " 9   production_countries   45460 non-null  object \n",
      " 10  release_date           45379 non-null  object \n",
      " 11  revenue_musd           7408 non-null   float64\n",
      " 12  runtime                43645 non-null  float64\n",
      " 13  spoken_languages       41508 non-null  object \n",
      " 14  status                 45379 non-null  object \n",
      " 15  tagline                20412 non-null  object \n",
      " 16  title                  45460 non-null  object \n",
      " 17  vote_average           45460 non-null  float64\n",
      " 18  vote_count             45460 non-null  float64\n",
      "dtypes: float64(5), object(14)\n",
      "memory usage: 6.6+ MB\n"
     ]
    }
   ],
   "source": [
    "df.info()"
   ]
  },
  {
   "cell_type": "markdown",
   "id": "bb34160e",
   "metadata": {},
   "source": [
    "### id column "
   ]
  },
  {
   "cell_type": "code",
   "execution_count": 92,
   "id": "2f17b43c",
   "metadata": {},
   "outputs": [],
   "source": [
    "# try to convert to numeric :\n",
    "\n",
    "#pd.to_numeric(df.id)\n",
    "\n",
    "# we won't be able, beacuse we have unclean data :"
   ]
  },
  {
   "cell_type": "code",
   "execution_count": 93,
   "id": "6caa458f",
   "metadata": {},
   "outputs": [],
   "source": [
    "# so, the general way:\n",
    "df.id = pd.to_numeric(df.id, errors = \"coerce\")"
   ]
  },
  {
   "cell_type": "code",
   "execution_count": 94,
   "id": "ecd8065b",
   "metadata": {},
   "outputs": [
    {
     "data": {
      "text/plain": [
       "NaN         3\n",
       "141971.0    3\n",
       "110428.0    2\n",
       "14788.0     2\n",
       "84198.0     2\n",
       "           ..\n",
       "24740.0     1\n",
       "9737.0      1\n",
       "38726.0     1\n",
       "71772.0     1\n",
       "226693.0    1\n",
       "Name: id, Length: 45434, dtype: int64"
      ]
     },
     "execution_count": 94,
     "metadata": {},
     "output_type": "execute_result"
    }
   ],
   "source": [
    "# we can see that we have some duplicated values, same id for many movies\n",
    "# but we will ahndle that later.\n",
    "df.id.value_counts(dropna = False)"
   ]
  },
  {
   "cell_type": "code",
   "execution_count": 95,
   "id": "ca12e284",
   "metadata": {},
   "outputs": [
    {
     "name": "stdout",
     "output_type": "stream",
     "text": [
      "<class 'pandas.core.frame.DataFrame'>\n",
      "RangeIndex: 45466 entries, 0 to 45465\n",
      "Data columns (total 19 columns):\n",
      " #   Column                 Non-Null Count  Dtype  \n",
      "---  ------                 --------------  -----  \n",
      " 0   belongs_to_collection  4491 non-null   object \n",
      " 1   budget_musd            8890 non-null   float64\n",
      " 2   genres                 43024 non-null  object \n",
      " 3   id                     45463 non-null  float64\n",
      " 4   original_language      45455 non-null  object \n",
      " 5   overview               44512 non-null  object \n",
      " 6   popularity             45461 non-null  object \n",
      " 7   poster_path            45080 non-null  object \n",
      " 8   production_companies   33585 non-null  object \n",
      " 9   production_countries   45460 non-null  object \n",
      " 10  release_date           45379 non-null  object \n",
      " 11  revenue_musd           7408 non-null   float64\n",
      " 12  runtime                43645 non-null  float64\n",
      " 13  spoken_languages       41508 non-null  object \n",
      " 14  status                 45379 non-null  object \n",
      " 15  tagline                20412 non-null  object \n",
      " 16  title                  45460 non-null  object \n",
      " 17  vote_average           45460 non-null  float64\n",
      " 18  vote_count             45460 non-null  float64\n",
      "dtypes: float64(6), object(13)\n",
      "memory usage: 6.6+ MB\n"
     ]
    }
   ],
   "source": [
    "# and we converted it succesfuly:\n",
    "df.info()"
   ]
  },
  {
   "cell_type": "markdown",
   "id": "0f52277b",
   "metadata": {},
   "source": [
    "### popularity column :"
   ]
  },
  {
   "cell_type": "code",
   "execution_count": 96,
   "id": "04b312fa",
   "metadata": {},
   "outputs": [
    {
     "data": {
      "text/plain": [
       "'21.946943'"
      ]
     },
     "execution_count": 96,
     "metadata": {},
     "output_type": "execute_result"
    }
   ],
   "source": [
    "df.popularity[0]"
   ]
  },
  {
   "cell_type": "code",
   "execution_count": 97,
   "id": "5f828e79",
   "metadata": {},
   "outputs": [],
   "source": [
    "# convert with general way:\n",
    "df.popularity = pd.to_numeric(df.popularity, errors = \"coerce\")"
   ]
  },
  {
   "cell_type": "code",
   "execution_count": 98,
   "id": "3f606c82",
   "metadata": {},
   "outputs": [
    {
     "data": {
      "text/plain": [
       "0.000000    66\n",
       "0.000001    56\n",
       "0.000308    43\n",
       "0.000220    40\n",
       "0.001177    38\n",
       "            ..\n",
       "1.880791     1\n",
       "0.531305     1\n",
       "2.424056     1\n",
       "7.772822     1\n",
       "1.691634     1\n",
       "Name: popularity, Length: 43758, dtype: int64"
      ]
     },
     "execution_count": 98,
     "metadata": {},
     "output_type": "execute_result"
    }
   ],
   "source": [
    "# we have some 0 values, but that could be reasonable here\n",
    "# there could be movies with 0 popularity, could be\n",
    "df.popularity.value_counts(dropna = False)"
   ]
  },
  {
   "cell_type": "markdown",
   "id": "b5ea10a9",
   "metadata": {},
   "source": [
    "### vote count, vote average values"
   ]
  },
  {
   "cell_type": "code",
   "execution_count": 99,
   "id": "6cd97490",
   "metadata": {},
   "outputs": [
    {
     "data": {
      "text/plain": [
       "1.0       3264\n",
       "2.0       3132\n",
       "0.0       2899\n",
       "3.0       2787\n",
       "4.0       2480\n",
       "          ... \n",
       "838.0        1\n",
       "1825.0       1\n",
       "1432.0       1\n",
       "4110.0       1\n",
       "992.0        1\n",
       "Name: vote_count, Length: 1821, dtype: int64"
      ]
     },
     "execution_count": 99,
     "metadata": {},
     "output_type": "execute_result"
    }
   ],
   "source": [
    "# vote count can be 0, there is no problems with this column\n",
    "df.vote_count.value_counts(dropna = False)"
   ]
  },
  {
   "cell_type": "code",
   "execution_count": 100,
   "id": "88efad79",
   "metadata": {},
   "outputs": [
    {
     "data": {
      "text/plain": [
       "0.0    2998\n",
       "6.0    2468\n",
       "5.0    2001\n",
       "7.0    1886\n",
       "6.5    1722\n",
       "       ... \n",
       "9.4       3\n",
       "9.6       1\n",
       "1.1       1\n",
       "9.8       1\n",
       "0.7       1\n",
       "Name: vote_average, Length: 93, dtype: int64"
      ]
     },
     "execution_count": 100,
     "metadata": {},
     "output_type": "execute_result"
    }
   ],
   "source": [
    "# 0 values here can be suspicious as vote_average should be between 1-10\n",
    "df.vote_average.value_counts(dropna = False)"
   ]
  },
  {
   "cell_type": "code",
   "execution_count": 101,
   "id": "e04b2ffa",
   "metadata": {},
   "outputs": [
    {
     "data": {
      "text/plain": [
       "83       0.0\n",
       "107      0.0\n",
       "126      0.0\n",
       "132      0.0\n",
       "137      0.0\n",
       "        ... \n",
       "45432    0.0\n",
       "45434    0.0\n",
       "45452    0.0\n",
       "45464    0.0\n",
       "45465    0.0\n",
       "Name: vote_average, Length: 2899, dtype: float64"
      ]
     },
     "execution_count": 101,
     "metadata": {},
     "output_type": "execute_result"
    }
   ],
   "source": [
    "# so in order to check on that, we must look at vote count for these values\n",
    "# it might be that these movies doesnt have any votes \n",
    "# so there vote average is 0, let's make sure\n",
    "df.loc[df.vote_count == 0, \"vote_average\"]"
   ]
  },
  {
   "cell_type": "code",
   "execution_count": 102,
   "id": "5bbd7f0b",
   "metadata": {},
   "outputs": [],
   "source": [
    "# and as we can see, movies that have NO votes at all\n",
    "# they have 0 vote average, so let's convert there vote average to NaN:\n",
    "df.loc[df.vote_count == 0, \"vote_average\"] = np.nan"
   ]
  },
  {
   "cell_type": "code",
   "execution_count": 103,
   "id": "4009c5bf",
   "metadata": {},
   "outputs": [
    {
     "name": "stdout",
     "output_type": "stream",
     "text": [
      "<class 'pandas.core.frame.DataFrame'>\n",
      "RangeIndex: 45466 entries, 0 to 45465\n",
      "Data columns (total 19 columns):\n",
      " #   Column                 Non-Null Count  Dtype  \n",
      "---  ------                 --------------  -----  \n",
      " 0   belongs_to_collection  4491 non-null   object \n",
      " 1   budget_musd            8890 non-null   float64\n",
      " 2   genres                 43024 non-null  object \n",
      " 3   id                     45463 non-null  float64\n",
      " 4   original_language      45455 non-null  object \n",
      " 5   overview               44512 non-null  object \n",
      " 6   popularity             45460 non-null  float64\n",
      " 7   poster_path            45080 non-null  object \n",
      " 8   production_companies   33585 non-null  object \n",
      " 9   production_countries   45460 non-null  object \n",
      " 10  release_date           45379 non-null  object \n",
      " 11  revenue_musd           7408 non-null   float64\n",
      " 12  runtime                43645 non-null  float64\n",
      " 13  spoken_languages       41508 non-null  object \n",
      " 14  status                 45379 non-null  object \n",
      " 15  tagline                20412 non-null  object \n",
      " 16  title                  45460 non-null  object \n",
      " 17  vote_average           42561 non-null  float64\n",
      " 18  vote_count             45460 non-null  float64\n",
      "dtypes: float64(7), object(12)\n",
      "memory usage: 6.6+ MB\n"
     ]
    }
   ],
   "source": [
    "df.info()"
   ]
  },
  {
   "cell_type": "markdown",
   "id": "a5989994",
   "metadata": {},
   "source": [
    "# Clean columns with DateTime:"
   ]
  },
  {
   "cell_type": "code",
   "execution_count": 104,
   "id": "de263573",
   "metadata": {},
   "outputs": [
    {
     "data": {
      "text/plain": [
       "0        1995-10-30\n",
       "1        1995-12-15\n",
       "2        1995-12-22\n",
       "3        1995-12-22\n",
       "4        1995-02-10\n",
       "            ...    \n",
       "45461           NaN\n",
       "45462    2011-11-17\n",
       "45463    2003-08-01\n",
       "45464    1917-10-21\n",
       "45465    2017-06-09\n",
       "Name: release_date, Length: 45466, dtype: object"
      ]
     },
     "execution_count": 104,
     "metadata": {},
     "output_type": "execute_result"
    }
   ],
   "source": [
    "df.release_date"
   ]
  },
  {
   "cell_type": "code",
   "execution_count": 105,
   "id": "65f9c97e",
   "metadata": {},
   "outputs": [],
   "source": [
    "# convert to datetime data type, but we will get an error\n",
    "\n",
    "#pd.to_datetime(df.release_date)"
   ]
  },
  {
   "cell_type": "code",
   "execution_count": 106,
   "id": "4e1e6daf",
   "metadata": {},
   "outputs": [],
   "source": [
    "df.release_date = pd.to_datetime(df.release_date, errors = \"coerce\")"
   ]
  },
  {
   "cell_type": "code",
   "execution_count": 107,
   "id": "f2aacc9c",
   "metadata": {},
   "outputs": [
    {
     "data": {
      "text/plain": [
       "2008-01-01    136\n",
       "2009-01-01    121\n",
       "2007-01-01    118\n",
       "2005-01-01    111\n",
       "2006-01-01    101\n",
       "             ... \n",
       "1970-04-17      1\n",
       "1969-02-24      1\n",
       "1954-11-04      1\n",
       "1987-02-23      1\n",
       "1976-11-07      1\n",
       "Name: release_date, Length: 17333, dtype: int64"
      ]
     },
     "execution_count": 107,
     "metadata": {},
     "output_type": "execute_result"
    }
   ],
   "source": [
    "df.release_date.value_counts()"
   ]
  },
  {
   "cell_type": "markdown",
   "id": "b87f7a96",
   "metadata": {},
   "source": [
    "# Clean string / text column:"
   ]
  },
  {
   "cell_type": "code",
   "execution_count": 108,
   "id": "5d3c1731",
   "metadata": {},
   "outputs": [
    {
     "name": "stdout",
     "output_type": "stream",
     "text": [
      "<class 'pandas.core.frame.DataFrame'>\n",
      "RangeIndex: 45466 entries, 0 to 45465\n",
      "Data columns (total 19 columns):\n",
      " #   Column                 Non-Null Count  Dtype         \n",
      "---  ------                 --------------  -----         \n",
      " 0   belongs_to_collection  4491 non-null   object        \n",
      " 1   budget_musd            8890 non-null   float64       \n",
      " 2   genres                 43024 non-null  object        \n",
      " 3   id                     45463 non-null  float64       \n",
      " 4   original_language      45455 non-null  object        \n",
      " 5   overview               44512 non-null  object        \n",
      " 6   popularity             45460 non-null  float64       \n",
      " 7   poster_path            45080 non-null  object        \n",
      " 8   production_companies   33585 non-null  object        \n",
      " 9   production_countries   45460 non-null  object        \n",
      " 10  release_date           45376 non-null  datetime64[ns]\n",
      " 11  revenue_musd           7408 non-null   float64       \n",
      " 12  runtime                43645 non-null  float64       \n",
      " 13  spoken_languages       41508 non-null  object        \n",
      " 14  status                 45379 non-null  object        \n",
      " 15  tagline                20412 non-null  object        \n",
      " 16  title                  45460 non-null  object        \n",
      " 17  vote_average           42561 non-null  float64       \n",
      " 18  vote_count             45460 non-null  float64       \n",
      "dtypes: datetime64[ns](1), float64(7), object(11)\n",
      "memory usage: 6.6+ MB\n"
     ]
    }
   ],
   "source": [
    "df.info()"
   ]
  },
  {
   "cell_type": "markdown",
   "id": "14e36090",
   "metadata": {},
   "source": [
    "### original_language column"
   ]
  },
  {
   "cell_type": "code",
   "execution_count": 109,
   "id": "6fab1872",
   "metadata": {},
   "outputs": [
    {
     "data": {
      "text/plain": [
       "en       32269\n",
       "fr        2438\n",
       "it        1529\n",
       "ja        1350\n",
       "de        1080\n",
       "         ...  \n",
       "zu           1\n",
       "104.0        1\n",
       "fy           1\n",
       "68.0         1\n",
       "cy           1\n",
       "Name: original_language, Length: 93, dtype: int64"
      ]
     },
     "execution_count": 109,
     "metadata": {},
     "output_type": "execute_result"
    }
   ],
   "source": [
    "# there is unclean data as we see:\n",
    "df.original_language.value_counts(dropna = False)"
   ]
  },
  {
   "cell_type": "markdown",
   "id": "d4996c82",
   "metadata": {},
   "source": [
    "### title column"
   ]
  },
  {
   "cell_type": "code",
   "execution_count": 110,
   "id": "92fc6d61",
   "metadata": {},
   "outputs": [
    {
     "data": {
      "text/plain": [
       "Cinderella              11\n",
       "Alice in Wonderland      9\n",
       "Hamlet                   9\n",
       "Les Misérables           8\n",
       "Beauty and the Beast     8\n",
       "                        ..\n",
       "Color of the Ocean       1\n",
       "Da grande                1\n",
       "Concrete Blondes         1\n",
       "Dead Reckoning           1\n",
       "I Belong                 1\n",
       "Name: title, Length: 42278, dtype: int64"
      ]
     },
     "execution_count": 110,
     "metadata": {},
     "output_type": "execute_result"
    }
   ],
   "source": [
    "df.title.value_counts(dropna = False)"
   ]
  },
  {
   "cell_type": "markdown",
   "id": "d73e2d7d",
   "metadata": {},
   "source": [
    "### overview column"
   ]
  },
  {
   "cell_type": "code",
   "execution_count": 111,
   "id": "4e351f10",
   "metadata": {},
   "outputs": [
    {
     "data": {
      "text/plain": [
       "\"Led by Woody, Andy's toys live happily in his room until Andy's birthday brings Buzz Lightyear onto the scene. Afraid of losing his place in Andy's heart, Woody plots against Buzz. But when circumstances separate Buzz and Woody from their owner, the duo eventually learns to put aside their differences.\""
      ]
     },
     "execution_count": 111,
     "metadata": {},
     "output_type": "execute_result"
    }
   ],
   "source": [
    "df.overview[0]"
   ]
  },
  {
   "cell_type": "code",
   "execution_count": 112,
   "id": "6d0d5bd6",
   "metadata": {},
   "outputs": [
    {
     "data": {
      "text/plain": [
       "0        Led by Woody, Andy's toys live happily in his ...\n",
       "1        When siblings Judy and Peter discover an encha...\n",
       "2        A family wedding reignites the ancient feud be...\n",
       "3        Cheated on, mistreated and stepped on, the wom...\n",
       "4        Just when George Banks has recovered from his ...\n",
       "                               ...                        \n",
       "45461          Rising and falling between a man and woman.\n",
       "45462    An artist struggles to finish his work while a...\n",
       "45463    When one of her hits goes wrong, a professiona...\n",
       "45464    In a small town live two brothers, one a minis...\n",
       "45465    50 years after decriminalisation of homosexual...\n",
       "Name: overview, Length: 45466, dtype: object"
      ]
     },
     "execution_count": 112,
     "metadata": {},
     "output_type": "execute_result"
    }
   ],
   "source": [
    "df.overview"
   ]
  },
  {
   "cell_type": "code",
   "execution_count": 116,
   "id": "5065d87a",
   "metadata": {},
   "outputs": [
    {
     "data": {
      "text/plain": [
       "NaN                                                                                                                                                                                                                                                                                                                                                                                                                                                                                                                                                                                               954\n",
       "No overview found.                                                                                                                                                                                                                                                                                                                                                                                                                                                                                                                                                                                133\n",
       "No Overview                                                                                                                                                                                                                                                                                                                                                                                                                                                                                                                                                                                         7\n",
       "                                                                                                                                                                                                                                                                                                                                                                                                                                                                                                                                                                                                    5\n",
       "Recovering from a nail gun shot to the head and 13 months of coma, doctor Pekka Valinta starts to unravel the mystery of his past, still suffering from total amnesia.                                                                                                                                                                                                                                                                                                                                                                                                                              3\n",
       "Adaptation of the Jane Austen novel.                                                                                                                                                                                                                                                                                                                                                                                                                                                                                                                                                                3\n",
       "No movie overview available.                                                                                                                                                                                                                                                                                                                                                                                                                                                                                                                                                                        3\n",
       "A few funny little novels about different aspects of life.                                                                                                                                                                                                                                                                                                                                                                                                                                                                                                                                          3\n",
       "King Lear, old and tired, divides his kingdom among his daughters, giving great importance to their protestations of love for him. When Cordelia, youngest and most honest, refuses to idly flatter the old man in return for favor, he banishes her and turns for support to his remaining daughters. But Goneril and Regan have no love for him and instead plot to take all his power from him. In a parallel, Lear's loyal courtier Gloucester favors his illegitimate son Edmund after being told lies about his faithful son Edgar. Madness and tragedy befall both ill-starred fathers.      3\n",
       "Released                                                                                                                                                                                                                                                                                                                                                                                                                                                                                                                                                                                            3\n",
       "Name: overview, dtype: int64"
      ]
     },
     "execution_count": 116,
     "metadata": {},
     "output_type": "execute_result"
    }
   ],
   "source": [
    "# we can see that we have values like : \" \", No Overview ,No overview found.,\n",
    "# and No movie overview available.\n",
    "df.overview.value_counts(dropna = False).head(10)"
   ]
  },
  {
   "cell_type": "code",
   "execution_count": 117,
   "id": "32d9dbd2",
   "metadata": {},
   "outputs": [],
   "source": [
    "# so wee need to replace them with NaN:\n",
    "df.overview.replace(\"No overview found.\", np.nan, inplace = True)"
   ]
  },
  {
   "cell_type": "code",
   "execution_count": 118,
   "id": "b52b6fd3",
   "metadata": {},
   "outputs": [],
   "source": [
    "df.overview.replace(\"No Overview\", np.nan, inplace = True)"
   ]
  },
  {
   "cell_type": "code",
   "execution_count": 119,
   "id": "a8245642",
   "metadata": {},
   "outputs": [],
   "source": [
    "df.overview.replace(\"No movie overview available.\", np.nan, inplace = True)"
   ]
  },
  {
   "cell_type": "code",
   "execution_count": 120,
   "id": "4b2c6030",
   "metadata": {},
   "outputs": [],
   "source": [
    "df.overview.replace(\" \", np.nan, inplace = True)"
   ]
  },
  {
   "cell_type": "code",
   "execution_count": 121,
   "id": "5cd721c3",
   "metadata": {},
   "outputs": [],
   "source": [
    "df.overview.replace(\"No overview yet.\", np.nan, inplace = True)"
   ]
  },
  {
   "cell_type": "code",
   "execution_count": 122,
   "id": "a8999697",
   "metadata": {},
   "outputs": [
    {
     "data": {
      "text/plain": [
       "NaN                                                                                                                                                                                                                                                                                                                                                                                                                                                                                                                                                                                               1104\n",
       "Recovering from a nail gun shot to the head and 13 months of coma, doctor Pekka Valinta starts to unravel the mystery of his past, still suffering from total amnesia.                                                                                                                                                                                                                                                                                                                                                                                                                               3\n",
       "A few funny little novels about different aspects of life.                                                                                                                                                                                                                                                                                                                                                                                                                                                                                                                                           3\n",
       "Adaptation of the Jane Austen novel.                                                                                                                                                                                                                                                                                                                                                                                                                                                                                                                                                                 3\n",
       "King Lear, old and tired, divides his kingdom among his daughters, giving great importance to their protestations of love for him. When Cordelia, youngest and most honest, refuses to idly flatter the old man in return for favor, he banishes her and turns for support to his remaining daughters. But Goneril and Regan have no love for him and instead plot to take all his power from him. In a parallel, Lear's loyal courtier Gloucester favors his illegitimate son Edmund after being told lies about his faithful son Edgar. Madness and tragedy befall both ill-starred fathers.       3\n",
       "Released                                                                                                                                                                                                                                                                                                                                                                                                                                                                                                                                                                                             3\n",
       "Mary, a writer working on a novel about a love triangle, is attracted to her publisher. Her suitor Jimmy is determined to break them up; he introduces Mary to the publisher's wife without telling Mary who she is.                                                                                                                                                                                                                                                                                                                                                                                 2\n",
       "As an ex-gambler teaches a hot-shot college kid some things about playing cards, he finds himself pulled into the world series of poker, where his protégé is his toughest competition.                                                                                                                                                                                                                                                                                                                                                                                                              2\n",
       "A Russian engineer Petr Garin possesses a unique beam-shooting weapon that can destroy any target. His goal is to achieve world domination with the help of this weapon. Vasily Shelga is out to stop him and also to prevent others getting possession of this weapon.                                                                                                                                                                                                                                                                                                                              2\n",
       "The ghost of a samurai's wife takes revenge on her husband.                                                                                                                                                                                                                                                                                                                                                                                                                                                                                                                                          2\n",
       "Name: overview, dtype: int64"
      ]
     },
     "execution_count": 122,
     "metadata": {},
     "output_type": "execute_result"
    }
   ],
   "source": [
    "# take a look again:\n",
    "df.overview.value_counts(dropna = False).head(10)"
   ]
  },
  {
   "cell_type": "markdown",
   "id": "08ba6e28",
   "metadata": {},
   "source": [
    "### tagline column:"
   ]
  },
  {
   "cell_type": "code",
   "execution_count": 123,
   "id": "1c4a7121",
   "metadata": {},
   "outputs": [
    {
     "data": {
      "text/plain": [
       "NaN                                                           25054\n",
       "Based on a true story.                                            7\n",
       "Trust no one.                                                     4\n",
       "-                                                                 4\n",
       "Be careful what you wish for.                                     4\n",
       "The end is near.                                                  3\n",
       "Classic Albums                                                    3\n",
       "There are two sides to every love story.                          3\n",
       "Know Your Enemy                                                   3\n",
       "Which one is the first to return - memory or the murderer?        3\n",
       "Name: tagline, dtype: int64"
      ]
     },
     "execution_count": 123,
     "metadata": {},
     "output_type": "execute_result"
    }
   ],
   "source": [
    "# we can see values \"-\"\n",
    "df.tagline.value_counts(dropna = False).head(10)"
   ]
  },
  {
   "cell_type": "code",
   "execution_count": 124,
   "id": "5117443c",
   "metadata": {},
   "outputs": [],
   "source": [
    "# replace it with NaN:\n",
    "df.tagline.replace(\"-\", np.nan, inplace = True)"
   ]
  },
  {
   "cell_type": "markdown",
   "id": "1781eff6",
   "metadata": {},
   "source": [
    "# Find and remove duplicates"
   ]
  },
  {
   "cell_type": "code",
   "execution_count": 125,
   "id": "018e5566",
   "metadata": {},
   "outputs": [],
   "source": [
    "# here it's an easy mission because we have an id for each movie\n",
    "# we dont want 2 movies to ahve the same id, simple as that"
   ]
  },
  {
   "cell_type": "code",
   "execution_count": 129,
   "id": "79f393df",
   "metadata": {},
   "outputs": [
    {
     "data": {
      "text/html": [
       "<div>\n",
       "<style scoped>\n",
       "    .dataframe tbody tr th:only-of-type {\n",
       "        vertical-align: middle;\n",
       "    }\n",
       "\n",
       "    .dataframe tbody tr th {\n",
       "        vertical-align: top;\n",
       "    }\n",
       "\n",
       "    .dataframe thead th {\n",
       "        text-align: right;\n",
       "    }\n",
       "</style>\n",
       "<table border=\"1\" class=\"dataframe\">\n",
       "  <thead>\n",
       "    <tr style=\"text-align: right;\">\n",
       "      <th></th>\n",
       "      <th>belongs_to_collection</th>\n",
       "      <th>budget_musd</th>\n",
       "      <th>genres</th>\n",
       "      <th>id</th>\n",
       "      <th>original_language</th>\n",
       "      <th>overview</th>\n",
       "      <th>popularity</th>\n",
       "      <th>poster_path</th>\n",
       "      <th>production_companies</th>\n",
       "      <th>production_countries</th>\n",
       "      <th>release_date</th>\n",
       "      <th>revenue_musd</th>\n",
       "      <th>runtime</th>\n",
       "      <th>spoken_languages</th>\n",
       "      <th>status</th>\n",
       "      <th>tagline</th>\n",
       "      <th>title</th>\n",
       "      <th>vote_average</th>\n",
       "      <th>vote_count</th>\n",
       "    </tr>\n",
       "  </thead>\n",
       "  <tbody>\n",
       "    <tr>\n",
       "      <th>7345</th>\n",
       "      <td>NaN</td>\n",
       "      <td>NaN</td>\n",
       "      <td>Crime|Drama|Thriller</td>\n",
       "      <td>5511.0</td>\n",
       "      <td>fr</td>\n",
       "      <td>Hitman Jef Costello is a perfectionist who alw...</td>\n",
       "      <td>9.091288</td>\n",
       "      <td>/cvNW8IXigbaMNo4gKEIps0NGnhA.jpg</td>\n",
       "      <td>Fida cinematografica|Compagnie Industrielle et...</td>\n",
       "      <td>France|Italy</td>\n",
       "      <td>1967-10-25</td>\n",
       "      <td>0.039481</td>\n",
       "      <td>105.0</td>\n",
       "      <td>Français</td>\n",
       "      <td>Released</td>\n",
       "      <td>There is no solitude greater than that of the ...</td>\n",
       "      <td>Le Samouraï</td>\n",
       "      <td>7.9</td>\n",
       "      <td>187.0</td>\n",
       "    </tr>\n",
       "    <tr>\n",
       "      <th>9165</th>\n",
       "      <td>NaN</td>\n",
       "      <td>NaN</td>\n",
       "      <td>Crime|Drama|Thriller</td>\n",
       "      <td>5511.0</td>\n",
       "      <td>fr</td>\n",
       "      <td>Hitman Jef Costello is a perfectionist who alw...</td>\n",
       "      <td>9.091288</td>\n",
       "      <td>/cvNW8IXigbaMNo4gKEIps0NGnhA.jpg</td>\n",
       "      <td>Fida cinematografica|Compagnie Industrielle et...</td>\n",
       "      <td>France|Italy</td>\n",
       "      <td>1967-10-25</td>\n",
       "      <td>0.039481</td>\n",
       "      <td>105.0</td>\n",
       "      <td>Français</td>\n",
       "      <td>Released</td>\n",
       "      <td>There is no solitude greater than that of the ...</td>\n",
       "      <td>Le Samouraï</td>\n",
       "      <td>7.9</td>\n",
       "      <td>187.0</td>\n",
       "    </tr>\n",
       "    <tr>\n",
       "      <th>24844</th>\n",
       "      <td>NaN</td>\n",
       "      <td>NaN</td>\n",
       "      <td>Comedy|Drama</td>\n",
       "      <td>11115.0</td>\n",
       "      <td>en</td>\n",
       "      <td>As an ex-gambler teaches a hot-shot college ki...</td>\n",
       "      <td>6.880365</td>\n",
       "      <td>/kHaBqrrozaG7rj6GJg3sUCiM29B.jpg</td>\n",
       "      <td>Andertainment Group|Crescent City Pictures|Tag...</td>\n",
       "      <td>United States of America</td>\n",
       "      <td>2008-01-29</td>\n",
       "      <td>NaN</td>\n",
       "      <td>85.0</td>\n",
       "      <td>English</td>\n",
       "      <td>Released</td>\n",
       "      <td>NaN</td>\n",
       "      <td>Deal</td>\n",
       "      <td>5.2</td>\n",
       "      <td>22.0</td>\n",
       "    </tr>\n",
       "    <tr>\n",
       "      <th>14012</th>\n",
       "      <td>NaN</td>\n",
       "      <td>NaN</td>\n",
       "      <td>Comedy|Drama</td>\n",
       "      <td>11115.0</td>\n",
       "      <td>en</td>\n",
       "      <td>As an ex-gambler teaches a hot-shot college ki...</td>\n",
       "      <td>6.880365</td>\n",
       "      <td>/kHaBqrrozaG7rj6GJg3sUCiM29B.jpg</td>\n",
       "      <td>Andertainment Group|Crescent City Pictures|Tag...</td>\n",
       "      <td>United States of America</td>\n",
       "      <td>2008-01-29</td>\n",
       "      <td>NaN</td>\n",
       "      <td>85.0</td>\n",
       "      <td>English</td>\n",
       "      <td>Released</td>\n",
       "      <td>NaN</td>\n",
       "      <td>Deal</td>\n",
       "      <td>5.2</td>\n",
       "      <td>22.0</td>\n",
       "    </tr>\n",
       "    <tr>\n",
       "      <th>22151</th>\n",
       "      <td>NaN</td>\n",
       "      <td>NaN</td>\n",
       "      <td>Action|Horror|Science Fiction</td>\n",
       "      <td>18440.0</td>\n",
       "      <td>en</td>\n",
       "      <td>When a comet strikes Earth and kicks up a clou...</td>\n",
       "      <td>1.436085</td>\n",
       "      <td>/tWCyKXHuSrQdLAvNeeVJBnhf1Yv.jpg</td>\n",
       "      <td>NaN</td>\n",
       "      <td>United States of America</td>\n",
       "      <td>2007-01-01</td>\n",
       "      <td>NaN</td>\n",
       "      <td>89.0</td>\n",
       "      <td>English</td>\n",
       "      <td>Released</td>\n",
       "      <td>NaN</td>\n",
       "      <td>Days of Darkness</td>\n",
       "      <td>5.0</td>\n",
       "      <td>5.0</td>\n",
       "    </tr>\n",
       "    <tr>\n",
       "      <th>14000</th>\n",
       "      <td>NaN</td>\n",
       "      <td>NaN</td>\n",
       "      <td>Action|Horror|Science Fiction</td>\n",
       "      <td>18440.0</td>\n",
       "      <td>en</td>\n",
       "      <td>When a comet strikes Earth and kicks up a clou...</td>\n",
       "      <td>1.436085</td>\n",
       "      <td>/tWCyKXHuSrQdLAvNeeVJBnhf1Yv.jpg</td>\n",
       "      <td>NaN</td>\n",
       "      <td>United States of America</td>\n",
       "      <td>2007-01-01</td>\n",
       "      <td>NaN</td>\n",
       "      <td>89.0</td>\n",
       "      <td>English</td>\n",
       "      <td>Released</td>\n",
       "      <td>NaN</td>\n",
       "      <td>Days of Darkness</td>\n",
       "      <td>5.0</td>\n",
       "      <td>5.0</td>\n",
       "    </tr>\n",
       "  </tbody>\n",
       "</table>\n",
       "</div>"
      ],
      "text/plain": [
       "      belongs_to_collection  budget_musd                         genres  \\\n",
       "7345                    NaN          NaN           Crime|Drama|Thriller   \n",
       "9165                    NaN          NaN           Crime|Drama|Thriller   \n",
       "24844                   NaN          NaN                   Comedy|Drama   \n",
       "14012                   NaN          NaN                   Comedy|Drama   \n",
       "22151                   NaN          NaN  Action|Horror|Science Fiction   \n",
       "14000                   NaN          NaN  Action|Horror|Science Fiction   \n",
       "\n",
       "            id original_language  \\\n",
       "7345    5511.0                fr   \n",
       "9165    5511.0                fr   \n",
       "24844  11115.0                en   \n",
       "14012  11115.0                en   \n",
       "22151  18440.0                en   \n",
       "14000  18440.0                en   \n",
       "\n",
       "                                                overview  popularity  \\\n",
       "7345   Hitman Jef Costello is a perfectionist who alw...    9.091288   \n",
       "9165   Hitman Jef Costello is a perfectionist who alw...    9.091288   \n",
       "24844  As an ex-gambler teaches a hot-shot college ki...    6.880365   \n",
       "14012  As an ex-gambler teaches a hot-shot college ki...    6.880365   \n",
       "22151  When a comet strikes Earth and kicks up a clou...    1.436085   \n",
       "14000  When a comet strikes Earth and kicks up a clou...    1.436085   \n",
       "\n",
       "                            poster_path  \\\n",
       "7345   /cvNW8IXigbaMNo4gKEIps0NGnhA.jpg   \n",
       "9165   /cvNW8IXigbaMNo4gKEIps0NGnhA.jpg   \n",
       "24844  /kHaBqrrozaG7rj6GJg3sUCiM29B.jpg   \n",
       "14012  /kHaBqrrozaG7rj6GJg3sUCiM29B.jpg   \n",
       "22151  /tWCyKXHuSrQdLAvNeeVJBnhf1Yv.jpg   \n",
       "14000  /tWCyKXHuSrQdLAvNeeVJBnhf1Yv.jpg   \n",
       "\n",
       "                                    production_companies  \\\n",
       "7345   Fida cinematografica|Compagnie Industrielle et...   \n",
       "9165   Fida cinematografica|Compagnie Industrielle et...   \n",
       "24844  Andertainment Group|Crescent City Pictures|Tag...   \n",
       "14012  Andertainment Group|Crescent City Pictures|Tag...   \n",
       "22151                                                NaN   \n",
       "14000                                                NaN   \n",
       "\n",
       "           production_countries release_date  revenue_musd  runtime  \\\n",
       "7345               France|Italy   1967-10-25      0.039481    105.0   \n",
       "9165               France|Italy   1967-10-25      0.039481    105.0   \n",
       "24844  United States of America   2008-01-29           NaN     85.0   \n",
       "14012  United States of America   2008-01-29           NaN     85.0   \n",
       "22151  United States of America   2007-01-01           NaN     89.0   \n",
       "14000  United States of America   2007-01-01           NaN     89.0   \n",
       "\n",
       "      spoken_languages    status  \\\n",
       "7345          Français  Released   \n",
       "9165          Français  Released   \n",
       "24844          English  Released   \n",
       "14012          English  Released   \n",
       "22151          English  Released   \n",
       "14000          English  Released   \n",
       "\n",
       "                                                 tagline             title  \\\n",
       "7345   There is no solitude greater than that of the ...       Le Samouraï   \n",
       "9165   There is no solitude greater than that of the ...       Le Samouraï   \n",
       "24844                                                NaN              Deal   \n",
       "14012                                                NaN              Deal   \n",
       "22151                                                NaN  Days of Darkness   \n",
       "14000                                                NaN  Days of Darkness   \n",
       "\n",
       "       vote_average  vote_count  \n",
       "7345            7.9       187.0  \n",
       "9165            7.9       187.0  \n",
       "24844           5.2        22.0  \n",
       "14012           5.2        22.0  \n",
       "22151           5.0         5.0  \n",
       "14000           5.0         5.0  "
      ]
     },
     "execution_count": 129,
     "metadata": {},
     "output_type": "execute_result"
    }
   ],
   "source": [
    "# with this method we can pull only duplicated values \n",
    "# DUPLICATED INSTANCES : THE SAME VALUE IN ALL COLUMNS (id,genres,...)\n",
    "# and then we sort them by id :\n",
    "# but i chose to pull only the first 6 \n",
    "df[df.duplicated(keep = False)].sort_values(by = \"id\").head(6)"
   ]
  },
  {
   "cell_type": "code",
   "execution_count": 130,
   "id": "9ccb915f",
   "metadata": {},
   "outputs": [],
   "source": [
    "# anyway we can see that there are duplicates so let's remove them :\n",
    "# we can drop duplicated instances and keep the first instance only\n",
    "df.drop_duplicates(inplace = True)"
   ]
  },
  {
   "cell_type": "code",
   "execution_count": 133,
   "id": "0730c3c5",
   "metadata": {},
   "outputs": [
    {
     "data": {
      "text/html": [
       "<div>\n",
       "<style scoped>\n",
       "    .dataframe tbody tr th:only-of-type {\n",
       "        vertical-align: middle;\n",
       "    }\n",
       "\n",
       "    .dataframe tbody tr th {\n",
       "        vertical-align: top;\n",
       "    }\n",
       "\n",
       "    .dataframe thead th {\n",
       "        text-align: right;\n",
       "    }\n",
       "</style>\n",
       "<table border=\"1\" class=\"dataframe\">\n",
       "  <thead>\n",
       "    <tr style=\"text-align: right;\">\n",
       "      <th></th>\n",
       "      <th>belongs_to_collection</th>\n",
       "      <th>budget_musd</th>\n",
       "      <th>genres</th>\n",
       "      <th>id</th>\n",
       "      <th>original_language</th>\n",
       "      <th>overview</th>\n",
       "      <th>popularity</th>\n",
       "      <th>poster_path</th>\n",
       "      <th>production_companies</th>\n",
       "      <th>production_countries</th>\n",
       "      <th>release_date</th>\n",
       "      <th>revenue_musd</th>\n",
       "      <th>runtime</th>\n",
       "      <th>spoken_languages</th>\n",
       "      <th>status</th>\n",
       "      <th>tagline</th>\n",
       "      <th>title</th>\n",
       "      <th>vote_average</th>\n",
       "      <th>vote_count</th>\n",
       "    </tr>\n",
       "  </thead>\n",
       "  <tbody>\n",
       "    <tr>\n",
       "      <th>33826</th>\n",
       "      <td>NaN</td>\n",
       "      <td>30.0</td>\n",
       "      <td>Comedy|Crime|Drama|Romance|Thriller</td>\n",
       "      <td>4912.0</td>\n",
       "      <td>en</td>\n",
       "      <td>Television made him famous, but his biggest hi...</td>\n",
       "      <td>7.645827</td>\n",
       "      <td>/o3Im9nPLAgtlw1j2LtpMebAotSe.jpg</td>\n",
       "      <td>Miramax Films|Allied Filmmakers|Mad Chance</td>\n",
       "      <td>United States of America</td>\n",
       "      <td>2002-12-30</td>\n",
       "      <td>33.013805</td>\n",
       "      <td>113.0</td>\n",
       "      <td>English</td>\n",
       "      <td>Released</td>\n",
       "      <td>Some things are better left top secret.</td>\n",
       "      <td>Confessions of a Dangerous Mind</td>\n",
       "      <td>6.6</td>\n",
       "      <td>281.0</td>\n",
       "    </tr>\n",
       "    <tr>\n",
       "      <th>5865</th>\n",
       "      <td>NaN</td>\n",
       "      <td>30.0</td>\n",
       "      <td>Comedy|Crime|Drama|Romance|Thriller</td>\n",
       "      <td>4912.0</td>\n",
       "      <td>en</td>\n",
       "      <td>Television made him famous, but his biggest hi...</td>\n",
       "      <td>11.331072</td>\n",
       "      <td>/o3Im9nPLAgtlw1j2LtpMebAotSe.jpg</td>\n",
       "      <td>Miramax Films|Allied Filmmakers|Mad Chance</td>\n",
       "      <td>United States of America</td>\n",
       "      <td>2002-12-30</td>\n",
       "      <td>33.013805</td>\n",
       "      <td>113.0</td>\n",
       "      <td>English</td>\n",
       "      <td>Released</td>\n",
       "      <td>Some things are better left top secret.</td>\n",
       "      <td>Confessions of a Dangerous Mind</td>\n",
       "      <td>6.6</td>\n",
       "      <td>281.0</td>\n",
       "    </tr>\n",
       "    <tr>\n",
       "      <th>4114</th>\n",
       "      <td>Pokémon Collection</td>\n",
       "      <td>16.0</td>\n",
       "      <td>Adventure|Fantasy|Animation|Action|Family</td>\n",
       "      <td>10991.0</td>\n",
       "      <td>ja</td>\n",
       "      <td>When Molly Hale's sadness of her father's disa...</td>\n",
       "      <td>10.264597</td>\n",
       "      <td>/5ILjS6XB5deiHop8SXPsYxXWVPE.jpg</td>\n",
       "      <td>TV Tokyo|4 Kids Entertainment|Nintendo|Pikachu...</td>\n",
       "      <td>Japan</td>\n",
       "      <td>2000-07-08</td>\n",
       "      <td>68.411275</td>\n",
       "      <td>93.0</td>\n",
       "      <td>English</td>\n",
       "      <td>Released</td>\n",
       "      <td>Pokémon: Spell of the Unknown</td>\n",
       "      <td>Pokémon: Spell of the Unknown</td>\n",
       "      <td>6.0</td>\n",
       "      <td>143.0</td>\n",
       "    </tr>\n",
       "    <tr>\n",
       "      <th>44821</th>\n",
       "      <td>Pokémon Collection</td>\n",
       "      <td>16.0</td>\n",
       "      <td>Adventure|Fantasy|Animation|Action|Family</td>\n",
       "      <td>10991.0</td>\n",
       "      <td>ja</td>\n",
       "      <td>When Molly Hale's sadness of her father's disa...</td>\n",
       "      <td>6.480376</td>\n",
       "      <td>/5ILjS6XB5deiHop8SXPsYxXWVPE.jpg</td>\n",
       "      <td>TV Tokyo|4 Kids Entertainment|Nintendo|Pikachu...</td>\n",
       "      <td>Japan</td>\n",
       "      <td>2000-07-08</td>\n",
       "      <td>68.411275</td>\n",
       "      <td>93.0</td>\n",
       "      <td>English</td>\n",
       "      <td>Released</td>\n",
       "      <td>Pokémon: Spell of the Unknown</td>\n",
       "      <td>Pokémon: Spell of the Unknown</td>\n",
       "      <td>6.0</td>\n",
       "      <td>144.0</td>\n",
       "    </tr>\n",
       "    <tr>\n",
       "      <th>44826</th>\n",
       "      <td>Pokémon Collection</td>\n",
       "      <td>NaN</td>\n",
       "      <td>Adventure|Fantasy|Animation|Science Fiction|Fa...</td>\n",
       "      <td>12600.0</td>\n",
       "      <td>ja</td>\n",
       "      <td>All your favorite Pokémon characters are back,...</td>\n",
       "      <td>6.080108</td>\n",
       "      <td>/bqL0PVHbQ8Jmw3Njcl38kW0CoeM.jpg</td>\n",
       "      <td>NaN</td>\n",
       "      <td>Japan|United States of America</td>\n",
       "      <td>2001-07-06</td>\n",
       "      <td>28.023563</td>\n",
       "      <td>75.0</td>\n",
       "      <td>日本語</td>\n",
       "      <td>Released</td>\n",
       "      <td>NaN</td>\n",
       "      <td>Pokémon 4Ever: Celebi - Voice of the Forest</td>\n",
       "      <td>5.7</td>\n",
       "      <td>82.0</td>\n",
       "    </tr>\n",
       "    <tr>\n",
       "      <th>5535</th>\n",
       "      <td>Pokémon Collection</td>\n",
       "      <td>NaN</td>\n",
       "      <td>Adventure|Fantasy|Animation|Science Fiction|Fa...</td>\n",
       "      <td>12600.0</td>\n",
       "      <td>ja</td>\n",
       "      <td>All your favorite Pokémon characters are back,...</td>\n",
       "      <td>7.072301</td>\n",
       "      <td>/bqL0PVHbQ8Jmw3Njcl38kW0CoeM.jpg</td>\n",
       "      <td>NaN</td>\n",
       "      <td>Japan|United States of America</td>\n",
       "      <td>2001-07-06</td>\n",
       "      <td>28.023563</td>\n",
       "      <td>75.0</td>\n",
       "      <td>日本語</td>\n",
       "      <td>Released</td>\n",
       "      <td>NaN</td>\n",
       "      <td>Pokémon 4Ever: Celebi - Voice of the Forest</td>\n",
       "      <td>5.7</td>\n",
       "      <td>82.0</td>\n",
       "    </tr>\n",
       "  </tbody>\n",
       "</table>\n",
       "</div>"
      ],
      "text/plain": [
       "      belongs_to_collection  budget_musd  \\\n",
       "33826                   NaN         30.0   \n",
       "5865                    NaN         30.0   \n",
       "4114     Pokémon Collection         16.0   \n",
       "44821    Pokémon Collection         16.0   \n",
       "44826    Pokémon Collection          NaN   \n",
       "5535     Pokémon Collection          NaN   \n",
       "\n",
       "                                                  genres       id  \\\n",
       "33826                Comedy|Crime|Drama|Romance|Thriller   4912.0   \n",
       "5865                 Comedy|Crime|Drama|Romance|Thriller   4912.0   \n",
       "4114           Adventure|Fantasy|Animation|Action|Family  10991.0   \n",
       "44821          Adventure|Fantasy|Animation|Action|Family  10991.0   \n",
       "44826  Adventure|Fantasy|Animation|Science Fiction|Fa...  12600.0   \n",
       "5535   Adventure|Fantasy|Animation|Science Fiction|Fa...  12600.0   \n",
       "\n",
       "      original_language                                           overview  \\\n",
       "33826                en  Television made him famous, but his biggest hi...   \n",
       "5865                 en  Television made him famous, but his biggest hi...   \n",
       "4114                 ja  When Molly Hale's sadness of her father's disa...   \n",
       "44821                ja  When Molly Hale's sadness of her father's disa...   \n",
       "44826                ja  All your favorite Pokémon characters are back,...   \n",
       "5535                 ja  All your favorite Pokémon characters are back,...   \n",
       "\n",
       "       popularity                       poster_path  \\\n",
       "33826    7.645827  /o3Im9nPLAgtlw1j2LtpMebAotSe.jpg   \n",
       "5865    11.331072  /o3Im9nPLAgtlw1j2LtpMebAotSe.jpg   \n",
       "4114    10.264597  /5ILjS6XB5deiHop8SXPsYxXWVPE.jpg   \n",
       "44821    6.480376  /5ILjS6XB5deiHop8SXPsYxXWVPE.jpg   \n",
       "44826    6.080108  /bqL0PVHbQ8Jmw3Njcl38kW0CoeM.jpg   \n",
       "5535     7.072301  /bqL0PVHbQ8Jmw3Njcl38kW0CoeM.jpg   \n",
       "\n",
       "                                    production_companies  \\\n",
       "33826         Miramax Films|Allied Filmmakers|Mad Chance   \n",
       "5865          Miramax Films|Allied Filmmakers|Mad Chance   \n",
       "4114   TV Tokyo|4 Kids Entertainment|Nintendo|Pikachu...   \n",
       "44821  TV Tokyo|4 Kids Entertainment|Nintendo|Pikachu...   \n",
       "44826                                                NaN   \n",
       "5535                                                 NaN   \n",
       "\n",
       "                 production_countries release_date  revenue_musd  runtime  \\\n",
       "33826        United States of America   2002-12-30     33.013805    113.0   \n",
       "5865         United States of America   2002-12-30     33.013805    113.0   \n",
       "4114                            Japan   2000-07-08     68.411275     93.0   \n",
       "44821                           Japan   2000-07-08     68.411275     93.0   \n",
       "44826  Japan|United States of America   2001-07-06     28.023563     75.0   \n",
       "5535   Japan|United States of America   2001-07-06     28.023563     75.0   \n",
       "\n",
       "      spoken_languages    status                                  tagline  \\\n",
       "33826          English  Released  Some things are better left top secret.   \n",
       "5865           English  Released  Some things are better left top secret.   \n",
       "4114           English  Released            Pokémon: Spell of the Unknown   \n",
       "44821          English  Released            Pokémon: Spell of the Unknown   \n",
       "44826              日本語  Released                                      NaN   \n",
       "5535               日本語  Released                                      NaN   \n",
       "\n",
       "                                             title  vote_average  vote_count  \n",
       "33826              Confessions of a Dangerous Mind           6.6       281.0  \n",
       "5865               Confessions of a Dangerous Mind           6.6       281.0  \n",
       "4114                 Pokémon: Spell of the Unknown           6.0       143.0  \n",
       "44821                Pokémon: Spell of the Unknown           6.0       144.0  \n",
       "44826  Pokémon 4Ever: Celebi - Voice of the Forest           5.7        82.0  \n",
       "5535   Pokémon 4Ever: Celebi - Voice of the Forest           5.7        82.0  "
      ]
     },
     "execution_count": 133,
     "metadata": {},
     "output_type": "execute_result"
    }
   ],
   "source": [
    "# now we want to see the duplicates that has the same \"id\" \n",
    "# but they have different valeus in other columns :\n",
    "df[df.duplicated(subset = \"id\", keep = False)].sort_values(by = \"id\").head(6)"
   ]
  },
  {
   "cell_type": "code",
   "execution_count": 134,
   "id": "f3b05374",
   "metadata": {},
   "outputs": [],
   "source": [
    "# the same action we perform here :\n",
    "df.drop_duplicates(subset = \"id\", inplace = True)"
   ]
  },
  {
   "cell_type": "code",
   "execution_count": 135,
   "id": "2cba27d9",
   "metadata": {},
   "outputs": [
    {
     "data": {
      "text/plain": [
       "92771.0     1\n",
       "258116.0    1\n",
       "95077.0     1\n",
       "291156.0    1\n",
       "19423.0     1\n",
       "           ..\n",
       "424643.0    1\n",
       "438665.0    1\n",
       "820.0       1\n",
       "262.0       1\n",
       "226693.0    1\n",
       "Name: id, Length: 45433, dtype: int64"
      ]
     },
     "execution_count": 135,
     "metadata": {},
     "output_type": "execute_result"
    }
   ],
   "source": [
    "# now we dont have any duplicates\n",
    "df.id.value_counts()"
   ]
  },
  {
   "cell_type": "markdown",
   "id": "77e2779e",
   "metadata": {},
   "source": [
    "# Handling missing values, Removing observations"
   ]
  },
  {
   "cell_type": "markdown",
   "id": "ee0028a4",
   "metadata": {},
   "source": [
    "### id, title columns:"
   ]
  },
  {
   "cell_type": "code",
   "execution_count": 136,
   "id": "d8ee091f",
   "metadata": {},
   "outputs": [
    {
     "name": "stdout",
     "output_type": "stream",
     "text": [
      "<class 'pandas.core.frame.DataFrame'>\n",
      "Int64Index: 45434 entries, 0 to 45465\n",
      "Data columns (total 19 columns):\n",
      " #   Column                 Non-Null Count  Dtype         \n",
      "---  ------                 --------------  -----         \n",
      " 0   belongs_to_collection  4488 non-null   object        \n",
      " 1   budget_musd            8880 non-null   float64       \n",
      " 2   genres                 42992 non-null  object        \n",
      " 3   id                     45433 non-null  float64       \n",
      " 4   original_language      45423 non-null  object        \n",
      " 5   overview               44330 non-null  object        \n",
      " 6   popularity             45430 non-null  float64       \n",
      " 7   poster_path            45048 non-null  object        \n",
      " 8   production_companies   33562 non-null  object        \n",
      " 9   production_countries   45430 non-null  object        \n",
      " 10  release_date           45346 non-null  datetime64[ns]\n",
      " 11  revenue_musd           7398 non-null   float64       \n",
      " 12  runtime                43615 non-null  float64       \n",
      " 13  spoken_languages       41480 non-null  object        \n",
      " 14  status                 45349 non-null  object        \n",
      " 15  tagline                20397 non-null  object        \n",
      " 16  title                  45430 non-null  object        \n",
      " 17  vote_average           42534 non-null  float64       \n",
      " 18  vote_count             45430 non-null  float64       \n",
      "dtypes: datetime64[ns](1), float64(7), object(11)\n",
      "memory usage: 6.9+ MB\n"
     ]
    }
   ],
   "source": [
    "df.info()"
   ]
  },
  {
   "cell_type": "code",
   "execution_count": 137,
   "id": "3fdabf64",
   "metadata": {},
   "outputs": [
    {
     "data": {
      "text/plain": [
       "belongs_to_collection    40946\n",
       "budget_musd              36554\n",
       "genres                    2442\n",
       "id                           1\n",
       "original_language           11\n",
       "overview                  1104\n",
       "popularity                   4\n",
       "poster_path                386\n",
       "production_companies     11872\n",
       "production_countries         4\n",
       "release_date                88\n",
       "revenue_musd             38036\n",
       "runtime                   1819\n",
       "spoken_languages          3954\n",
       "status                      85\n",
       "tagline                  25037\n",
       "title                        4\n",
       "vote_average              2900\n",
       "vote_count                   4\n",
       "dtype: int64"
      ]
     },
     "execution_count": 137,
     "metadata": {},
     "output_type": "execute_result"
    }
   ],
   "source": [
    "# we want to see the numebrs of missing values:\n",
    "# we can see that we have 1 movie without id, 4 movies without titles\n",
    "df.isna().sum()"
   ]
  },
  {
   "cell_type": "code",
   "execution_count": 138,
   "id": "acf64375",
   "metadata": {},
   "outputs": [
    {
     "data": {
      "text/html": [
       "<div>\n",
       "<style scoped>\n",
       "    .dataframe tbody tr th:only-of-type {\n",
       "        vertical-align: middle;\n",
       "    }\n",
       "\n",
       "    .dataframe tbody tr th {\n",
       "        vertical-align: top;\n",
       "    }\n",
       "\n",
       "    .dataframe thead th {\n",
       "        text-align: right;\n",
       "    }\n",
       "</style>\n",
       "<table border=\"1\" class=\"dataframe\">\n",
       "  <thead>\n",
       "    <tr style=\"text-align: right;\">\n",
       "      <th></th>\n",
       "      <th>belongs_to_collection</th>\n",
       "      <th>budget_musd</th>\n",
       "      <th>genres</th>\n",
       "      <th>id</th>\n",
       "      <th>original_language</th>\n",
       "      <th>overview</th>\n",
       "      <th>popularity</th>\n",
       "      <th>poster_path</th>\n",
       "      <th>production_companies</th>\n",
       "      <th>production_countries</th>\n",
       "      <th>release_date</th>\n",
       "      <th>revenue_musd</th>\n",
       "      <th>runtime</th>\n",
       "      <th>spoken_languages</th>\n",
       "      <th>status</th>\n",
       "      <th>tagline</th>\n",
       "      <th>title</th>\n",
       "      <th>vote_average</th>\n",
       "      <th>vote_count</th>\n",
       "    </tr>\n",
       "  </thead>\n",
       "  <tbody>\n",
       "    <tr>\n",
       "      <th>19729</th>\n",
       "      <td>NaN</td>\n",
       "      <td>NaN</td>\n",
       "      <td>Action|Thriller|Drama</td>\n",
       "      <td>82663.0</td>\n",
       "      <td>en</td>\n",
       "      <td>British soldiers force a recently captured IRA...</td>\n",
       "      <td>NaN</td>\n",
       "      <td>NaN</td>\n",
       "      <td>NaN</td>\n",
       "      <td>NaN</td>\n",
       "      <td>NaT</td>\n",
       "      <td>NaN</td>\n",
       "      <td>NaN</td>\n",
       "      <td>NaN</td>\n",
       "      <td>NaN</td>\n",
       "      <td>NaN</td>\n",
       "      <td>NaN</td>\n",
       "      <td>NaN</td>\n",
       "      <td>NaN</td>\n",
       "    </tr>\n",
       "    <tr>\n",
       "      <th>19730</th>\n",
       "      <td>NaN</td>\n",
       "      <td>NaN</td>\n",
       "      <td>Carousel Productions|Vision View Entertainment...</td>\n",
       "      <td>NaN</td>\n",
       "      <td>104.0</td>\n",
       "      <td>Released</td>\n",
       "      <td>NaN</td>\n",
       "      <td>Midnight Man</td>\n",
       "      <td>NaN</td>\n",
       "      <td>NaN</td>\n",
       "      <td>NaT</td>\n",
       "      <td>NaN</td>\n",
       "      <td>NaN</td>\n",
       "      <td>NaN</td>\n",
       "      <td>NaN</td>\n",
       "      <td>NaN</td>\n",
       "      <td>NaN</td>\n",
       "      <td>NaN</td>\n",
       "      <td>NaN</td>\n",
       "    </tr>\n",
       "    <tr>\n",
       "      <th>29502</th>\n",
       "      <td>Mardock Scramble Collection</td>\n",
       "      <td>NaN</td>\n",
       "      <td>Animation|Science Fiction</td>\n",
       "      <td>122662.0</td>\n",
       "      <td>ja</td>\n",
       "      <td>Third film of the Mardock Scramble series.</td>\n",
       "      <td>NaN</td>\n",
       "      <td>NaN</td>\n",
       "      <td>NaN</td>\n",
       "      <td>NaN</td>\n",
       "      <td>NaT</td>\n",
       "      <td>NaN</td>\n",
       "      <td>NaN</td>\n",
       "      <td>NaN</td>\n",
       "      <td>NaN</td>\n",
       "      <td>NaN</td>\n",
       "      <td>NaN</td>\n",
       "      <td>NaN</td>\n",
       "      <td>NaN</td>\n",
       "    </tr>\n",
       "    <tr>\n",
       "      <th>35586</th>\n",
       "      <td>NaN</td>\n",
       "      <td>NaN</td>\n",
       "      <td>TV Movie|Action|Horror|Science Fiction</td>\n",
       "      <td>249260.0</td>\n",
       "      <td>en</td>\n",
       "      <td>A group of skiers are terrorized during spring...</td>\n",
       "      <td>NaN</td>\n",
       "      <td>NaN</td>\n",
       "      <td>NaN</td>\n",
       "      <td>NaN</td>\n",
       "      <td>NaT</td>\n",
       "      <td>NaN</td>\n",
       "      <td>NaN</td>\n",
       "      <td>NaN</td>\n",
       "      <td>NaN</td>\n",
       "      <td>NaN</td>\n",
       "      <td>NaN</td>\n",
       "      <td>NaN</td>\n",
       "      <td>NaN</td>\n",
       "    </tr>\n",
       "  </tbody>\n",
       "</table>\n",
       "</div>"
      ],
      "text/plain": [
       "             belongs_to_collection  budget_musd  \\\n",
       "19729                          NaN          NaN   \n",
       "19730                          NaN          NaN   \n",
       "29502  Mardock Scramble Collection          NaN   \n",
       "35586                          NaN          NaN   \n",
       "\n",
       "                                                  genres        id  \\\n",
       "19729                              Action|Thriller|Drama   82663.0   \n",
       "19730  Carousel Productions|Vision View Entertainment...       NaN   \n",
       "29502                          Animation|Science Fiction  122662.0   \n",
       "35586             TV Movie|Action|Horror|Science Fiction  249260.0   \n",
       "\n",
       "      original_language                                           overview  \\\n",
       "19729                en  British soldiers force a recently captured IRA...   \n",
       "19730             104.0                                           Released   \n",
       "29502                ja         Third film of the Mardock Scramble series.   \n",
       "35586                en  A group of skiers are terrorized during spring...   \n",
       "\n",
       "       popularity   poster_path production_companies production_countries  \\\n",
       "19729         NaN           NaN                  NaN                  NaN   \n",
       "19730         NaN  Midnight Man                  NaN                  NaN   \n",
       "29502         NaN           NaN                  NaN                  NaN   \n",
       "35586         NaN           NaN                  NaN                  NaN   \n",
       "\n",
       "      release_date  revenue_musd  runtime spoken_languages status tagline  \\\n",
       "19729          NaT           NaN      NaN              NaN    NaN     NaN   \n",
       "19730          NaT           NaN      NaN              NaN    NaN     NaN   \n",
       "29502          NaT           NaN      NaN              NaN    NaN     NaN   \n",
       "35586          NaT           NaN      NaN              NaN    NaN     NaN   \n",
       "\n",
       "      title  vote_average  vote_count  \n",
       "19729   NaN           NaN         NaN  \n",
       "19730   NaN           NaN         NaN  \n",
       "29502   NaN           NaN         NaN  \n",
       "35586   NaN           NaN         NaN  "
      ]
     },
     "execution_count": 138,
     "metadata": {},
     "output_type": "execute_result"
    }
   ],
   "source": [
    "# filter movies withput title:\n",
    "# we can see that these movies are useles, they have so many NaN's\n",
    "df[df.title.isna()]"
   ]
  },
  {
   "cell_type": "code",
   "execution_count": 139,
   "id": "7e0f76ee",
   "metadata": {},
   "outputs": [],
   "source": [
    "# drop values without titles, id's :\n",
    "df.dropna(subset=[\"id\", \"title\"], inplace = True)"
   ]
  },
  {
   "cell_type": "code",
   "execution_count": 140,
   "id": "c7bb03f8",
   "metadata": {},
   "outputs": [
    {
     "data": {
      "text/plain": [
       "belongs_to_collection    40943\n",
       "budget_musd              36550\n",
       "genres                    2442\n",
       "id                           0\n",
       "original_language           11\n",
       "overview                  1104\n",
       "popularity                   0\n",
       "poster_path                383\n",
       "production_companies     11868\n",
       "production_countries         0\n",
       "release_date                84\n",
       "revenue_musd             38032\n",
       "runtime                   1815\n",
       "spoken_languages          3950\n",
       "status                      81\n",
       "tagline                  25033\n",
       "title                        0\n",
       "vote_average              2896\n",
       "vote_count                   0\n",
       "dtype: int64"
      ]
     },
     "execution_count": 140,
     "metadata": {},
     "output_type": "execute_result"
    }
   ],
   "source": [
    "df.isna().sum()"
   ]
  },
  {
   "cell_type": "code",
   "execution_count": 141,
   "id": "29290336",
   "metadata": {},
   "outputs": [],
   "source": [
    "# convert id to integer column:\n",
    "df.id = df.id.astype(\"int\")"
   ]
  },
  {
   "cell_type": "markdown",
   "id": "626040a3",
   "metadata": {},
   "source": [
    "### check missing values for each movie"
   ]
  },
  {
   "cell_type": "code",
   "execution_count": 143,
   "id": "5e000ce7",
   "metadata": {},
   "outputs": [
    {
     "data": {
      "text/plain": [
       "15    13221\n",
       "16    11640\n",
       "14     6336\n",
       "17     4325\n",
       "18     3867\n",
       "13     2636\n",
       "12     1321\n",
       "19     1132\n",
       "11      600\n",
       "10      220\n",
       "9       108\n",
       "8        20\n",
       "7         4\n",
       "dtype: int64"
      ]
     },
     "execution_count": 143,
     "metadata": {},
     "output_type": "execute_result"
    }
   ],
   "source": [
    "# we can see that 4 movies have 7 missing values\n",
    "df.notna().sum(axis=1).value_counts()"
   ]
  },
  {
   "cell_type": "code",
   "execution_count": 145,
   "id": "7e19a381",
   "metadata": {},
   "outputs": [
    {
     "data": {
      "text/html": [
       "<div>\n",
       "<style scoped>\n",
       "    .dataframe tbody tr th:only-of-type {\n",
       "        vertical-align: middle;\n",
       "    }\n",
       "\n",
       "    .dataframe tbody tr th {\n",
       "        vertical-align: top;\n",
       "    }\n",
       "\n",
       "    .dataframe thead th {\n",
       "        text-align: right;\n",
       "    }\n",
       "</style>\n",
       "<table border=\"1\" class=\"dataframe\">\n",
       "  <thead>\n",
       "    <tr style=\"text-align: right;\">\n",
       "      <th></th>\n",
       "      <th>belongs_to_collection</th>\n",
       "      <th>budget_musd</th>\n",
       "      <th>genres</th>\n",
       "      <th>id</th>\n",
       "      <th>original_language</th>\n",
       "      <th>overview</th>\n",
       "      <th>popularity</th>\n",
       "      <th>poster_path</th>\n",
       "      <th>production_companies</th>\n",
       "      <th>production_countries</th>\n",
       "      <th>release_date</th>\n",
       "      <th>revenue_musd</th>\n",
       "      <th>runtime</th>\n",
       "      <th>spoken_languages</th>\n",
       "      <th>status</th>\n",
       "      <th>tagline</th>\n",
       "      <th>title</th>\n",
       "      <th>vote_average</th>\n",
       "      <th>vote_count</th>\n",
       "    </tr>\n",
       "  </thead>\n",
       "  <tbody>\n",
       "    <tr>\n",
       "      <th>18038</th>\n",
       "      <td>NaN</td>\n",
       "      <td>NaN</td>\n",
       "      <td>NaN</td>\n",
       "      <td>344741</td>\n",
       "      <td>pl</td>\n",
       "      <td>NaN</td>\n",
       "      <td>0.000000</td>\n",
       "      <td>NaN</td>\n",
       "      <td>NaN</td>\n",
       "      <td></td>\n",
       "      <td>NaT</td>\n",
       "      <td>NaN</td>\n",
       "      <td>NaN</td>\n",
       "      <td>NaN</td>\n",
       "      <td>Released</td>\n",
       "      <td>NaN</td>\n",
       "      <td>Pajęczarki</td>\n",
       "      <td>NaN</td>\n",
       "      <td>0.0</td>\n",
       "    </tr>\n",
       "    <tr>\n",
       "      <th>20166</th>\n",
       "      <td>NaN</td>\n",
       "      <td>NaN</td>\n",
       "      <td>NaN</td>\n",
       "      <td>139909</td>\n",
       "      <td>fi</td>\n",
       "      <td>NaN</td>\n",
       "      <td>0.000127</td>\n",
       "      <td>NaN</td>\n",
       "      <td>NaN</td>\n",
       "      <td></td>\n",
       "      <td>NaT</td>\n",
       "      <td>NaN</td>\n",
       "      <td>NaN</td>\n",
       "      <td>NaN</td>\n",
       "      <td>Released</td>\n",
       "      <td>NaN</td>\n",
       "      <td>Aurinkotuuli</td>\n",
       "      <td>NaN</td>\n",
       "      <td>0.0</td>\n",
       "    </tr>\n",
       "    <tr>\n",
       "      <th>41718</th>\n",
       "      <td>NaN</td>\n",
       "      <td>NaN</td>\n",
       "      <td>NaN</td>\n",
       "      <td>216550</td>\n",
       "      <td>de</td>\n",
       "      <td>NaN</td>\n",
       "      <td>0.000000</td>\n",
       "      <td>NaN</td>\n",
       "      <td>NaN</td>\n",
       "      <td></td>\n",
       "      <td>NaT</td>\n",
       "      <td>NaN</td>\n",
       "      <td>NaN</td>\n",
       "      <td>NaN</td>\n",
       "      <td>Released</td>\n",
       "      <td>NaN</td>\n",
       "      <td>Dolpo Tulku - Heimkehr in den Himalaya</td>\n",
       "      <td>NaN</td>\n",
       "      <td>0.0</td>\n",
       "    </tr>\n",
       "    <tr>\n",
       "      <th>44978</th>\n",
       "      <td>NaN</td>\n",
       "      <td>NaN</td>\n",
       "      <td>NaN</td>\n",
       "      <td>398295</td>\n",
       "      <td>pt</td>\n",
       "      <td>NaN</td>\n",
       "      <td>0.000331</td>\n",
       "      <td>NaN</td>\n",
       "      <td>NaN</td>\n",
       "      <td></td>\n",
       "      <td>NaT</td>\n",
       "      <td>NaN</td>\n",
       "      <td>NaN</td>\n",
       "      <td>NaN</td>\n",
       "      <td>Released</td>\n",
       "      <td>NaN</td>\n",
       "      <td>Mundo Cão</td>\n",
       "      <td>NaN</td>\n",
       "      <td>0.0</td>\n",
       "    </tr>\n",
       "  </tbody>\n",
       "</table>\n",
       "</div>"
      ],
      "text/plain": [
       "      belongs_to_collection  budget_musd genres      id original_language  \\\n",
       "18038                   NaN          NaN    NaN  344741                pl   \n",
       "20166                   NaN          NaN    NaN  139909                fi   \n",
       "41718                   NaN          NaN    NaN  216550                de   \n",
       "44978                   NaN          NaN    NaN  398295                pt   \n",
       "\n",
       "      overview  popularity poster_path production_companies  \\\n",
       "18038      NaN    0.000000         NaN                  NaN   \n",
       "20166      NaN    0.000127         NaN                  NaN   \n",
       "41718      NaN    0.000000         NaN                  NaN   \n",
       "44978      NaN    0.000331         NaN                  NaN   \n",
       "\n",
       "      production_countries release_date  revenue_musd  runtime  \\\n",
       "18038                               NaT           NaN      NaN   \n",
       "20166                               NaT           NaN      NaN   \n",
       "41718                               NaT           NaN      NaN   \n",
       "44978                               NaT           NaN      NaN   \n",
       "\n",
       "      spoken_languages    status tagline  \\\n",
       "18038              NaN  Released     NaN   \n",
       "20166              NaN  Released     NaN   \n",
       "41718              NaN  Released     NaN   \n",
       "44978              NaN  Released     NaN   \n",
       "\n",
       "                                        title  vote_average  vote_count  \n",
       "18038                              Pajęczarki           NaN         0.0  \n",
       "20166                            Aurinkotuuli           NaN         0.0  \n",
       "41718  Dolpo Tulku - Heimkehr in den Himalaya           NaN         0.0  \n",
       "44978                               Mundo Cão           NaN         0.0  "
      ]
     },
     "execution_count": 145,
     "metadata": {},
     "output_type": "execute_result"
    }
   ],
   "source": [
    "# filter those movies :\n",
    "df[df.notna().sum(axis = 1) == 7]"
   ]
  },
  {
   "cell_type": "code",
   "execution_count": 148,
   "id": "7409b76d",
   "metadata": {},
   "outputs": [],
   "source": [
    "# we decided to drop all movies that have 10 or more missing values:\n",
    "df.dropna(thresh = 10, inplace = True)"
   ]
  },
  {
   "cell_type": "code",
   "execution_count": 149,
   "id": "d7ea58b8",
   "metadata": {},
   "outputs": [
    {
     "name": "stdout",
     "output_type": "stream",
     "text": [
      "<class 'pandas.core.frame.DataFrame'>\n",
      "Int64Index: 45298 entries, 0 to 45465\n",
      "Data columns (total 19 columns):\n",
      " #   Column                 Non-Null Count  Dtype         \n",
      "---  ------                 --------------  -----         \n",
      " 0   belongs_to_collection  4487 non-null   object        \n",
      " 1   budget_musd            8880 non-null   float64       \n",
      " 2   genres                 42981 non-null  object        \n",
      " 3   id                     45298 non-null  int32         \n",
      " 4   original_language      45287 non-null  object        \n",
      " 5   overview               44250 non-null  object        \n",
      " 6   popularity             45298 non-null  float64       \n",
      " 7   poster_path            45008 non-null  object        \n",
      " 8   production_companies   33562 non-null  object        \n",
      " 9   production_countries   45298 non-null  object        \n",
      " 10  release_date           45249 non-null  datetime64[ns]\n",
      " 11  revenue_musd           7398 non-null   float64       \n",
      " 12  runtime                43605 non-null  float64       \n",
      " 13  spoken_languages       41475 non-null  object        \n",
      " 14  status                 45226 non-null  object        \n",
      " 15  tagline                20397 non-null  object        \n",
      " 16  title                  45298 non-null  object        \n",
      " 17  vote_average           42523 non-null  float64       \n",
      " 18  vote_count             45298 non-null  float64       \n",
      "dtypes: datetime64[ns](1), float64(6), int32(1), object(11)\n",
      "memory usage: 6.7+ MB\n"
     ]
    }
   ],
   "source": [
    "df.info()"
   ]
  },
  {
   "cell_type": "markdown",
   "id": "4b380a07",
   "metadata": {},
   "source": [
    "# Final cleaning steps"
   ]
  },
  {
   "cell_type": "markdown",
   "id": "54e262bb",
   "metadata": {},
   "source": [
    "### status column "
   ]
  },
  {
   "cell_type": "code",
   "execution_count": 150,
   "id": "215554d3",
   "metadata": {},
   "outputs": [
    {
     "data": {
      "text/plain": [
       "Released           44863\n",
       "Rumored              228\n",
       "Post Production       98\n",
       "In Production         20\n",
       "Planned               15\n",
       "Canceled               2\n",
       "Name: status, dtype: int64"
      ]
     },
     "execution_count": 150,
     "metadata": {},
     "output_type": "execute_result"
    }
   ],
   "source": [
    "df.status.value_counts()"
   ]
  },
  {
   "cell_type": "code",
   "execution_count": 152,
   "id": "b22fb37b",
   "metadata": {},
   "outputs": [],
   "source": [
    "# we are inly interested in released movies :\n",
    "df = df.loc[df.status == \"Released\"].copy()"
   ]
  },
  {
   "cell_type": "code",
   "execution_count": 154,
   "id": "4bd0c0bd",
   "metadata": {},
   "outputs": [],
   "source": [
    "# and then we can drop the status column because its useless:\n",
    "df.drop(columns = [\"status\"], inplace = True)"
   ]
  },
  {
   "cell_type": "code",
   "execution_count": 155,
   "id": "c2b82fe6",
   "metadata": {},
   "outputs": [
    {
     "name": "stdout",
     "output_type": "stream",
     "text": [
      "<class 'pandas.core.frame.DataFrame'>\n",
      "Int64Index: 44863 entries, 0 to 45465\n",
      "Data columns (total 18 columns):\n",
      " #   Column                 Non-Null Count  Dtype         \n",
      "---  ------                 --------------  -----         \n",
      " 0   belongs_to_collection  4463 non-null   object        \n",
      " 1   budget_musd            8855 non-null   float64       \n",
      " 2   genres                 42597 non-null  object        \n",
      " 3   id                     44863 non-null  int32         \n",
      " 4   original_language      44853 non-null  object        \n",
      " 5   overview               43844 non-null  object        \n",
      " 6   popularity             44863 non-null  float64       \n",
      " 7   poster_path            44581 non-null  object        \n",
      " 8   production_companies   33357 non-null  object        \n",
      " 9   production_countries   44863 non-null  object        \n",
      " 10  release_date           44820 non-null  datetime64[ns]\n",
      " 11  revenue_musd           7385 non-null   float64       \n",
      " 12  runtime                43228 non-null  float64       \n",
      " 13  spoken_languages       41106 non-null  object        \n",
      " 14  tagline                20285 non-null  object        \n",
      " 15  title                  44863 non-null  object        \n",
      " 16  vote_average           42137 non-null  float64       \n",
      " 17  vote_count             44863 non-null  float64       \n",
      "dtypes: datetime64[ns](1), float64(6), int32(1), object(10)\n",
      "memory usage: 6.3+ MB\n"
     ]
    }
   ],
   "source": [
    "df.info()"
   ]
  },
  {
   "cell_type": "markdown",
   "id": "6e10ec00",
   "metadata": {},
   "source": [
    "### Change column's order"
   ]
  },
  {
   "cell_type": "code",
   "execution_count": 156,
   "id": "42215735",
   "metadata": {},
   "outputs": [],
   "source": [
    "# we want to change the roder of our columns so they make more sense :\n",
    "col = [\"id\", \"title\", \"tagline\", \"release_date\", \"genres\", \"belongs_to_collection\",\n",
    "      \"original_language\", \"budget_musd\", \"revenue_musd\", \"production_companies\",\n",
    "      \"production_countries\", \"vote_count\", \"vote_average\", \"popularity\", \"runtime\",\n",
    "      \"overview\", \"spoken_languages\", \"poster_path\" ]"
   ]
  },
  {
   "cell_type": "code",
   "execution_count": 157,
   "id": "befea757",
   "metadata": {},
   "outputs": [],
   "source": [
    "df = df.loc[:, col]"
   ]
  },
  {
   "cell_type": "code",
   "execution_count": 159,
   "id": "2a7c3f16",
   "metadata": {},
   "outputs": [
    {
     "data": {
      "text/html": [
       "<div>\n",
       "<style scoped>\n",
       "    .dataframe tbody tr th:only-of-type {\n",
       "        vertical-align: middle;\n",
       "    }\n",
       "\n",
       "    .dataframe tbody tr th {\n",
       "        vertical-align: top;\n",
       "    }\n",
       "\n",
       "    .dataframe thead th {\n",
       "        text-align: right;\n",
       "    }\n",
       "</style>\n",
       "<table border=\"1\" class=\"dataframe\">\n",
       "  <thead>\n",
       "    <tr style=\"text-align: right;\">\n",
       "      <th></th>\n",
       "      <th>id</th>\n",
       "      <th>title</th>\n",
       "      <th>tagline</th>\n",
       "      <th>release_date</th>\n",
       "      <th>genres</th>\n",
       "      <th>belongs_to_collection</th>\n",
       "      <th>original_language</th>\n",
       "      <th>budget_musd</th>\n",
       "      <th>revenue_musd</th>\n",
       "      <th>production_companies</th>\n",
       "      <th>production_countries</th>\n",
       "      <th>vote_count</th>\n",
       "      <th>vote_average</th>\n",
       "      <th>popularity</th>\n",
       "      <th>runtime</th>\n",
       "      <th>overview</th>\n",
       "      <th>spoken_languages</th>\n",
       "      <th>poster_path</th>\n",
       "    </tr>\n",
       "  </thead>\n",
       "  <tbody>\n",
       "    <tr>\n",
       "      <th>0</th>\n",
       "      <td>862</td>\n",
       "      <td>Toy Story</td>\n",
       "      <td>NaN</td>\n",
       "      <td>1995-10-30</td>\n",
       "      <td>Animation|Comedy|Family</td>\n",
       "      <td>Toy Story Collection</td>\n",
       "      <td>en</td>\n",
       "      <td>30.0</td>\n",
       "      <td>373.554033</td>\n",
       "      <td>Pixar Animation Studios</td>\n",
       "      <td>United States of America</td>\n",
       "      <td>5415.0</td>\n",
       "      <td>7.7</td>\n",
       "      <td>21.946943</td>\n",
       "      <td>81.0</td>\n",
       "      <td>Led by Woody, Andy's toys live happily in his ...</td>\n",
       "      <td>English</td>\n",
       "      <td>/rhIRbceoE9lR4veEXuwCC2wARtG.jpg</td>\n",
       "    </tr>\n",
       "    <tr>\n",
       "      <th>1</th>\n",
       "      <td>8844</td>\n",
       "      <td>Jumanji</td>\n",
       "      <td>Roll the dice and unleash the excitement!</td>\n",
       "      <td>1995-12-15</td>\n",
       "      <td>Adventure|Fantasy|Family</td>\n",
       "      <td>NaN</td>\n",
       "      <td>en</td>\n",
       "      <td>65.0</td>\n",
       "      <td>262.797249</td>\n",
       "      <td>TriStar Pictures|Teitler Film|Interscope Commu...</td>\n",
       "      <td>United States of America</td>\n",
       "      <td>2413.0</td>\n",
       "      <td>6.9</td>\n",
       "      <td>17.015539</td>\n",
       "      <td>104.0</td>\n",
       "      <td>When siblings Judy and Peter discover an encha...</td>\n",
       "      <td>English|Français</td>\n",
       "      <td>/vzmL6fP7aPKNKPRTFnZmiUfciyV.jpg</td>\n",
       "    </tr>\n",
       "    <tr>\n",
       "      <th>2</th>\n",
       "      <td>15602</td>\n",
       "      <td>Grumpier Old Men</td>\n",
       "      <td>Still Yelling. Still Fighting. Still Ready for...</td>\n",
       "      <td>1995-12-22</td>\n",
       "      <td>Romance|Comedy</td>\n",
       "      <td>Grumpy Old Men Collection</td>\n",
       "      <td>en</td>\n",
       "      <td>NaN</td>\n",
       "      <td>NaN</td>\n",
       "      <td>Warner Bros.|Lancaster Gate</td>\n",
       "      <td>United States of America</td>\n",
       "      <td>92.0</td>\n",
       "      <td>6.5</td>\n",
       "      <td>11.712900</td>\n",
       "      <td>101.0</td>\n",
       "      <td>A family wedding reignites the ancient feud be...</td>\n",
       "      <td>English</td>\n",
       "      <td>/6ksm1sjKMFLbO7UY2i6G1ju9SML.jpg</td>\n",
       "    </tr>\n",
       "    <tr>\n",
       "      <th>3</th>\n",
       "      <td>31357</td>\n",
       "      <td>Waiting to Exhale</td>\n",
       "      <td>Friends are the people who let you be yourself...</td>\n",
       "      <td>1995-12-22</td>\n",
       "      <td>Comedy|Drama|Romance</td>\n",
       "      <td>NaN</td>\n",
       "      <td>en</td>\n",
       "      <td>16.0</td>\n",
       "      <td>81.452156</td>\n",
       "      <td>Twentieth Century Fox Film Corporation</td>\n",
       "      <td>United States of America</td>\n",
       "      <td>34.0</td>\n",
       "      <td>6.1</td>\n",
       "      <td>3.859495</td>\n",
       "      <td>127.0</td>\n",
       "      <td>Cheated on, mistreated and stepped on, the wom...</td>\n",
       "      <td>English</td>\n",
       "      <td>/16XOMpEaLWkrcPqSQqhTmeJuqQl.jpg</td>\n",
       "    </tr>\n",
       "    <tr>\n",
       "      <th>4</th>\n",
       "      <td>11862</td>\n",
       "      <td>Father of the Bride Part II</td>\n",
       "      <td>Just When His World Is Back To Normal... He's ...</td>\n",
       "      <td>1995-02-10</td>\n",
       "      <td>Comedy</td>\n",
       "      <td>Father of the Bride Collection</td>\n",
       "      <td>en</td>\n",
       "      <td>NaN</td>\n",
       "      <td>76.578911</td>\n",
       "      <td>Sandollar Productions|Touchstone Pictures</td>\n",
       "      <td>United States of America</td>\n",
       "      <td>173.0</td>\n",
       "      <td>5.7</td>\n",
       "      <td>8.387519</td>\n",
       "      <td>106.0</td>\n",
       "      <td>Just when George Banks has recovered from his ...</td>\n",
       "      <td>English</td>\n",
       "      <td>/e64sOI48hQXyru7naBFyssKFxVd.jpg</td>\n",
       "    </tr>\n",
       "    <tr>\n",
       "      <th>...</th>\n",
       "      <td>...</td>\n",
       "      <td>...</td>\n",
       "      <td>...</td>\n",
       "      <td>...</td>\n",
       "      <td>...</td>\n",
       "      <td>...</td>\n",
       "      <td>...</td>\n",
       "      <td>...</td>\n",
       "      <td>...</td>\n",
       "      <td>...</td>\n",
       "      <td>...</td>\n",
       "      <td>...</td>\n",
       "      <td>...</td>\n",
       "      <td>...</td>\n",
       "      <td>...</td>\n",
       "      <td>...</td>\n",
       "      <td>...</td>\n",
       "      <td>...</td>\n",
       "    </tr>\n",
       "    <tr>\n",
       "      <th>45461</th>\n",
       "      <td>439050</td>\n",
       "      <td>Subdue</td>\n",
       "      <td>Rising and falling between a man and woman</td>\n",
       "      <td>NaT</td>\n",
       "      <td>Drama|Family</td>\n",
       "      <td>NaN</td>\n",
       "      <td>fa</td>\n",
       "      <td>NaN</td>\n",
       "      <td>NaN</td>\n",
       "      <td>NaN</td>\n",
       "      <td>Iran</td>\n",
       "      <td>1.0</td>\n",
       "      <td>4.0</td>\n",
       "      <td>0.072051</td>\n",
       "      <td>90.0</td>\n",
       "      <td>Rising and falling between a man and woman.</td>\n",
       "      <td>فارسی</td>\n",
       "      <td>/jldsYflnId4tTWPx8es3uzsB1I8.jpg</td>\n",
       "    </tr>\n",
       "    <tr>\n",
       "      <th>45462</th>\n",
       "      <td>111109</td>\n",
       "      <td>Century of Birthing</td>\n",
       "      <td>NaN</td>\n",
       "      <td>2011-11-17</td>\n",
       "      <td>Drama</td>\n",
       "      <td>NaN</td>\n",
       "      <td>tl</td>\n",
       "      <td>NaN</td>\n",
       "      <td>NaN</td>\n",
       "      <td>Sine Olivia</td>\n",
       "      <td>Philippines</td>\n",
       "      <td>3.0</td>\n",
       "      <td>9.0</td>\n",
       "      <td>0.178241</td>\n",
       "      <td>360.0</td>\n",
       "      <td>An artist struggles to finish his work while a...</td>\n",
       "      <td>NaN</td>\n",
       "      <td>/xZkmxsNmYXJbKVsTRLLx3pqGHx7.jpg</td>\n",
       "    </tr>\n",
       "    <tr>\n",
       "      <th>45463</th>\n",
       "      <td>67758</td>\n",
       "      <td>Betrayal</td>\n",
       "      <td>A deadly game of wits.</td>\n",
       "      <td>2003-08-01</td>\n",
       "      <td>Action|Drama|Thriller</td>\n",
       "      <td>NaN</td>\n",
       "      <td>en</td>\n",
       "      <td>NaN</td>\n",
       "      <td>NaN</td>\n",
       "      <td>American World Pictures</td>\n",
       "      <td>United States of America</td>\n",
       "      <td>6.0</td>\n",
       "      <td>3.8</td>\n",
       "      <td>0.903007</td>\n",
       "      <td>90.0</td>\n",
       "      <td>When one of her hits goes wrong, a professiona...</td>\n",
       "      <td>English</td>\n",
       "      <td>/d5bX92nDsISNhu3ZT69uHwmfCGw.jpg</td>\n",
       "    </tr>\n",
       "    <tr>\n",
       "      <th>45464</th>\n",
       "      <td>227506</td>\n",
       "      <td>Satan Triumphant</td>\n",
       "      <td>NaN</td>\n",
       "      <td>1917-10-21</td>\n",
       "      <td>NaN</td>\n",
       "      <td>NaN</td>\n",
       "      <td>en</td>\n",
       "      <td>NaN</td>\n",
       "      <td>NaN</td>\n",
       "      <td>Yermoliev</td>\n",
       "      <td>Russia</td>\n",
       "      <td>0.0</td>\n",
       "      <td>NaN</td>\n",
       "      <td>0.003503</td>\n",
       "      <td>87.0</td>\n",
       "      <td>In a small town live two brothers, one a minis...</td>\n",
       "      <td>NaN</td>\n",
       "      <td>/aorBPO7ak8e8iJKT5OcqYxU3jlK.jpg</td>\n",
       "    </tr>\n",
       "    <tr>\n",
       "      <th>45465</th>\n",
       "      <td>461257</td>\n",
       "      <td>Queerama</td>\n",
       "      <td>NaN</td>\n",
       "      <td>2017-06-09</td>\n",
       "      <td>NaN</td>\n",
       "      <td>NaN</td>\n",
       "      <td>en</td>\n",
       "      <td>NaN</td>\n",
       "      <td>NaN</td>\n",
       "      <td>NaN</td>\n",
       "      <td>United Kingdom</td>\n",
       "      <td>0.0</td>\n",
       "      <td>NaN</td>\n",
       "      <td>0.163015</td>\n",
       "      <td>75.0</td>\n",
       "      <td>50 years after decriminalisation of homosexual...</td>\n",
       "      <td>English</td>\n",
       "      <td>/s5UkZt6NTsrS7ZF0Rh8nzupRlIU.jpg</td>\n",
       "    </tr>\n",
       "  </tbody>\n",
       "</table>\n",
       "<p>44863 rows × 18 columns</p>\n",
       "</div>"
      ],
      "text/plain": [
       "           id                        title  \\\n",
       "0         862                    Toy Story   \n",
       "1        8844                      Jumanji   \n",
       "2       15602             Grumpier Old Men   \n",
       "3       31357            Waiting to Exhale   \n",
       "4       11862  Father of the Bride Part II   \n",
       "...       ...                          ...   \n",
       "45461  439050                       Subdue   \n",
       "45462  111109          Century of Birthing   \n",
       "45463   67758                     Betrayal   \n",
       "45464  227506             Satan Triumphant   \n",
       "45465  461257                     Queerama   \n",
       "\n",
       "                                                 tagline release_date  \\\n",
       "0                                                    NaN   1995-10-30   \n",
       "1              Roll the dice and unleash the excitement!   1995-12-15   \n",
       "2      Still Yelling. Still Fighting. Still Ready for...   1995-12-22   \n",
       "3      Friends are the people who let you be yourself...   1995-12-22   \n",
       "4      Just When His World Is Back To Normal... He's ...   1995-02-10   \n",
       "...                                                  ...          ...   \n",
       "45461         Rising and falling between a man and woman          NaT   \n",
       "45462                                                NaN   2011-11-17   \n",
       "45463                             A deadly game of wits.   2003-08-01   \n",
       "45464                                                NaN   1917-10-21   \n",
       "45465                                                NaN   2017-06-09   \n",
       "\n",
       "                         genres           belongs_to_collection  \\\n",
       "0       Animation|Comedy|Family            Toy Story Collection   \n",
       "1      Adventure|Fantasy|Family                             NaN   \n",
       "2                Romance|Comedy       Grumpy Old Men Collection   \n",
       "3          Comedy|Drama|Romance                             NaN   \n",
       "4                        Comedy  Father of the Bride Collection   \n",
       "...                         ...                             ...   \n",
       "45461              Drama|Family                             NaN   \n",
       "45462                     Drama                             NaN   \n",
       "45463     Action|Drama|Thriller                             NaN   \n",
       "45464                       NaN                             NaN   \n",
       "45465                       NaN                             NaN   \n",
       "\n",
       "      original_language  budget_musd  revenue_musd  \\\n",
       "0                    en         30.0    373.554033   \n",
       "1                    en         65.0    262.797249   \n",
       "2                    en          NaN           NaN   \n",
       "3                    en         16.0     81.452156   \n",
       "4                    en          NaN     76.578911   \n",
       "...                 ...          ...           ...   \n",
       "45461                fa          NaN           NaN   \n",
       "45462                tl          NaN           NaN   \n",
       "45463                en          NaN           NaN   \n",
       "45464                en          NaN           NaN   \n",
       "45465                en          NaN           NaN   \n",
       "\n",
       "                                    production_companies  \\\n",
       "0                                Pixar Animation Studios   \n",
       "1      TriStar Pictures|Teitler Film|Interscope Commu...   \n",
       "2                            Warner Bros.|Lancaster Gate   \n",
       "3                 Twentieth Century Fox Film Corporation   \n",
       "4              Sandollar Productions|Touchstone Pictures   \n",
       "...                                                  ...   \n",
       "45461                                                NaN   \n",
       "45462                                        Sine Olivia   \n",
       "45463                            American World Pictures   \n",
       "45464                                          Yermoliev   \n",
       "45465                                                NaN   \n",
       "\n",
       "           production_countries  vote_count  vote_average  popularity  \\\n",
       "0      United States of America      5415.0           7.7   21.946943   \n",
       "1      United States of America      2413.0           6.9   17.015539   \n",
       "2      United States of America        92.0           6.5   11.712900   \n",
       "3      United States of America        34.0           6.1    3.859495   \n",
       "4      United States of America       173.0           5.7    8.387519   \n",
       "...                         ...         ...           ...         ...   \n",
       "45461                      Iran         1.0           4.0    0.072051   \n",
       "45462               Philippines         3.0           9.0    0.178241   \n",
       "45463  United States of America         6.0           3.8    0.903007   \n",
       "45464                    Russia         0.0           NaN    0.003503   \n",
       "45465            United Kingdom         0.0           NaN    0.163015   \n",
       "\n",
       "       runtime                                           overview  \\\n",
       "0         81.0  Led by Woody, Andy's toys live happily in his ...   \n",
       "1        104.0  When siblings Judy and Peter discover an encha...   \n",
       "2        101.0  A family wedding reignites the ancient feud be...   \n",
       "3        127.0  Cheated on, mistreated and stepped on, the wom...   \n",
       "4        106.0  Just when George Banks has recovered from his ...   \n",
       "...        ...                                                ...   \n",
       "45461     90.0        Rising and falling between a man and woman.   \n",
       "45462    360.0  An artist struggles to finish his work while a...   \n",
       "45463     90.0  When one of her hits goes wrong, a professiona...   \n",
       "45464     87.0  In a small town live two brothers, one a minis...   \n",
       "45465     75.0  50 years after decriminalisation of homosexual...   \n",
       "\n",
       "       spoken_languages                       poster_path  \n",
       "0               English  /rhIRbceoE9lR4veEXuwCC2wARtG.jpg  \n",
       "1      English|Français  /vzmL6fP7aPKNKPRTFnZmiUfciyV.jpg  \n",
       "2               English  /6ksm1sjKMFLbO7UY2i6G1ju9SML.jpg  \n",
       "3               English  /16XOMpEaLWkrcPqSQqhTmeJuqQl.jpg  \n",
       "4               English  /e64sOI48hQXyru7naBFyssKFxVd.jpg  \n",
       "...                 ...                               ...  \n",
       "45461             فارسی  /jldsYflnId4tTWPx8es3uzsB1I8.jpg  \n",
       "45462               NaN  /xZkmxsNmYXJbKVsTRLLx3pqGHx7.jpg  \n",
       "45463           English  /d5bX92nDsISNhu3ZT69uHwmfCGw.jpg  \n",
       "45464               NaN  /aorBPO7ak8e8iJKT5OcqYxU3jlK.jpg  \n",
       "45465           English  /s5UkZt6NTsrS7ZF0Rh8nzupRlIU.jpg  \n",
       "\n",
       "[44863 rows x 18 columns]"
      ]
     },
     "execution_count": 159,
     "metadata": {},
     "output_type": "execute_result"
    }
   ],
   "source": [
    "df"
   ]
  },
  {
   "cell_type": "code",
   "execution_count": 160,
   "id": "f4f25f9b",
   "metadata": {},
   "outputs": [],
   "source": [
    "# we have 45,465 rows, we dropped many rows, so we must perform reset index:\n",
    "df.reset_index(drop = True, inplace = True)"
   ]
  },
  {
   "cell_type": "code",
   "execution_count": 161,
   "id": "686fcd56",
   "metadata": {},
   "outputs": [
    {
     "name": "stdout",
     "output_type": "stream",
     "text": [
      "<class 'pandas.core.frame.DataFrame'>\n",
      "RangeIndex: 44863 entries, 0 to 44862\n",
      "Data columns (total 18 columns):\n",
      " #   Column                 Non-Null Count  Dtype         \n",
      "---  ------                 --------------  -----         \n",
      " 0   id                     44863 non-null  int32         \n",
      " 1   title                  44863 non-null  object        \n",
      " 2   tagline                20285 non-null  object        \n",
      " 3   release_date           44820 non-null  datetime64[ns]\n",
      " 4   genres                 42597 non-null  object        \n",
      " 5   belongs_to_collection  4463 non-null   object        \n",
      " 6   original_language      44853 non-null  object        \n",
      " 7   budget_musd            8855 non-null   float64       \n",
      " 8   revenue_musd           7385 non-null   float64       \n",
      " 9   production_companies   33357 non-null  object        \n",
      " 10  production_countries   44863 non-null  object        \n",
      " 11  vote_count             44863 non-null  float64       \n",
      " 12  vote_average           42137 non-null  float64       \n",
      " 13  popularity             44863 non-null  float64       \n",
      " 14  runtime                43228 non-null  float64       \n",
      " 15  overview               43844 non-null  object        \n",
      " 16  spoken_languages       41106 non-null  object        \n",
      " 17  poster_path            44581 non-null  object        \n",
      "dtypes: datetime64[ns](1), float64(6), int32(1), object(10)\n",
      "memory usage: 6.0+ MB\n"
     ]
    }
   ],
   "source": [
    "df.info()"
   ]
  },
  {
   "cell_type": "markdown",
   "id": "2cec3aba",
   "metadata": {},
   "source": [
    "### poster_path column:"
   ]
  },
  {
   "cell_type": "code",
   "execution_count": 163,
   "id": "5350f227",
   "metadata": {},
   "outputs": [
    {
     "data": {
      "text/plain": [
       "'/rhIRbceoE9lR4veEXuwCC2wARtG.jpg'"
      ]
     },
     "execution_count": 163,
     "metadata": {},
     "output_type": "execute_result"
    }
   ],
   "source": [
    "df.poster_path[0]"
   ]
  },
  {
   "cell_type": "code",
   "execution_count": 164,
   "id": "d163c3eb",
   "metadata": {},
   "outputs": [],
   "source": [
    "# we must make it a useful URL by adding the missing parts of it :\n",
    "base_poster_url = 'http://image.tmdb.org/t/p/w185/'\n",
    "df.poster_path = \"<img src='\" + base_poster_url + df.poster_path + \"'style='height:100px;'>\""
   ]
  },
  {
   "cell_type": "code",
   "execution_count": 165,
   "id": "536b8b31",
   "metadata": {},
   "outputs": [
    {
     "data": {
      "text/plain": [
       "\"<img src='http://image.tmdb.org/t/p/w185//rhIRbceoE9lR4veEXuwCC2wARtG.jpg'style='height:100px;'>\""
      ]
     },
     "execution_count": 165,
     "metadata": {},
     "output_type": "execute_result"
    }
   ],
   "source": [
    "df.poster_path[0]"
   ]
  },
  {
   "cell_type": "code",
   "execution_count": 166,
   "id": "27031d44",
   "metadata": {},
   "outputs": [],
   "source": [
    "# convert to csv :\n",
    "df.to_csv(\"movies_clean.csv\", index = False)"
   ]
  },
  {
   "cell_type": "code",
   "execution_count": 167,
   "id": "a919b3a9",
   "metadata": {},
   "outputs": [
    {
     "data": {
      "text/html": [
       "<div>\n",
       "<style scoped>\n",
       "    .dataframe tbody tr th:only-of-type {\n",
       "        vertical-align: middle;\n",
       "    }\n",
       "\n",
       "    .dataframe tbody tr th {\n",
       "        vertical-align: top;\n",
       "    }\n",
       "\n",
       "    .dataframe thead th {\n",
       "        text-align: right;\n",
       "    }\n",
       "</style>\n",
       "<table border=\"1\" class=\"dataframe\">\n",
       "  <thead>\n",
       "    <tr style=\"text-align: right;\">\n",
       "      <th></th>\n",
       "      <th>id</th>\n",
       "      <th>title</th>\n",
       "      <th>tagline</th>\n",
       "      <th>release_date</th>\n",
       "      <th>genres</th>\n",
       "      <th>belongs_to_collection</th>\n",
       "      <th>original_language</th>\n",
       "      <th>budget_musd</th>\n",
       "      <th>revenue_musd</th>\n",
       "      <th>production_companies</th>\n",
       "      <th>production_countries</th>\n",
       "      <th>vote_count</th>\n",
       "      <th>vote_average</th>\n",
       "      <th>popularity</th>\n",
       "      <th>runtime</th>\n",
       "      <th>overview</th>\n",
       "      <th>spoken_languages</th>\n",
       "      <th>poster_path</th>\n",
       "    </tr>\n",
       "  </thead>\n",
       "  <tbody>\n",
       "    <tr>\n",
       "      <th>0</th>\n",
       "      <td>862</td>\n",
       "      <td>Toy Story</td>\n",
       "      <td>NaN</td>\n",
       "      <td>1995-10-30</td>\n",
       "      <td>Animation|Comedy|Family</td>\n",
       "      <td>Toy Story Collection</td>\n",
       "      <td>en</td>\n",
       "      <td>30.0</td>\n",
       "      <td>373.554033</td>\n",
       "      <td>Pixar Animation Studios</td>\n",
       "      <td>United States of America</td>\n",
       "      <td>5415.0</td>\n",
       "      <td>7.7</td>\n",
       "      <td>21.946943</td>\n",
       "      <td>81.0</td>\n",
       "      <td>Led by Woody, Andy's toys live happily in his ...</td>\n",
       "      <td>English</td>\n",
       "      <td>&lt;img src='http://image.tmdb.org/t/p/w185//rhIR...</td>\n",
       "    </tr>\n",
       "    <tr>\n",
       "      <th>1</th>\n",
       "      <td>8844</td>\n",
       "      <td>Jumanji</td>\n",
       "      <td>Roll the dice and unleash the excitement!</td>\n",
       "      <td>1995-12-15</td>\n",
       "      <td>Adventure|Fantasy|Family</td>\n",
       "      <td>NaN</td>\n",
       "      <td>en</td>\n",
       "      <td>65.0</td>\n",
       "      <td>262.797249</td>\n",
       "      <td>TriStar Pictures|Teitler Film|Interscope Commu...</td>\n",
       "      <td>United States of America</td>\n",
       "      <td>2413.0</td>\n",
       "      <td>6.9</td>\n",
       "      <td>17.015539</td>\n",
       "      <td>104.0</td>\n",
       "      <td>When siblings Judy and Peter discover an encha...</td>\n",
       "      <td>English|Français</td>\n",
       "      <td>&lt;img src='http://image.tmdb.org/t/p/w185//vzmL...</td>\n",
       "    </tr>\n",
       "    <tr>\n",
       "      <th>2</th>\n",
       "      <td>15602</td>\n",
       "      <td>Grumpier Old Men</td>\n",
       "      <td>Still Yelling. Still Fighting. Still Ready for...</td>\n",
       "      <td>1995-12-22</td>\n",
       "      <td>Romance|Comedy</td>\n",
       "      <td>Grumpy Old Men Collection</td>\n",
       "      <td>en</td>\n",
       "      <td>NaN</td>\n",
       "      <td>NaN</td>\n",
       "      <td>Warner Bros.|Lancaster Gate</td>\n",
       "      <td>United States of America</td>\n",
       "      <td>92.0</td>\n",
       "      <td>6.5</td>\n",
       "      <td>11.712900</td>\n",
       "      <td>101.0</td>\n",
       "      <td>A family wedding reignites the ancient feud be...</td>\n",
       "      <td>English</td>\n",
       "      <td>&lt;img src='http://image.tmdb.org/t/p/w185//6ksm...</td>\n",
       "    </tr>\n",
       "    <tr>\n",
       "      <th>3</th>\n",
       "      <td>31357</td>\n",
       "      <td>Waiting to Exhale</td>\n",
       "      <td>Friends are the people who let you be yourself...</td>\n",
       "      <td>1995-12-22</td>\n",
       "      <td>Comedy|Drama|Romance</td>\n",
       "      <td>NaN</td>\n",
       "      <td>en</td>\n",
       "      <td>16.0</td>\n",
       "      <td>81.452156</td>\n",
       "      <td>Twentieth Century Fox Film Corporation</td>\n",
       "      <td>United States of America</td>\n",
       "      <td>34.0</td>\n",
       "      <td>6.1</td>\n",
       "      <td>3.859495</td>\n",
       "      <td>127.0</td>\n",
       "      <td>Cheated on, mistreated and stepped on, the wom...</td>\n",
       "      <td>English</td>\n",
       "      <td>&lt;img src='http://image.tmdb.org/t/p/w185//16XO...</td>\n",
       "    </tr>\n",
       "    <tr>\n",
       "      <th>4</th>\n",
       "      <td>11862</td>\n",
       "      <td>Father of the Bride Part II</td>\n",
       "      <td>Just When His World Is Back To Normal... He's ...</td>\n",
       "      <td>1995-02-10</td>\n",
       "      <td>Comedy</td>\n",
       "      <td>Father of the Bride Collection</td>\n",
       "      <td>en</td>\n",
       "      <td>NaN</td>\n",
       "      <td>76.578911</td>\n",
       "      <td>Sandollar Productions|Touchstone Pictures</td>\n",
       "      <td>United States of America</td>\n",
       "      <td>173.0</td>\n",
       "      <td>5.7</td>\n",
       "      <td>8.387519</td>\n",
       "      <td>106.0</td>\n",
       "      <td>Just when George Banks has recovered from his ...</td>\n",
       "      <td>English</td>\n",
       "      <td>&lt;img src='http://image.tmdb.org/t/p/w185//e64s...</td>\n",
       "    </tr>\n",
       "  </tbody>\n",
       "</table>\n",
       "</div>"
      ],
      "text/plain": [
       "      id                        title  \\\n",
       "0    862                    Toy Story   \n",
       "1   8844                      Jumanji   \n",
       "2  15602             Grumpier Old Men   \n",
       "3  31357            Waiting to Exhale   \n",
       "4  11862  Father of the Bride Part II   \n",
       "\n",
       "                                             tagline release_date  \\\n",
       "0                                                NaN   1995-10-30   \n",
       "1          Roll the dice and unleash the excitement!   1995-12-15   \n",
       "2  Still Yelling. Still Fighting. Still Ready for...   1995-12-22   \n",
       "3  Friends are the people who let you be yourself...   1995-12-22   \n",
       "4  Just When His World Is Back To Normal... He's ...   1995-02-10   \n",
       "\n",
       "                     genres           belongs_to_collection original_language  \\\n",
       "0   Animation|Comedy|Family            Toy Story Collection                en   \n",
       "1  Adventure|Fantasy|Family                             NaN                en   \n",
       "2            Romance|Comedy       Grumpy Old Men Collection                en   \n",
       "3      Comedy|Drama|Romance                             NaN                en   \n",
       "4                    Comedy  Father of the Bride Collection                en   \n",
       "\n",
       "   budget_musd  revenue_musd  \\\n",
       "0         30.0    373.554033   \n",
       "1         65.0    262.797249   \n",
       "2          NaN           NaN   \n",
       "3         16.0     81.452156   \n",
       "4          NaN     76.578911   \n",
       "\n",
       "                                production_companies  \\\n",
       "0                            Pixar Animation Studios   \n",
       "1  TriStar Pictures|Teitler Film|Interscope Commu...   \n",
       "2                        Warner Bros.|Lancaster Gate   \n",
       "3             Twentieth Century Fox Film Corporation   \n",
       "4          Sandollar Productions|Touchstone Pictures   \n",
       "\n",
       "       production_countries  vote_count  vote_average  popularity  runtime  \\\n",
       "0  United States of America      5415.0           7.7   21.946943     81.0   \n",
       "1  United States of America      2413.0           6.9   17.015539    104.0   \n",
       "2  United States of America        92.0           6.5   11.712900    101.0   \n",
       "3  United States of America        34.0           6.1    3.859495    127.0   \n",
       "4  United States of America       173.0           5.7    8.387519    106.0   \n",
       "\n",
       "                                            overview  spoken_languages  \\\n",
       "0  Led by Woody, Andy's toys live happily in his ...           English   \n",
       "1  When siblings Judy and Peter discover an encha...  English|Français   \n",
       "2  A family wedding reignites the ancient feud be...           English   \n",
       "3  Cheated on, mistreated and stepped on, the wom...           English   \n",
       "4  Just when George Banks has recovered from his ...           English   \n",
       "\n",
       "                                         poster_path  \n",
       "0  <img src='http://image.tmdb.org/t/p/w185//rhIR...  \n",
       "1  <img src='http://image.tmdb.org/t/p/w185//vzmL...  \n",
       "2  <img src='http://image.tmdb.org/t/p/w185//6ksm...  \n",
       "3  <img src='http://image.tmdb.org/t/p/w185//16XO...  \n",
       "4  <img src='http://image.tmdb.org/t/p/w185//e64s...  "
      ]
     },
     "execution_count": 167,
     "metadata": {},
     "output_type": "execute_result"
    }
   ],
   "source": [
    "pd.read_csv(\"movies_clean.csv\").head()"
   ]
  },
  {
   "cell_type": "code",
   "execution_count": null,
   "id": "76c18cd6",
   "metadata": {},
   "outputs": [],
   "source": []
  }
 ],
 "metadata": {
  "kernelspec": {
   "display_name": "Python 3",
   "language": "python",
   "name": "python3"
  },
  "language_info": {
   "codemirror_mode": {
    "name": "ipython",
    "version": 3
   },
   "file_extension": ".py",
   "mimetype": "text/x-python",
   "name": "python",
   "nbconvert_exporter": "python",
   "pygments_lexer": "ipython3",
   "version": "3.8.8"
  }
 },
 "nbformat": 4,
 "nbformat_minor": 5
}
